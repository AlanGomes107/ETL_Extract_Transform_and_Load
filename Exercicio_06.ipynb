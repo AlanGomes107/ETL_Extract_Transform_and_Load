{
  "nbformat": 4,
  "nbformat_minor": 0,
  "metadata": {
    "colab": {
      "name": "Exercicio_06.ipynb",
      "provenance": [],
      "authorship_tag": "ABX9TyPVNaMVRaMxiX+Ddc7Yk2go",
      "include_colab_link": true
    },
    "kernelspec": {
      "name": "python3",
      "display_name": "Python 3"
    },
    "language_info": {
      "name": "python"
    }
  },
  "cells": [
    {
      "cell_type": "markdown",
      "metadata": {
        "id": "view-in-github",
        "colab_type": "text"
      },
      "source": [
        "<a href=\"https://colab.research.google.com/github/AlanGomes107/ETL_Extract_Transform_and_Load/blob/main/Exercicio_06.ipynb\" target=\"_parent\"><img src=\"https://colab.research.google.com/assets/colab-badge.svg\" alt=\"Open In Colab\"/></a>"
      ]
    },
    {
      "cell_type": "markdown",
      "metadata": {
        "id": "D3BxzCpUyd2g"
      },
      "source": [
        "# ***Carregue a base de dados “superbowl.csv” em uma variável do tipo pandas DataFrame chamado dados.***"
      ]
    },
    {
      "cell_type": "code",
      "metadata": {
        "id": "e-byXu3YyYx3"
      },
      "source": [
        "import pandas as pd\n",
        "import numpy as np"
      ],
      "execution_count": 1,
      "outputs": []
    },
    {
      "cell_type": "code",
      "metadata": {
        "colab": {
          "base_uri": "https://localhost:8080/"
        },
        "id": "hjxwZeumyjSV",
        "outputId": "62d28684-8d63-4dbc-b9e4-1ebdcb365e18"
      },
      "source": [
        "dados = pd.read_csv(\"superbowl.csv\", sep=\",\")\n",
        "print(dados)"
      ],
      "execution_count": 2,
      "outputs": [
        {
          "output_type": "stream",
          "name": "stdout",
          "text": [
            "           Date            SB  ...             City       State\n",
            "0    Feb 2 2020      LIV (54)  ...    Miami Gardens     Florida\n",
            "1    Feb 3 2019     LIII (53)  ...          Atlanta     Georgia\n",
            "2    Feb 4 2018      LII (52)  ...      Minneapolis   Minnesota\n",
            "3    Feb 5 2017       LI (51)  ...          Houston       Texas\n",
            "4    Feb 7 2016            50  ...      Santa Clara  California\n",
            "5    Feb 1 2015     XLIX (49)  ...         Glendale     Arizona\n",
            "6    Feb 2 2014   XLVIII (48)  ...  East Rutherford  New Jersey\n",
            "7    Feb 3 2013    XLVII (47)  ...      New Orleans   Louisiana\n",
            "8    Feb 5 2012     XLVI (46)  ...     Indianapolis     Indiana\n",
            "9    Feb 6 2011      XLV (45)  ...        Arlington       Texas\n",
            "10   Feb 7 2010     XLIV (44)  ...    Miami Gardens     Florida\n",
            "11   Feb 1 2009    XLIII (43)  ...            Tampa     Florida\n",
            "12   Feb 3 2008     XLII (42)  ...         Glendale     Arizona\n",
            "13   Feb 4 2007      XLI (41)  ...    Miami Gardens     Florida\n",
            "14   Feb 5 2006       XL (40)  ...          Detroit    Michigan\n",
            "15   Feb 6 2005    XXXIX (39)  ...     Jacksonville     Florida\n",
            "16   Feb 1 2004  XXXVIII (38)  ...          Houston       Texas\n",
            "17  Jan 26 2003   XXXVII (37)  ...        San Diego  California\n",
            "18   Feb 3 2002    XXXVI (36)  ...      New Orleans   Louisiana\n",
            "19  Jan 28 2001     XXXV (35)  ...            Tampa     Florida\n",
            "20  Jan 30 2000    XXXIV (34)  ...          Atlanta     Georgia\n",
            "21  Jan 31 1999   XXXIII (33)  ...    Miami Gardens     Florida\n",
            "22  Jan 25 1998    XXXII (32)  ...        San Diego  California\n",
            "23  Jan 26 1997     XXXI (31)  ...      New Orleans   Louisiana\n",
            "24  Jan 28 1996      XXX (30)  ...            Tempe     Arizona\n",
            "25  Jan 29 1995     XXIX (29)  ...    Miami Gardens     Florida\n",
            "26  Jan 30 1994   XXVIII (28)  ...          Atlanta     Georgia\n",
            "27  Jan 31 1993    XXVII (27)  ...         Pasadena  California\n",
            "28  Jan 26 1992     XXVI (26)  ...      Minneapolis   Minnesota\n",
            "29  Jan 27 1991      XXV (25)  ...            Tampa     Florida\n",
            "30  Jan 28 1990     XXIV (24)  ...      New Orleans   Louisiana\n",
            "31  Jan 22 1989    XXIII (23)  ...    Miami Gardens     Florida\n",
            "32  Jan 31 1988     XXII (22)  ...        San Diego  California\n",
            "33  Jan 25 1987      XXI (21)  ...         Pasadena  California\n",
            "34  Jan 26 1986       XX (20)  ...      New Orleans   Louisiana\n",
            "35  Jan 20 1985      XIX (19)  ...        Palo Alto  California\n",
            "36  Jan 22 1984    XVIII (18)  ...            Tampa     Florida\n",
            "37  Jan 30 1983     XVII (17)  ...         Pasadena  California\n",
            "38  Jan 24 1982      XVI (16)  ...          Pontiac    Michigan\n",
            "39  Jan 25 1981       XV (15)  ...      New Orleans   Louisiana\n",
            "40  Jan 20 1980      XIV (14)  ...         Pasadena  California\n",
            "41  Jan 21 1979     XIII (13)  ...            Miami     Florida\n",
            "42  Jan 15 1978      XII (12)  ...      New Orleans   Louisiana\n",
            "43   Jan 9 1977       XI (11)  ...         Pasadena  California\n",
            "44  Jan 18 1976        X (10)  ...            Miami     Florida\n",
            "45  Jan 12 1975        IX (9)  ...      New Orleans   Louisiana\n",
            "46  Jan 13 1974      VIII (8)  ...          Houston       Texas\n",
            "47  Jan 14 1973       VII (7)  ...      Los Angeles  California\n",
            "48  Jan 16 1972        VI (6)  ...      New Orleans   Louisiana\n",
            "49  Jan 17 1971         V (5)  ...            Miami     Florida\n",
            "50  Jan 11 1970        IV (4)  ...      New Orleans   Louisiana\n",
            "51  Jan 12 1969       III (3)  ...            Miami     Florida\n",
            "52  Jan 14 1968        II (2)  ...            Miami     Florida\n",
            "53  Jan 15 1967         I (1)  ...      Los Angeles  California\n",
            "\n",
            "[54 rows x 10 columns]\n"
          ]
        }
      ]
    },
    {
      "cell_type": "markdown",
      "metadata": {
        "id": "cD27mbCGy0Wx"
      },
      "source": [
        "# ***Exiba o nome de todas as colunas da base***"
      ]
    },
    {
      "cell_type": "code",
      "metadata": {
        "colab": {
          "base_uri": "https://localhost:8080/"
        },
        "id": "0Lm5MM0xyjVY",
        "outputId": "e1cb41db-5b79-4708-da00-8395ff25b7c7"
      },
      "source": [
        "dados.columns"
      ],
      "execution_count": 3,
      "outputs": [
        {
          "output_type": "execute_result",
          "data": {
            "text/plain": [
              "Index(['Date', 'SB', 'Winner', 'Winner Pts', 'Loser', 'Loser Pts', 'MVP',\n",
              "       'Stadium', 'City', 'State'],\n",
              "      dtype='object')"
            ]
          },
          "metadata": {},
          "execution_count": 3
        }
      ]
    },
    {
      "cell_type": "markdown",
      "metadata": {
        "id": "IPmrCcK2y8Mm"
      },
      "source": [
        "# ***Utilizando os recursos do Pandas encontre a mediana da coluna ‘Winner Pts’. Armazene o valor da mediana na variável chamada mediana.***"
      ]
    },
    {
      "cell_type": "code",
      "metadata": {
        "id": "WJvTcO6ZyjYP"
      },
      "source": [
        "mediana = dados[\"Winner Pts\"].median() #Utilizando pandas"
      ],
      "execution_count": 4,
      "outputs": []
    },
    {
      "cell_type": "code",
      "metadata": {
        "id": "DbZepNkZyjd0"
      },
      "source": [
        "mediana_numpy = np.median(dados[\"Winner Pts\"]) #Utilizando Numpy"
      ],
      "execution_count": 6,
      "outputs": []
    },
    {
      "cell_type": "code",
      "metadata": {
        "id": "NTB4XcvuyjjN"
      },
      "source": [
        "Exiba o valor da variável mediana no notebook."
      ],
      "execution_count": null,
      "outputs": []
    },
    {
      "cell_type": "code",
      "metadata": {
        "colab": {
          "base_uri": "https://localhost:8080/"
        },
        "id": "DiXqxiC8yjmX",
        "outputId": "f2d77e5f-9e04-4b9a-f1c0-4a5c675f8f73"
      },
      "source": [
        "print(mediana)"
      ],
      "execution_count": 8,
      "outputs": [
        {
          "output_type": "stream",
          "name": "stdout",
          "text": [
            "30.5\n"
          ]
        }
      ]
    },
    {
      "cell_type": "code",
      "metadata": {
        "id": "JkZfvbEmzRZM"
      },
      "source": [
        "print(mediana_numpy)"
      ],
      "execution_count": null,
      "outputs": []
    },
    {
      "cell_type": "markdown",
      "metadata": {
        "id": "VxgrrRzjzW9N"
      },
      "source": [
        "# ***Utilizando os recursos do Pandas encontre a mediana inferior da coluna ‘Winner Pts’, isto é, a medida entre os valores que estão abaixo do valor da variável mediana. Armazene o valor na variável chamada mediana_inf.***"
      ]
    },
    {
      "cell_type": "code",
      "metadata": {
        "id": "D0XJuyG6zRcM"
      },
      "source": [
        "mediana_inf = dados[\"Winner Pts\"][dados[\"Winner Pts\"] < mediana].dropna().median()"
      ],
      "execution_count": 9,
      "outputs": []
    },
    {
      "cell_type": "markdown",
      "metadata": {
        "id": "gdogVOAmzewW"
      },
      "source": [
        "# ***Exiba o valor da variável mediana_inf no notebook.***"
      ]
    },
    {
      "cell_type": "code",
      "metadata": {
        "colab": {
          "base_uri": "https://localhost:8080/"
        },
        "id": "RJYyAio8zRe8",
        "outputId": "e73ecafd-9732-4e7c-d50f-7e3f4b7cc60d"
      },
      "source": [
        "print(mediana_inf)"
      ],
      "execution_count": 10,
      "outputs": [
        {
          "output_type": "stream",
          "name": "stdout",
          "text": [
            "23.0\n"
          ]
        }
      ]
    },
    {
      "cell_type": "markdown",
      "metadata": {
        "id": "BAQPTuXFzwy9"
      },
      "source": [
        "#Agora, novamente usando o Pandas, encontre a mediana superior da ‘Winner Pts’. Ou seja, a medida entre os valores que estão acima do valor da variável mediana. Armazene o valor na variável chamada mediana_sup."
      ]
    },
    {
      "cell_type": "code",
      "metadata": {
        "id": "FKbECHJDzpZ-"
      },
      "source": [
        "mediana_sup = dados[\"Winner Pts\"][dados[\"Winner Pts\"] > mediana].dropna().median()"
      ],
      "execution_count": 12,
      "outputs": []
    },
    {
      "cell_type": "markdown",
      "metadata": {
        "id": "A1YFunXhz5Qm"
      },
      "source": [
        "# ***Exiba o valor da variável mediana_sup no notebook.***"
      ]
    },
    {
      "cell_type": "code",
      "metadata": {
        "colab": {
          "base_uri": "https://localhost:8080/"
        },
        "id": "Cz7gyHAtzz_t",
        "outputId": "bb444fe9-5959-41a6-a88e-4a808e0437b4"
      },
      "source": [
        "print(mediana_sup)"
      ],
      "execution_count": 13,
      "outputs": [
        {
          "output_type": "stream",
          "name": "stdout",
          "text": [
            "35.0\n"
          ]
        }
      ]
    },
    {
      "cell_type": "markdown",
      "metadata": {
        "id": "sxu9O0G10DqG"
      },
      "source": [
        "Selecione todos as linhas que têm valor de ‘Winner Pts’ acima da mediana inferior e maior que a mediana superior. Armazene o resultado em um novo DataFrame chamado dados_novos."
      ]
    },
    {
      "cell_type": "code",
      "metadata": {
        "id": "2TkC1WZlz0Cx"
      },
      "source": [
        "dados_novos = dados[(dados[\"Winner Pts\"] > mediana_inf) & (dados[\"Winner Pts\"] < mediana_sup)]"
      ],
      "execution_count": 14,
      "outputs": []
    },
    {
      "cell_type": "markdown",
      "metadata": {
        "id": "PnGtLXOC0JIe"
      },
      "source": [
        "Exiba quantos objetos existem no DataFrame dados_novos e exibra quantos objetos existem no DataFrame dados"
      ]
    },
    {
      "cell_type": "code",
      "metadata": {
        "colab": {
          "base_uri": "https://localhost:8080/"
        },
        "id": "qa89PORLz0Fv",
        "outputId": "6b03c160-ad28-4a71-df42-c20e47481fd5"
      },
      "source": [
        "print(dados.shape)\n",
        "print(dados_novos.shape)"
      ],
      "execution_count": 15,
      "outputs": [
        {
          "output_type": "stream",
          "name": "stdout",
          "text": [
            "(54, 10)\n",
            "(25, 10)\n"
          ]
        }
      ]
    },
    {
      "cell_type": "markdown",
      "metadata": {
        "id": "DkUW0oDf0QDE"
      },
      "source": [
        "Calcule o range interquartil, isto é, a diferença entre a mediana superior e mediana inferior. (Salve este valor em uma variável range_interquartil)"
      ]
    },
    {
      "cell_type": "code",
      "metadata": {
        "colab": {
          "base_uri": "https://localhost:8080/"
        },
        "id": "jd4OEJR3zpdG",
        "outputId": "30477de1-e2a2-4bc3-e2e1-de2235096e54"
      },
      "source": [
        "range_interquartil = mediana_sup - mediana_inf\n",
        "range_interquartil"
      ],
      "execution_count": 16,
      "outputs": [
        {
          "output_type": "execute_result",
          "data": {
            "text/plain": [
              "12.0"
            ]
          },
          "metadata": {},
          "execution_count": 16
        }
      ]
    },
    {
      "cell_type": "markdown",
      "metadata": {
        "id": "TvnoiARM0WiG"
      },
      "source": [
        "Calcule a barreira inferior utilizando k = 1.2"
      ]
    },
    {
      "cell_type": "code",
      "metadata": {
        "colab": {
          "base_uri": "https://localhost:8080/"
        },
        "id": "4dlZjF6a0RtM",
        "outputId": "c5b8cb95-cdae-49ec-d17c-41d32f78ac76"
      },
      "source": [
        "barreira_inferior = mediana_inf - 1.2 * (range_interquartil)\n",
        "print(barreira_inferior)"
      ],
      "execution_count": 17,
      "outputs": [
        {
          "output_type": "stream",
          "name": "stdout",
          "text": [
            "8.600000000000001\n"
          ]
        }
      ]
    },
    {
      "cell_type": "markdown",
      "metadata": {
        "id": "dvkFuQOj0ca-"
      },
      "source": [
        "Calcule a barreira superior utilizando k = 1.2"
      ]
    },
    {
      "cell_type": "code",
      "metadata": {
        "colab": {
          "base_uri": "https://localhost:8080/"
        },
        "id": "mmETKdMo0Rv0",
        "outputId": "0d36cfd8-e63b-4556-a556-69ed3e90fc7f"
      },
      "source": [
        "barreira_superior = mediana_sup + 1.2 * (range_interquartil)\n",
        "print(barreira_superior)"
      ],
      "execution_count": 18,
      "outputs": [
        {
          "output_type": "stream",
          "name": "stdout",
          "text": [
            "49.4\n"
          ]
        }
      ]
    },
    {
      "cell_type": "markdown",
      "metadata": {
        "id": "fa6lE4Ui0hNN"
      },
      "source": [
        "A partir da barreira inferior e superior exiba os dados que poderiam ser considerados anomalias."
      ]
    },
    {
      "cell_type": "code",
      "metadata": {
        "colab": {
          "base_uri": "https://localhost:8080/",
          "height": 111
        },
        "id": "vQi_wRjQ0Ryy",
        "outputId": "91e39250-a78d-4766-bcd8-48c33c854518"
      },
      "source": [
        "dados[(dados[\"Winner Pts\"] < barreira_inferior) | (dados[\"Winner Pts\"]>\n",
        "barreira_superior)]"
      ],
      "execution_count": 19,
      "outputs": [
        {
          "output_type": "execute_result",
          "data": {
            "text/html": [
              "<div>\n",
              "<style scoped>\n",
              "    .dataframe tbody tr th:only-of-type {\n",
              "        vertical-align: middle;\n",
              "    }\n",
              "\n",
              "    .dataframe tbody tr th {\n",
              "        vertical-align: top;\n",
              "    }\n",
              "\n",
              "    .dataframe thead th {\n",
              "        text-align: right;\n",
              "    }\n",
              "</style>\n",
              "<table border=\"1\" class=\"dataframe\">\n",
              "  <thead>\n",
              "    <tr style=\"text-align: right;\">\n",
              "      <th></th>\n",
              "      <th>Date</th>\n",
              "      <th>SB</th>\n",
              "      <th>Winner</th>\n",
              "      <th>Winner Pts</th>\n",
              "      <th>Loser</th>\n",
              "      <th>Loser Pts</th>\n",
              "      <th>MVP</th>\n",
              "      <th>Stadium</th>\n",
              "      <th>City</th>\n",
              "      <th>State</th>\n",
              "    </tr>\n",
              "  </thead>\n",
              "  <tbody>\n",
              "    <tr>\n",
              "      <th>27</th>\n",
              "      <td>Jan 31 1993</td>\n",
              "      <td>XXVII (27)</td>\n",
              "      <td>Dallas Cowboys</td>\n",
              "      <td>52</td>\n",
              "      <td>Buffalo Bills</td>\n",
              "      <td>17</td>\n",
              "      <td>Troy Aikman+</td>\n",
              "      <td>Rose Bowl</td>\n",
              "      <td>Pasadena</td>\n",
              "      <td>California</td>\n",
              "    </tr>\n",
              "    <tr>\n",
              "      <th>30</th>\n",
              "      <td>Jan 28 1990</td>\n",
              "      <td>XXIV (24)</td>\n",
              "      <td>San Francisco 49ers</td>\n",
              "      <td>55</td>\n",
              "      <td>Denver Broncos</td>\n",
              "      <td>10</td>\n",
              "      <td>Joe Montana+</td>\n",
              "      <td>Louisiana Superdome</td>\n",
              "      <td>New Orleans</td>\n",
              "      <td>Louisiana</td>\n",
              "    </tr>\n",
              "  </tbody>\n",
              "</table>\n",
              "</div>"
            ],
            "text/plain": [
              "           Date          SB  ...         City       State\n",
              "27  Jan 31 1993  XXVII (27)  ...     Pasadena  California\n",
              "30  Jan 28 1990   XXIV (24)  ...  New Orleans   Louisiana\n",
              "\n",
              "[2 rows x 10 columns]"
            ]
          },
          "metadata": {},
          "execution_count": 19
        }
      ]
    },
    {
      "cell_type": "code",
      "metadata": {
        "colab": {
          "base_uri": "https://localhost:8080/",
          "height": 1000
        },
        "id": "p-JZv4T-0R1i",
        "outputId": "9098d870-0154-4651-a90c-bf6e4b25e0c9"
      },
      "source": [
        "dados[(dados[\"Winner Pts\"] > barreira_inferior) & (dados[\"Winner Pts\"]<\n",
        "barreira_superior)]"
      ],
      "execution_count": 20,
      "outputs": [
        {
          "output_type": "execute_result",
          "data": {
            "text/html": [
              "<div>\n",
              "<style scoped>\n",
              "    .dataframe tbody tr th:only-of-type {\n",
              "        vertical-align: middle;\n",
              "    }\n",
              "\n",
              "    .dataframe tbody tr th {\n",
              "        vertical-align: top;\n",
              "    }\n",
              "\n",
              "    .dataframe thead th {\n",
              "        text-align: right;\n",
              "    }\n",
              "</style>\n",
              "<table border=\"1\" class=\"dataframe\">\n",
              "  <thead>\n",
              "    <tr style=\"text-align: right;\">\n",
              "      <th></th>\n",
              "      <th>Date</th>\n",
              "      <th>SB</th>\n",
              "      <th>Winner</th>\n",
              "      <th>Winner Pts</th>\n",
              "      <th>Loser</th>\n",
              "      <th>Loser Pts</th>\n",
              "      <th>MVP</th>\n",
              "      <th>Stadium</th>\n",
              "      <th>City</th>\n",
              "      <th>State</th>\n",
              "    </tr>\n",
              "  </thead>\n",
              "  <tbody>\n",
              "    <tr>\n",
              "      <th>0</th>\n",
              "      <td>Feb 2 2020</td>\n",
              "      <td>LIV (54)</td>\n",
              "      <td>Kansas City Chiefs</td>\n",
              "      <td>31</td>\n",
              "      <td>San Francisco 49ers</td>\n",
              "      <td>20</td>\n",
              "      <td>Patrick Mahomes</td>\n",
              "      <td>Hard Rock Stadium</td>\n",
              "      <td>Miami Gardens</td>\n",
              "      <td>Florida</td>\n",
              "    </tr>\n",
              "    <tr>\n",
              "      <th>1</th>\n",
              "      <td>Feb 3 2019</td>\n",
              "      <td>LIII (53)</td>\n",
              "      <td>New England Patriots</td>\n",
              "      <td>13</td>\n",
              "      <td>Los Angeles Rams</td>\n",
              "      <td>3</td>\n",
              "      <td>Julian Edelman</td>\n",
              "      <td>Mercedes-Benz Stadium</td>\n",
              "      <td>Atlanta</td>\n",
              "      <td>Georgia</td>\n",
              "    </tr>\n",
              "    <tr>\n",
              "      <th>2</th>\n",
              "      <td>Feb 4 2018</td>\n",
              "      <td>LII (52)</td>\n",
              "      <td>Philadelphia Eagles</td>\n",
              "      <td>41</td>\n",
              "      <td>New England Patriots</td>\n",
              "      <td>33</td>\n",
              "      <td>Nick Foles</td>\n",
              "      <td>U.S. Bank Stadium</td>\n",
              "      <td>Minneapolis</td>\n",
              "      <td>Minnesota</td>\n",
              "    </tr>\n",
              "    <tr>\n",
              "      <th>3</th>\n",
              "      <td>Feb 5 2017</td>\n",
              "      <td>LI (51)</td>\n",
              "      <td>New England Patriots</td>\n",
              "      <td>34</td>\n",
              "      <td>Atlanta Falcons</td>\n",
              "      <td>28</td>\n",
              "      <td>Tom Brady</td>\n",
              "      <td>NRG Stadium</td>\n",
              "      <td>Houston</td>\n",
              "      <td>Texas</td>\n",
              "    </tr>\n",
              "    <tr>\n",
              "      <th>4</th>\n",
              "      <td>Feb 7 2016</td>\n",
              "      <td>50</td>\n",
              "      <td>Denver Broncos</td>\n",
              "      <td>24</td>\n",
              "      <td>Carolina Panthers</td>\n",
              "      <td>10</td>\n",
              "      <td>Von Miller</td>\n",
              "      <td>Levi's Stadium</td>\n",
              "      <td>Santa Clara</td>\n",
              "      <td>California</td>\n",
              "    </tr>\n",
              "    <tr>\n",
              "      <th>5</th>\n",
              "      <td>Feb 1 2015</td>\n",
              "      <td>XLIX (49)</td>\n",
              "      <td>New England Patriots</td>\n",
              "      <td>28</td>\n",
              "      <td>Seattle Seahawks</td>\n",
              "      <td>24</td>\n",
              "      <td>Tom Brady</td>\n",
              "      <td>University of Phoenix Stadium</td>\n",
              "      <td>Glendale</td>\n",
              "      <td>Arizona</td>\n",
              "    </tr>\n",
              "    <tr>\n",
              "      <th>6</th>\n",
              "      <td>Feb 2 2014</td>\n",
              "      <td>XLVIII (48)</td>\n",
              "      <td>Seattle Seahawks</td>\n",
              "      <td>43</td>\n",
              "      <td>Denver Broncos</td>\n",
              "      <td>8</td>\n",
              "      <td>Malcolm Smith</td>\n",
              "      <td>MetLife Stadium</td>\n",
              "      <td>East Rutherford</td>\n",
              "      <td>New Jersey</td>\n",
              "    </tr>\n",
              "    <tr>\n",
              "      <th>7</th>\n",
              "      <td>Feb 3 2013</td>\n",
              "      <td>XLVII (47)</td>\n",
              "      <td>Baltimore Ravens</td>\n",
              "      <td>34</td>\n",
              "      <td>San Francisco 49ers</td>\n",
              "      <td>31</td>\n",
              "      <td>Joe Flacco</td>\n",
              "      <td>Mercedes-Benz Superdome</td>\n",
              "      <td>New Orleans</td>\n",
              "      <td>Louisiana</td>\n",
              "    </tr>\n",
              "    <tr>\n",
              "      <th>8</th>\n",
              "      <td>Feb 5 2012</td>\n",
              "      <td>XLVI (46)</td>\n",
              "      <td>New York Giants</td>\n",
              "      <td>21</td>\n",
              "      <td>New England Patriots</td>\n",
              "      <td>17</td>\n",
              "      <td>Eli Manning</td>\n",
              "      <td>Lucas Oil Stadium</td>\n",
              "      <td>Indianapolis</td>\n",
              "      <td>Indiana</td>\n",
              "    </tr>\n",
              "    <tr>\n",
              "      <th>9</th>\n",
              "      <td>Feb 6 2011</td>\n",
              "      <td>XLV (45)</td>\n",
              "      <td>Green Bay Packers</td>\n",
              "      <td>31</td>\n",
              "      <td>Pittsburgh Steelers</td>\n",
              "      <td>25</td>\n",
              "      <td>Aaron Rodgers</td>\n",
              "      <td>Cowboys Stadium</td>\n",
              "      <td>Arlington</td>\n",
              "      <td>Texas</td>\n",
              "    </tr>\n",
              "    <tr>\n",
              "      <th>10</th>\n",
              "      <td>Feb 7 2010</td>\n",
              "      <td>XLIV (44)</td>\n",
              "      <td>New Orleans Saints</td>\n",
              "      <td>31</td>\n",
              "      <td>Indianapolis Colts</td>\n",
              "      <td>17</td>\n",
              "      <td>Drew Brees</td>\n",
              "      <td>Sun Life Stadium</td>\n",
              "      <td>Miami Gardens</td>\n",
              "      <td>Florida</td>\n",
              "    </tr>\n",
              "    <tr>\n",
              "      <th>11</th>\n",
              "      <td>Feb 1 2009</td>\n",
              "      <td>XLIII (43)</td>\n",
              "      <td>Pittsburgh Steelers</td>\n",
              "      <td>27</td>\n",
              "      <td>Arizona Cardinals</td>\n",
              "      <td>23</td>\n",
              "      <td>Santonio Holmes</td>\n",
              "      <td>Raymond James Stadium</td>\n",
              "      <td>Tampa</td>\n",
              "      <td>Florida</td>\n",
              "    </tr>\n",
              "    <tr>\n",
              "      <th>12</th>\n",
              "      <td>Feb 3 2008</td>\n",
              "      <td>XLII (42)</td>\n",
              "      <td>New York Giants</td>\n",
              "      <td>17</td>\n",
              "      <td>New England Patriots</td>\n",
              "      <td>14</td>\n",
              "      <td>Eli Manning</td>\n",
              "      <td>University of Phoenix Stadium</td>\n",
              "      <td>Glendale</td>\n",
              "      <td>Arizona</td>\n",
              "    </tr>\n",
              "    <tr>\n",
              "      <th>13</th>\n",
              "      <td>Feb 4 2007</td>\n",
              "      <td>XLI (41)</td>\n",
              "      <td>Indianapolis Colts</td>\n",
              "      <td>29</td>\n",
              "      <td>Chicago Bears</td>\n",
              "      <td>17</td>\n",
              "      <td>Peyton Manning</td>\n",
              "      <td>Dolphin Stadium</td>\n",
              "      <td>Miami Gardens</td>\n",
              "      <td>Florida</td>\n",
              "    </tr>\n",
              "    <tr>\n",
              "      <th>14</th>\n",
              "      <td>Feb 5 2006</td>\n",
              "      <td>XL (40)</td>\n",
              "      <td>Pittsburgh Steelers</td>\n",
              "      <td>21</td>\n",
              "      <td>Seattle Seahawks</td>\n",
              "      <td>10</td>\n",
              "      <td>Hines Ward</td>\n",
              "      <td>Ford Field</td>\n",
              "      <td>Detroit</td>\n",
              "      <td>Michigan</td>\n",
              "    </tr>\n",
              "    <tr>\n",
              "      <th>15</th>\n",
              "      <td>Feb 6 2005</td>\n",
              "      <td>XXXIX (39)</td>\n",
              "      <td>New England Patriots</td>\n",
              "      <td>24</td>\n",
              "      <td>Philadelphia Eagles</td>\n",
              "      <td>21</td>\n",
              "      <td>Deion Branch</td>\n",
              "      <td>Alltel Stadium</td>\n",
              "      <td>Jacksonville</td>\n",
              "      <td>Florida</td>\n",
              "    </tr>\n",
              "    <tr>\n",
              "      <th>16</th>\n",
              "      <td>Feb 1 2004</td>\n",
              "      <td>XXXVIII (38)</td>\n",
              "      <td>New England Patriots</td>\n",
              "      <td>32</td>\n",
              "      <td>Carolina Panthers</td>\n",
              "      <td>29</td>\n",
              "      <td>Tom Brady</td>\n",
              "      <td>Reliant Stadium</td>\n",
              "      <td>Houston</td>\n",
              "      <td>Texas</td>\n",
              "    </tr>\n",
              "    <tr>\n",
              "      <th>17</th>\n",
              "      <td>Jan 26 2003</td>\n",
              "      <td>XXXVII (37)</td>\n",
              "      <td>Tampa Bay Buccaneers</td>\n",
              "      <td>48</td>\n",
              "      <td>Oakland Raiders</td>\n",
              "      <td>21</td>\n",
              "      <td>Dexter Jackson</td>\n",
              "      <td>Qualcomm Stadium</td>\n",
              "      <td>San Diego</td>\n",
              "      <td>California</td>\n",
              "    </tr>\n",
              "    <tr>\n",
              "      <th>18</th>\n",
              "      <td>Feb 3 2002</td>\n",
              "      <td>XXXVI (36)</td>\n",
              "      <td>New England Patriots</td>\n",
              "      <td>20</td>\n",
              "      <td>St. Louis Rams</td>\n",
              "      <td>17</td>\n",
              "      <td>Tom Brady</td>\n",
              "      <td>Louisiana Superdome</td>\n",
              "      <td>New Orleans</td>\n",
              "      <td>Louisiana</td>\n",
              "    </tr>\n",
              "    <tr>\n",
              "      <th>19</th>\n",
              "      <td>Jan 28 2001</td>\n",
              "      <td>XXXV (35)</td>\n",
              "      <td>Baltimore Ravens</td>\n",
              "      <td>34</td>\n",
              "      <td>New York Giants</td>\n",
              "      <td>7</td>\n",
              "      <td>Ray Lewis+</td>\n",
              "      <td>Raymond James Stadium</td>\n",
              "      <td>Tampa</td>\n",
              "      <td>Florida</td>\n",
              "    </tr>\n",
              "    <tr>\n",
              "      <th>20</th>\n",
              "      <td>Jan 30 2000</td>\n",
              "      <td>XXXIV (34)</td>\n",
              "      <td>St. Louis Rams</td>\n",
              "      <td>23</td>\n",
              "      <td>Tennessee Titans</td>\n",
              "      <td>16</td>\n",
              "      <td>Kurt Warner+</td>\n",
              "      <td>Georgia Dome</td>\n",
              "      <td>Atlanta</td>\n",
              "      <td>Georgia</td>\n",
              "    </tr>\n",
              "    <tr>\n",
              "      <th>21</th>\n",
              "      <td>Jan 31 1999</td>\n",
              "      <td>XXXIII (33)</td>\n",
              "      <td>Denver Broncos</td>\n",
              "      <td>34</td>\n",
              "      <td>Atlanta Falcons</td>\n",
              "      <td>19</td>\n",
              "      <td>John Elway+</td>\n",
              "      <td>Pro Player Stadium</td>\n",
              "      <td>Miami Gardens</td>\n",
              "      <td>Florida</td>\n",
              "    </tr>\n",
              "    <tr>\n",
              "      <th>22</th>\n",
              "      <td>Jan 25 1998</td>\n",
              "      <td>XXXII (32)</td>\n",
              "      <td>Denver Broncos</td>\n",
              "      <td>31</td>\n",
              "      <td>Green Bay Packers</td>\n",
              "      <td>24</td>\n",
              "      <td>Terrell Davis+</td>\n",
              "      <td>Qualcomm Stadium</td>\n",
              "      <td>San Diego</td>\n",
              "      <td>California</td>\n",
              "    </tr>\n",
              "    <tr>\n",
              "      <th>23</th>\n",
              "      <td>Jan 26 1997</td>\n",
              "      <td>XXXI (31)</td>\n",
              "      <td>Green Bay Packers</td>\n",
              "      <td>35</td>\n",
              "      <td>New England Patriots</td>\n",
              "      <td>21</td>\n",
              "      <td>Desmond Howard</td>\n",
              "      <td>Louisiana Superdome</td>\n",
              "      <td>New Orleans</td>\n",
              "      <td>Louisiana</td>\n",
              "    </tr>\n",
              "    <tr>\n",
              "      <th>24</th>\n",
              "      <td>Jan 28 1996</td>\n",
              "      <td>XXX (30)</td>\n",
              "      <td>Dallas Cowboys</td>\n",
              "      <td>27</td>\n",
              "      <td>Pittsburgh Steelers</td>\n",
              "      <td>17</td>\n",
              "      <td>Larry Brown</td>\n",
              "      <td>Sun Devil Stadium</td>\n",
              "      <td>Tempe</td>\n",
              "      <td>Arizona</td>\n",
              "    </tr>\n",
              "    <tr>\n",
              "      <th>25</th>\n",
              "      <td>Jan 29 1995</td>\n",
              "      <td>XXIX (29)</td>\n",
              "      <td>San Francisco 49ers</td>\n",
              "      <td>49</td>\n",
              "      <td>San Diego Chargers</td>\n",
              "      <td>26</td>\n",
              "      <td>Steve Young+</td>\n",
              "      <td>Joe Robbie Stadium</td>\n",
              "      <td>Miami Gardens</td>\n",
              "      <td>Florida</td>\n",
              "    </tr>\n",
              "    <tr>\n",
              "      <th>26</th>\n",
              "      <td>Jan 30 1994</td>\n",
              "      <td>XXVIII (28)</td>\n",
              "      <td>Dallas Cowboys</td>\n",
              "      <td>30</td>\n",
              "      <td>Buffalo Bills</td>\n",
              "      <td>13</td>\n",
              "      <td>Emmitt Smith+</td>\n",
              "      <td>Georgia Dome</td>\n",
              "      <td>Atlanta</td>\n",
              "      <td>Georgia</td>\n",
              "    </tr>\n",
              "    <tr>\n",
              "      <th>28</th>\n",
              "      <td>Jan 26 1992</td>\n",
              "      <td>XXVI (26)</td>\n",
              "      <td>Washington Redskins</td>\n",
              "      <td>37</td>\n",
              "      <td>Buffalo Bills</td>\n",
              "      <td>24</td>\n",
              "      <td>Mark Rypien</td>\n",
              "      <td>Metrodome</td>\n",
              "      <td>Minneapolis</td>\n",
              "      <td>Minnesota</td>\n",
              "    </tr>\n",
              "    <tr>\n",
              "      <th>29</th>\n",
              "      <td>Jan 27 1991</td>\n",
              "      <td>XXV (25)</td>\n",
              "      <td>New York Giants</td>\n",
              "      <td>20</td>\n",
              "      <td>Buffalo Bills</td>\n",
              "      <td>19</td>\n",
              "      <td>Ottis Anderson</td>\n",
              "      <td>Tampa Stadium</td>\n",
              "      <td>Tampa</td>\n",
              "      <td>Florida</td>\n",
              "    </tr>\n",
              "    <tr>\n",
              "      <th>31</th>\n",
              "      <td>Jan 22 1989</td>\n",
              "      <td>XXIII (23)</td>\n",
              "      <td>San Francisco 49ers</td>\n",
              "      <td>20</td>\n",
              "      <td>Cincinnati Bengals</td>\n",
              "      <td>16</td>\n",
              "      <td>Jerry Rice+</td>\n",
              "      <td>Joe Robbie Stadium</td>\n",
              "      <td>Miami Gardens</td>\n",
              "      <td>Florida</td>\n",
              "    </tr>\n",
              "    <tr>\n",
              "      <th>32</th>\n",
              "      <td>Jan 31 1988</td>\n",
              "      <td>XXII (22)</td>\n",
              "      <td>Washington Redskins</td>\n",
              "      <td>42</td>\n",
              "      <td>Denver Broncos</td>\n",
              "      <td>10</td>\n",
              "      <td>Doug Williams</td>\n",
              "      <td>Jack Murphy Stadium</td>\n",
              "      <td>San Diego</td>\n",
              "      <td>California</td>\n",
              "    </tr>\n",
              "    <tr>\n",
              "      <th>33</th>\n",
              "      <td>Jan 25 1987</td>\n",
              "      <td>XXI (21)</td>\n",
              "      <td>New York Giants</td>\n",
              "      <td>39</td>\n",
              "      <td>Denver Broncos</td>\n",
              "      <td>20</td>\n",
              "      <td>Phil Simms</td>\n",
              "      <td>Rose Bowl</td>\n",
              "      <td>Pasadena</td>\n",
              "      <td>California</td>\n",
              "    </tr>\n",
              "    <tr>\n",
              "      <th>34</th>\n",
              "      <td>Jan 26 1986</td>\n",
              "      <td>XX (20)</td>\n",
              "      <td>Chicago Bears</td>\n",
              "      <td>46</td>\n",
              "      <td>New England Patriots</td>\n",
              "      <td>10</td>\n",
              "      <td>Richard Dent+</td>\n",
              "      <td>Louisiana Superdome</td>\n",
              "      <td>New Orleans</td>\n",
              "      <td>Louisiana</td>\n",
              "    </tr>\n",
              "    <tr>\n",
              "      <th>35</th>\n",
              "      <td>Jan 20 1985</td>\n",
              "      <td>XIX (19)</td>\n",
              "      <td>San Francisco 49ers</td>\n",
              "      <td>38</td>\n",
              "      <td>Miami Dolphins</td>\n",
              "      <td>16</td>\n",
              "      <td>Joe Montana+</td>\n",
              "      <td>Stanford Stadium</td>\n",
              "      <td>Palo Alto</td>\n",
              "      <td>California</td>\n",
              "    </tr>\n",
              "    <tr>\n",
              "      <th>36</th>\n",
              "      <td>Jan 22 1984</td>\n",
              "      <td>XVIII (18)</td>\n",
              "      <td>Los Angeles Raiders</td>\n",
              "      <td>38</td>\n",
              "      <td>Washington Redskins</td>\n",
              "      <td>9</td>\n",
              "      <td>Marcus Allen+</td>\n",
              "      <td>Tampa Stadium</td>\n",
              "      <td>Tampa</td>\n",
              "      <td>Florida</td>\n",
              "    </tr>\n",
              "    <tr>\n",
              "      <th>37</th>\n",
              "      <td>Jan 30 1983</td>\n",
              "      <td>XVII (17)</td>\n",
              "      <td>Washington Redskins</td>\n",
              "      <td>27</td>\n",
              "      <td>Miami Dolphins</td>\n",
              "      <td>17</td>\n",
              "      <td>John Riggins+</td>\n",
              "      <td>Rose Bowl</td>\n",
              "      <td>Pasadena</td>\n",
              "      <td>California</td>\n",
              "    </tr>\n",
              "    <tr>\n",
              "      <th>38</th>\n",
              "      <td>Jan 24 1982</td>\n",
              "      <td>XVI (16)</td>\n",
              "      <td>San Francisco 49ers</td>\n",
              "      <td>26</td>\n",
              "      <td>Cincinnati Bengals</td>\n",
              "      <td>21</td>\n",
              "      <td>Joe Montana+</td>\n",
              "      <td>Pontiac Silverdome</td>\n",
              "      <td>Pontiac</td>\n",
              "      <td>Michigan</td>\n",
              "    </tr>\n",
              "    <tr>\n",
              "      <th>39</th>\n",
              "      <td>Jan 25 1981</td>\n",
              "      <td>XV (15)</td>\n",
              "      <td>Oakland Raiders</td>\n",
              "      <td>27</td>\n",
              "      <td>Philadelphia Eagles</td>\n",
              "      <td>10</td>\n",
              "      <td>Jim Plunkett</td>\n",
              "      <td>Louisiana Superdome</td>\n",
              "      <td>New Orleans</td>\n",
              "      <td>Louisiana</td>\n",
              "    </tr>\n",
              "    <tr>\n",
              "      <th>40</th>\n",
              "      <td>Jan 20 1980</td>\n",
              "      <td>XIV (14)</td>\n",
              "      <td>Pittsburgh Steelers</td>\n",
              "      <td>31</td>\n",
              "      <td>Los Angeles Rams</td>\n",
              "      <td>19</td>\n",
              "      <td>Terry Bradshaw+</td>\n",
              "      <td>Rose Bowl</td>\n",
              "      <td>Pasadena</td>\n",
              "      <td>California</td>\n",
              "    </tr>\n",
              "    <tr>\n",
              "      <th>41</th>\n",
              "      <td>Jan 21 1979</td>\n",
              "      <td>XIII (13)</td>\n",
              "      <td>Pittsburgh Steelers</td>\n",
              "      <td>35</td>\n",
              "      <td>Dallas Cowboys</td>\n",
              "      <td>31</td>\n",
              "      <td>Terry Bradshaw+</td>\n",
              "      <td>Orange Bowl</td>\n",
              "      <td>Miami</td>\n",
              "      <td>Florida</td>\n",
              "    </tr>\n",
              "    <tr>\n",
              "      <th>42</th>\n",
              "      <td>Jan 15 1978</td>\n",
              "      <td>XII (12)</td>\n",
              "      <td>Dallas Cowboys</td>\n",
              "      <td>27</td>\n",
              "      <td>Denver Broncos</td>\n",
              "      <td>10</td>\n",
              "      <td>Harvey MartinRandy White+</td>\n",
              "      <td>Superdome</td>\n",
              "      <td>New Orleans</td>\n",
              "      <td>Louisiana</td>\n",
              "    </tr>\n",
              "    <tr>\n",
              "      <th>43</th>\n",
              "      <td>Jan 9 1977</td>\n",
              "      <td>XI (11)</td>\n",
              "      <td>Oakland Raiders</td>\n",
              "      <td>32</td>\n",
              "      <td>Minnesota Vikings</td>\n",
              "      <td>14</td>\n",
              "      <td>Fred Biletnikoff+</td>\n",
              "      <td>Rose Bowl</td>\n",
              "      <td>Pasadena</td>\n",
              "      <td>California</td>\n",
              "    </tr>\n",
              "    <tr>\n",
              "      <th>44</th>\n",
              "      <td>Jan 18 1976</td>\n",
              "      <td>X (10)</td>\n",
              "      <td>Pittsburgh Steelers</td>\n",
              "      <td>21</td>\n",
              "      <td>Dallas Cowboys</td>\n",
              "      <td>17</td>\n",
              "      <td>Lynn Swann+</td>\n",
              "      <td>Orange Bowl</td>\n",
              "      <td>Miami</td>\n",
              "      <td>Florida</td>\n",
              "    </tr>\n",
              "    <tr>\n",
              "      <th>45</th>\n",
              "      <td>Jan 12 1975</td>\n",
              "      <td>IX (9)</td>\n",
              "      <td>Pittsburgh Steelers</td>\n",
              "      <td>16</td>\n",
              "      <td>Minnesota Vikings</td>\n",
              "      <td>6</td>\n",
              "      <td>Franco Harris+</td>\n",
              "      <td>Tulane Stadium</td>\n",
              "      <td>New Orleans</td>\n",
              "      <td>Louisiana</td>\n",
              "    </tr>\n",
              "    <tr>\n",
              "      <th>46</th>\n",
              "      <td>Jan 13 1974</td>\n",
              "      <td>VIII (8)</td>\n",
              "      <td>Miami Dolphins</td>\n",
              "      <td>24</td>\n",
              "      <td>Minnesota Vikings</td>\n",
              "      <td>7</td>\n",
              "      <td>Larry Csonka+</td>\n",
              "      <td>Rice Stadium</td>\n",
              "      <td>Houston</td>\n",
              "      <td>Texas</td>\n",
              "    </tr>\n",
              "    <tr>\n",
              "      <th>47</th>\n",
              "      <td>Jan 14 1973</td>\n",
              "      <td>VII (7)</td>\n",
              "      <td>Miami Dolphins</td>\n",
              "      <td>14</td>\n",
              "      <td>Washington Redskins</td>\n",
              "      <td>7</td>\n",
              "      <td>Jake Scott</td>\n",
              "      <td>Memorial Coliseum</td>\n",
              "      <td>Los Angeles</td>\n",
              "      <td>California</td>\n",
              "    </tr>\n",
              "    <tr>\n",
              "      <th>48</th>\n",
              "      <td>Jan 16 1972</td>\n",
              "      <td>VI (6)</td>\n",
              "      <td>Dallas Cowboys</td>\n",
              "      <td>24</td>\n",
              "      <td>Miami Dolphins</td>\n",
              "      <td>3</td>\n",
              "      <td>Roger Staubach+</td>\n",
              "      <td>Tulane Stadium</td>\n",
              "      <td>New Orleans</td>\n",
              "      <td>Louisiana</td>\n",
              "    </tr>\n",
              "    <tr>\n",
              "      <th>49</th>\n",
              "      <td>Jan 17 1971</td>\n",
              "      <td>V (5)</td>\n",
              "      <td>Baltimore Colts</td>\n",
              "      <td>16</td>\n",
              "      <td>Dallas Cowboys</td>\n",
              "      <td>13</td>\n",
              "      <td>Chuck Howley</td>\n",
              "      <td>Orange Bowl</td>\n",
              "      <td>Miami</td>\n",
              "      <td>Florida</td>\n",
              "    </tr>\n",
              "    <tr>\n",
              "      <th>50</th>\n",
              "      <td>Jan 11 1970</td>\n",
              "      <td>IV (4)</td>\n",
              "      <td>Kansas City Chiefs</td>\n",
              "      <td>23</td>\n",
              "      <td>Minnesota Vikings</td>\n",
              "      <td>7</td>\n",
              "      <td>Len Dawson+</td>\n",
              "      <td>Tulane Stadium</td>\n",
              "      <td>New Orleans</td>\n",
              "      <td>Louisiana</td>\n",
              "    </tr>\n",
              "    <tr>\n",
              "      <th>51</th>\n",
              "      <td>Jan 12 1969</td>\n",
              "      <td>III (3)</td>\n",
              "      <td>New York Jets</td>\n",
              "      <td>16</td>\n",
              "      <td>Baltimore Colts</td>\n",
              "      <td>7</td>\n",
              "      <td>Joe Namath+</td>\n",
              "      <td>Orange Bowl</td>\n",
              "      <td>Miami</td>\n",
              "      <td>Florida</td>\n",
              "    </tr>\n",
              "    <tr>\n",
              "      <th>52</th>\n",
              "      <td>Jan 14 1968</td>\n",
              "      <td>II (2)</td>\n",
              "      <td>Green Bay Packers</td>\n",
              "      <td>33</td>\n",
              "      <td>Oakland Raiders</td>\n",
              "      <td>14</td>\n",
              "      <td>Bart Starr+</td>\n",
              "      <td>Orange Bowl</td>\n",
              "      <td>Miami</td>\n",
              "      <td>Florida</td>\n",
              "    </tr>\n",
              "    <tr>\n",
              "      <th>53</th>\n",
              "      <td>Jan 15 1967</td>\n",
              "      <td>I (1)</td>\n",
              "      <td>Green Bay Packers</td>\n",
              "      <td>35</td>\n",
              "      <td>Kansas City Chiefs</td>\n",
              "      <td>10</td>\n",
              "      <td>Bart Starr+</td>\n",
              "      <td>Memorial Coliseum</td>\n",
              "      <td>Los Angeles</td>\n",
              "      <td>California</td>\n",
              "    </tr>\n",
              "  </tbody>\n",
              "</table>\n",
              "</div>"
            ],
            "text/plain": [
              "           Date            SB  ...             City       State\n",
              "0    Feb 2 2020      LIV (54)  ...    Miami Gardens     Florida\n",
              "1    Feb 3 2019     LIII (53)  ...          Atlanta     Georgia\n",
              "2    Feb 4 2018      LII (52)  ...      Minneapolis   Minnesota\n",
              "3    Feb 5 2017       LI (51)  ...          Houston       Texas\n",
              "4    Feb 7 2016            50  ...      Santa Clara  California\n",
              "5    Feb 1 2015     XLIX (49)  ...         Glendale     Arizona\n",
              "6    Feb 2 2014   XLVIII (48)  ...  East Rutherford  New Jersey\n",
              "7    Feb 3 2013    XLVII (47)  ...      New Orleans   Louisiana\n",
              "8    Feb 5 2012     XLVI (46)  ...     Indianapolis     Indiana\n",
              "9    Feb 6 2011      XLV (45)  ...        Arlington       Texas\n",
              "10   Feb 7 2010     XLIV (44)  ...    Miami Gardens     Florida\n",
              "11   Feb 1 2009    XLIII (43)  ...            Tampa     Florida\n",
              "12   Feb 3 2008     XLII (42)  ...         Glendale     Arizona\n",
              "13   Feb 4 2007      XLI (41)  ...    Miami Gardens     Florida\n",
              "14   Feb 5 2006       XL (40)  ...          Detroit    Michigan\n",
              "15   Feb 6 2005    XXXIX (39)  ...     Jacksonville     Florida\n",
              "16   Feb 1 2004  XXXVIII (38)  ...          Houston       Texas\n",
              "17  Jan 26 2003   XXXVII (37)  ...        San Diego  California\n",
              "18   Feb 3 2002    XXXVI (36)  ...      New Orleans   Louisiana\n",
              "19  Jan 28 2001     XXXV (35)  ...            Tampa     Florida\n",
              "20  Jan 30 2000    XXXIV (34)  ...          Atlanta     Georgia\n",
              "21  Jan 31 1999   XXXIII (33)  ...    Miami Gardens     Florida\n",
              "22  Jan 25 1998    XXXII (32)  ...        San Diego  California\n",
              "23  Jan 26 1997     XXXI (31)  ...      New Orleans   Louisiana\n",
              "24  Jan 28 1996      XXX (30)  ...            Tempe     Arizona\n",
              "25  Jan 29 1995     XXIX (29)  ...    Miami Gardens     Florida\n",
              "26  Jan 30 1994   XXVIII (28)  ...          Atlanta     Georgia\n",
              "28  Jan 26 1992     XXVI (26)  ...      Minneapolis   Minnesota\n",
              "29  Jan 27 1991      XXV (25)  ...            Tampa     Florida\n",
              "31  Jan 22 1989    XXIII (23)  ...    Miami Gardens     Florida\n",
              "32  Jan 31 1988     XXII (22)  ...        San Diego  California\n",
              "33  Jan 25 1987      XXI (21)  ...         Pasadena  California\n",
              "34  Jan 26 1986       XX (20)  ...      New Orleans   Louisiana\n",
              "35  Jan 20 1985      XIX (19)  ...        Palo Alto  California\n",
              "36  Jan 22 1984    XVIII (18)  ...            Tampa     Florida\n",
              "37  Jan 30 1983     XVII (17)  ...         Pasadena  California\n",
              "38  Jan 24 1982      XVI (16)  ...          Pontiac    Michigan\n",
              "39  Jan 25 1981       XV (15)  ...      New Orleans   Louisiana\n",
              "40  Jan 20 1980      XIV (14)  ...         Pasadena  California\n",
              "41  Jan 21 1979     XIII (13)  ...            Miami     Florida\n",
              "42  Jan 15 1978      XII (12)  ...      New Orleans   Louisiana\n",
              "43   Jan 9 1977       XI (11)  ...         Pasadena  California\n",
              "44  Jan 18 1976        X (10)  ...            Miami     Florida\n",
              "45  Jan 12 1975        IX (9)  ...      New Orleans   Louisiana\n",
              "46  Jan 13 1974      VIII (8)  ...          Houston       Texas\n",
              "47  Jan 14 1973       VII (7)  ...      Los Angeles  California\n",
              "48  Jan 16 1972        VI (6)  ...      New Orleans   Louisiana\n",
              "49  Jan 17 1971         V (5)  ...            Miami     Florida\n",
              "50  Jan 11 1970        IV (4)  ...      New Orleans   Louisiana\n",
              "51  Jan 12 1969       III (3)  ...            Miami     Florida\n",
              "52  Jan 14 1968        II (2)  ...            Miami     Florida\n",
              "53  Jan 15 1967         I (1)  ...      Los Angeles  California\n",
              "\n",
              "[52 rows x 10 columns]"
            ]
          },
          "metadata": {},
          "execution_count": 20
        }
      ]
    }
  ]
}