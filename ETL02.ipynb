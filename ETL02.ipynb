{
  "nbformat": 4,
  "nbformat_minor": 0,
  "metadata": {
    "colab": {
      "name": "ETL02.ipynb",
      "provenance": [],
      "authorship_tag": "ABX9TyN7dRZ/5PJNaC4fnVgv+Ncl",
      "include_colab_link": true
    },
    "kernelspec": {
      "name": "python3",
      "display_name": "Python 3"
    },
    "language_info": {
      "name": "python"
    }
  },
  "cells": [
    {
      "cell_type": "markdown",
      "metadata": {
        "id": "view-in-github",
        "colab_type": "text"
      },
      "source": [
        "<a href=\"https://colab.research.google.com/github/AlanGomes107/ETL_Extract_Transform_and_Load/blob/main/ETL02.ipynb\" target=\"_parent\"><img src=\"https://colab.research.google.com/assets/colab-badge.svg\" alt=\"Open In Colab\"/></a>"
      ]
    },
    {
      "cell_type": "markdown",
      "metadata": {
        "id": "HVhiteRSyZgw"
      },
      "source": [
        "***EXTRAÇÃO DE DADOS***"
      ]
    },
    {
      "cell_type": "code",
      "metadata": {
        "colab": {
          "base_uri": "https://localhost:8080/"
        },
        "id": "hhFfPJWZxdgY",
        "outputId": "918dc841-1290-4068-fa60-3f76ffe62a9a"
      },
      "source": [
        "arquivo = open(\"sobrepython.txt\", 'r', encoding='utf-8')\n",
        "arquivo.readlines()\n"
      ],
      "execution_count": null,
      "outputs": [
        {
          "output_type": "execute_result",
          "data": {
            "text/plain": [
              "['Python é uma linguagem de programação de alto nível,[4] interpretada, de script, imperativa, orientada a objetos, funcional, de tipagem dinâmica e forte. Foi lançada por Guido van Rossum em 1991.[1] Atualmente possui um modelo de desenvolvimento comunitário, aberto e gerenciado pela organização sem fins lucrativos Python Software Foundation. Apesar de várias partes da linguagem possuírem padrões e especificações formais, a linguagem como um todo não é formalmente especificada. O padrão de facto é a implementação CPython.\\n',\n",
              " '\\n',\n",
              " 'A linguagem foi projetada com a filosofia de enfatizar a importância do esforço do programador sobre o esforço computacional. Prioriza a legibilidade do código sobre a velocidade ou expressividade. Combina uma sintaxe concisa e clara com os recursos poderosos de sua biblioteca padrão e por módulos e frameworks desenvolvidos por terceiros.\\n',\n",
              " '\\n',\n",
              " 'Python é uma linguagem de propósito geral de alto nível, multiparadigma, suporta o paradigma orientado a objetos, imperativo, funcional e procedural. Possui tipagem dinâmica e uma de suas principais características é permitir a fácil leitura do código e exigir poucas linhas de código se comparado ao mesmo programa em outras linguagens. Devido às suas características, ela é principalmente utilizada para processamento de textos, dados científicos e criação de CGIs para páginas dinâmicas para a web. Foi considerada pelo público a 3ª linguagem \"mais amada\", de acordo com uma pesquisa conduzida pelo site Stack Overflow em 2018,[5] e está entre as 5 linguagens mais populares, de acordo com uma pesquisa conduzida pela RedMonk.[6]\\n',\n",
              " '\\n',\n",
              " \"O nome Python teve a sua origem no grupo humorístico britânico Monty Python,[7] criador do programa Monty Python's Flying Circus, embora muitas pessoas façam associação com o réptil do mesmo nome (em português, píton ou pitão).\\n\",\n",
              " '\\n',\n",
              " 'Fonte: https://pt.wikipedia.org/wiki/Python']"
            ]
          },
          "metadata": {
            "tags": []
          },
          "execution_count": 1
        }
      ]
    },
    {
      "cell_type": "code",
      "metadata": {
        "id": "_0_tDM8RxdjZ"
      },
      "source": [
        "arquivo.close()"
      ],
      "execution_count": null,
      "outputs": []
    },
    {
      "cell_type": "markdown",
      "metadata": {
        "id": "fNE2vWsINKy3"
      },
      "source": [
        "***Não Pula linhas (mas mantém '\\n' caso queira pular)***"
      ]
    },
    {
      "cell_type": "code",
      "metadata": {
        "colab": {
          "base_uri": "https://localhost:8080/"
        },
        "id": "wMeNkHXUxdmI",
        "outputId": "8ca45687-76ef-4c20-909a-d734ef250935"
      },
      "source": [
        "with open(\"sobrepython.txt\", 'r', encoding='utf-8') as arquivo:\n",
        "  print(arquivo.readlines())"
      ],
      "execution_count": null,
      "outputs": [
        {
          "output_type": "stream",
          "text": [
            "['Python é uma linguagem de programação de alto nível,[4] interpretada, de script, imperativa, orientada a objetos, funcional, de tipagem dinâmica e forte. Foi lançada por Guido van Rossum em 1991.[1] Atualmente possui um modelo de desenvolvimento comunitário, aberto e gerenciado pela organização sem fins lucrativos Python Software Foundation. Apesar de várias partes da linguagem possuírem padrões e especificações formais, a linguagem como um todo não é formalmente especificada. O padrão de facto é a implementação CPython.\\n', '\\n', 'A linguagem foi projetada com a filosofia de enfatizar a importância do esforço do programador sobre o esforço computacional. Prioriza a legibilidade do código sobre a velocidade ou expressividade. Combina uma sintaxe concisa e clara com os recursos poderosos de sua biblioteca padrão e por módulos e frameworks desenvolvidos por terceiros.\\n', '\\n', 'Python é uma linguagem de propósito geral de alto nível, multiparadigma, suporta o paradigma orientado a objetos, imperativo, funcional e procedural. Possui tipagem dinâmica e uma de suas principais características é permitir a fácil leitura do código e exigir poucas linhas de código se comparado ao mesmo programa em outras linguagens. Devido às suas características, ela é principalmente utilizada para processamento de textos, dados científicos e criação de CGIs para páginas dinâmicas para a web. Foi considerada pelo público a 3ª linguagem \"mais amada\", de acordo com uma pesquisa conduzida pelo site Stack Overflow em 2018,[5] e está entre as 5 linguagens mais populares, de acordo com uma pesquisa conduzida pela RedMonk.[6]\\n', '\\n', \"O nome Python teve a sua origem no grupo humorístico britânico Monty Python,[7] criador do programa Monty Python's Flying Circus, embora muitas pessoas façam associação com o réptil do mesmo nome (em português, píton ou pitão).\\n\", '\\n', 'Fonte: https://pt.wikipedia.org/wiki/Python']\n"
          ],
          "name": "stdout"
        }
      ]
    },
    {
      "cell_type": "code",
      "metadata": {
        "id": "9VDW0shnxdo5"
      },
      "source": [
        ""
      ],
      "execution_count": null,
      "outputs": []
    },
    {
      "cell_type": "markdown",
      "metadata": {
        "id": "3k8iJSjUNRTU"
      },
      "source": [
        "***splitlines (pula linhas evidenciada por ' ')***"
      ]
    },
    {
      "cell_type": "code",
      "metadata": {
        "colab": {
          "base_uri": "https://localhost:8080/"
        },
        "id": "GQW8Pu8Exdrw",
        "outputId": "25449179-e1a4-460a-bb18-09a4bb6e6e6e"
      },
      "source": [
        "arquivo = open(\"sobrepython.txt\", 'r', encoding='utf-8')\n",
        "arquivo.readline().splitlines()"
      ],
      "execution_count": null,
      "outputs": [
        {
          "output_type": "execute_result",
          "data": {
            "text/plain": [
              "['Python é uma linguagem de programação de alto nível,[4] interpretada, de script, imperativa, orientada a objetos, funcional, de tipagem dinâmica e forte. Foi lançada por Guido van Rossum em 1991.[1] Atualmente possui um modelo de desenvolvimento comunitário, aberto e gerenciado pela organização sem fins lucrativos Python Software Foundation. Apesar de várias partes da linguagem possuírem padrões e especificações formais, a linguagem como um todo não é formalmente especificada. O padrão de facto é a implementação CPython.']"
            ]
          },
          "metadata": {
            "tags": []
          },
          "execution_count": 9
        }
      ]
    },
    {
      "cell_type": "code",
      "metadata": {
        "id": "l4wjHxZmxduf"
      },
      "source": [
        "arquivo.close()"
      ],
      "execution_count": null,
      "outputs": []
    },
    {
      "cell_type": "code",
      "metadata": {
        "colab": {
          "base_uri": "https://localhost:8080/"
        },
        "id": "rVxX_N8AxdxY",
        "outputId": "9cfdb6e2-f3d8-422d-b987-551ae5946214"
      },
      "source": [
        "with open('sobrepython.txt', 'r', encoding='utf-8') as arquivo:\n",
        "  print(arquivo.readline().splitlines())"
      ],
      "execution_count": null,
      "outputs": [
        {
          "output_type": "stream",
          "text": [
            "['Python é uma linguagem de programação de alto nível,[4] interpretada, de script, imperativa, orientada a objetos, funcional, de tipagem dinâmica e forte. Foi lançada por Guido van Rossum em 1991.[1] Atualmente possui um modelo de desenvolvimento comunitário, aberto e gerenciado pela organização sem fins lucrativos Python Software Foundation. Apesar de várias partes da linguagem possuírem padrões e especificações formais, a linguagem como um todo não é formalmente especificada. O padrão de facto é a implementação CPython.']\n"
          ],
          "name": "stdout"
        }
      ]
    },
    {
      "cell_type": "code",
      "metadata": {
        "id": "aCzif2zexd0Y"
      },
      "source": [
        ""
      ],
      "execution_count": null,
      "outputs": []
    },
    {
      "cell_type": "markdown",
      "metadata": {
        "id": "AXs104c0OFk9"
      },
      "source": [
        "***PANDAS***"
      ]
    },
    {
      "cell_type": "code",
      "metadata": {
        "colab": {
          "base_uri": "https://localhost:8080/"
        },
        "id": "lHhKHOLxxd3f",
        "outputId": "9b14b26d-d577-4cff-9b0c-a458552f0c5c"
      },
      "source": [
        "import pandas as pd\n",
        "import numpy as np\n",
        "notas = pd.Series([2,7,5,10,6])\n",
        "print(notas)\n",
        "print('Soma', notas.sum())\n",
        "print('Média', notas.mean())\n",
        "print('Contagem', notas.count())\n",
        "\n"
      ],
      "execution_count": null,
      "outputs": [
        {
          "output_type": "stream",
          "text": [
            "0     2\n",
            "1     7\n",
            "2     5\n",
            "3    10\n",
            "4     6\n",
            "dtype: int64\n",
            "Soma 30\n",
            "Média 6.0\n",
            "Contagem 5\n"
          ],
          "name": "stdout"
        }
      ]
    },
    {
      "cell_type": "code",
      "metadata": {
        "id": "Fbg69zu1ONhz",
        "colab": {
          "base_uri": "https://localhost:8080/"
        },
        "outputId": "dcb007cd-4a1c-4f49-a09e-0bbaacdf2299"
      },
      "source": [
        "serie = pd.Series(np.take(list('abcdefgh'), np.random.randint(8, size=50)))\n",
        "serie"
      ],
      "execution_count": null,
      "outputs": [
        {
          "output_type": "execute_result",
          "data": {
            "text/plain": [
              "0     e\n",
              "1     c\n",
              "2     a\n",
              "3     d\n",
              "4     h\n",
              "5     c\n",
              "6     e\n",
              "7     d\n",
              "8     g\n",
              "9     h\n",
              "10    g\n",
              "11    h\n",
              "12    c\n",
              "13    f\n",
              "14    b\n",
              "15    a\n",
              "16    g\n",
              "17    e\n",
              "18    a\n",
              "19    h\n",
              "20    h\n",
              "21    d\n",
              "22    a\n",
              "23    b\n",
              "24    c\n",
              "25    g\n",
              "26    e\n",
              "27    a\n",
              "28    a\n",
              "29    f\n",
              "30    e\n",
              "31    a\n",
              "32    b\n",
              "33    g\n",
              "34    d\n",
              "35    c\n",
              "36    h\n",
              "37    d\n",
              "38    d\n",
              "39    c\n",
              "40    g\n",
              "41    e\n",
              "42    c\n",
              "43    d\n",
              "44    c\n",
              "45    b\n",
              "46    e\n",
              "47    g\n",
              "48    g\n",
              "49    b\n",
              "dtype: object"
            ]
          },
          "metadata": {
            "tags": []
          },
          "execution_count": 9
        }
      ]
    },
    {
      "cell_type": "code",
      "metadata": {
        "id": "3-xkyC9jONkj"
      },
      "source": [
        ""
      ],
      "execution_count": null,
      "outputs": []
    },
    {
      "cell_type": "markdown",
      "metadata": {
        "id": "X5kmlrsmJ606"
      },
      "source": [
        "Explicação do exemplo acima, caso seja necessário, basicamente os valores de \"a\" a \"g\" vão substituir os números de 0 a 7 (lembrando é 7 porque o python vai simular números de 0 a 7 sem incluir o 8)"
      ]
    },
    {
      "cell_type": "code",
      "metadata": {
        "id": "MvFkDK1JONnd",
        "colab": {
          "base_uri": "https://localhost:8080/"
        },
        "outputId": "61300dc1-0eed-4f3d-f62a-4aaa9bef11af"
      },
      "source": [
        "u=np.random.randint(8,size=50)\n",
        "serie = pd.Series(np.take(list('abcdefgh'),u))\n",
        "serie\n",
        "serie2 = pd.DataFrame(serie,columns=['serie'])\n",
        "u2 = pd.DataFrame(u,columns=['u'])\n",
        "tab = pd.concat([serie2,u2],axis=1)\n",
        "print(tab)"
      ],
      "execution_count": null,
      "outputs": [
        {
          "output_type": "stream",
          "text": [
            "   serie  u\n",
            "0      h  7\n",
            "1      c  2\n",
            "2      h  7\n",
            "3      a  0\n",
            "4      b  1\n",
            "5      e  4\n",
            "6      g  6\n",
            "7      d  3\n",
            "8      f  5\n",
            "9      a  0\n",
            "10     a  0\n",
            "11     g  6\n",
            "12     h  7\n",
            "13     g  6\n",
            "14     f  5\n",
            "15     g  6\n",
            "16     h  7\n",
            "17     c  2\n",
            "18     c  2\n",
            "19     a  0\n",
            "20     g  6\n",
            "21     g  6\n",
            "22     a  0\n",
            "23     g  6\n",
            "24     d  3\n",
            "25     f  5\n",
            "26     b  1\n",
            "27     f  5\n",
            "28     a  0\n",
            "29     e  4\n",
            "30     e  4\n",
            "31     h  7\n",
            "32     f  5\n",
            "33     f  5\n",
            "34     e  4\n",
            "35     b  1\n",
            "36     f  5\n",
            "37     d  3\n",
            "38     b  1\n",
            "39     h  7\n",
            "40     d  3\n",
            "41     g  6\n",
            "42     d  3\n",
            "43     c  2\n",
            "44     b  1\n",
            "45     c  2\n",
            "46     c  2\n",
            "47     c  2\n",
            "48     e  4\n",
            "49     g  6\n"
          ],
          "name": "stdout"
        }
      ]
    },
    {
      "cell_type": "code",
      "metadata": {
        "id": "O_sfC7CiONqY",
        "colab": {
          "base_uri": "https://localhost:8080/"
        },
        "outputId": "3580e6ff-c626-4930-998f-36d7ddf3587f"
      },
      "source": [
        "a = [4,3,5,7,6,8]\n",
        "indices = [0,1,4]\n",
        "np.take(a, indices)"
      ],
      "execution_count": null,
      "outputs": [
        {
          "output_type": "execute_result",
          "data": {
            "text/plain": [
              "array([4, 3, 6])"
            ]
          },
          "metadata": {
            "tags": []
          },
          "execution_count": 11
        }
      ]
    },
    {
      "cell_type": "code",
      "metadata": {
        "id": "IofSlkLdONtT"
      },
      "source": [
        ""
      ],
      "execution_count": null,
      "outputs": []
    },
    {
      "cell_type": "markdown",
      "metadata": {
        "id": "fZNbRDfjLeo-"
      },
      "source": [
        "**Como saber a frequência (quantidade de vezes em cada índice)?**"
      ]
    },
    {
      "cell_type": "code",
      "metadata": {
        "id": "0ZyZpZX1ONwU",
        "colab": {
          "base_uri": "https://localhost:8080/"
        },
        "outputId": "040ffc1e-7587-4abe-b198-1cf828733986"
      },
      "source": [
        "serie = pd.Series(np.take(list('abcdefgh'), np.random.randint(8, size=50)))\n",
        "serie.value_counts()"
      ],
      "execution_count": null,
      "outputs": [
        {
          "output_type": "execute_result",
          "data": {
            "text/plain": [
              "g    9\n",
              "a    9\n",
              "b    8\n",
              "e    8\n",
              "f    7\n",
              "d    4\n",
              "c    3\n",
              "h    2\n",
              "dtype: int64"
            ]
          },
          "metadata": {
            "tags": []
          },
          "execution_count": 12
        }
      ]
    },
    {
      "cell_type": "code",
      "metadata": {
        "id": "DlDTLu8oON1H",
        "colab": {
          "base_uri": "https://localhost:8080/"
        },
        "outputId": "3e4005d6-6dbe-4361-ece6-6b1009a8b5f1"
      },
      "source": [
        "s2 = pd.Series(np.random.randint(1,10,7))\n",
        "print(s2)\n",
        "np.where(s2 % 2==0)"
      ],
      "execution_count": null,
      "outputs": [
        {
          "output_type": "stream",
          "text": [
            "0    5\n",
            "1    9\n",
            "2    6\n",
            "3    3\n",
            "4    3\n",
            "5    3\n",
            "6    5\n",
            "dtype: int64\n"
          ],
          "name": "stdout"
        },
        {
          "output_type": "execute_result",
          "data": {
            "text/plain": [
              "(array([2]),)"
            ]
          },
          "metadata": {
            "tags": []
          },
          "execution_count": 14
        }
      ]
    },
    {
      "cell_type": "code",
      "metadata": {
        "id": "AHP5s3FoON2w",
        "colab": {
          "base_uri": "https://localhost:8080/"
        },
        "outputId": "ec43c929-67e8-49ee-b894-00c162282219"
      },
      "source": [
        "palavras = pd.Series(['casa', ' azul', 'bola', 'brigadeiro'])\n",
        "palavras"
      ],
      "execution_count": null,
      "outputs": [
        {
          "output_type": "execute_result",
          "data": {
            "text/plain": [
              "0          casa\n",
              "1          azul\n",
              "2          bola\n",
              "3    brigadeiro\n",
              "dtype: object"
            ]
          },
          "metadata": {
            "tags": []
          },
          "execution_count": 16
        }
      ]
    },
    {
      "cell_type": "code",
      "metadata": {
        "id": "XLs9z-s7ON5_",
        "colab": {
          "base_uri": "https://localhost:8080/"
        },
        "outputId": "c3bcab01-c1a5-4af7-891a-d688e351ae52"
      },
      "source": [
        "palavras = pd.Series(['casa', ' azul', 'bola', 'brigadeiro'])\n",
        "palavras.map(lambda x: x.title())\n"
      ],
      "execution_count": null,
      "outputs": [
        {
          "output_type": "execute_result",
          "data": {
            "text/plain": [
              "0          Casa\n",
              "1          Azul\n",
              "2          Bola\n",
              "3    Brigadeiro\n",
              "dtype: object"
            ]
          },
          "metadata": {
            "tags": []
          },
          "execution_count": 17
        }
      ]
    },
    {
      "cell_type": "code",
      "metadata": {
        "id": "dIiHRIwpON9P",
        "colab": {
          "base_uri": "https://localhost:8080/"
        },
        "outputId": "3cedb379-9768-49c3-93d8-9ab2dc247d48"
      },
      "source": [
        "palavras = pd.Series(['casa','azul','bola','brigadeiro'])\n",
        "palavras.map(lambda x: x.upper())"
      ],
      "execution_count": null,
      "outputs": [
        {
          "output_type": "execute_result",
          "data": {
            "text/plain": [
              "0          CASA\n",
              "1          AZUL\n",
              "2          BOLA\n",
              "3    BRIGADEIRO\n",
              "dtype: object"
            ]
          },
          "metadata": {
            "tags": []
          },
          "execution_count": 18
        }
      ]
    },
    {
      "cell_type": "code",
      "metadata": {
        "id": "vScXwkSrQ3Qv"
      },
      "source": [
        ""
      ],
      "execution_count": null,
      "outputs": []
    },
    {
      "cell_type": "markdown",
      "metadata": {
        "id": "Qu54tsmpz-MP"
      },
      "source": [
        "***PANDAS DATA FRAME***"
      ]
    },
    {
      "cell_type": "markdown",
      "metadata": {
        "id": "vMC4qraJ02Ut"
      },
      "source": [
        "Criando um Data frame com 5 linhas"
      ]
    },
    {
      "cell_type": "code",
      "metadata": {
        "colab": {
          "base_uri": "https://localhost:8080/",
          "height": 204
        },
        "id": "lcvE9jdvQ3Tu",
        "outputId": "a4a7456d-4a7a-418b-b258-7d982d4307ec"
      },
      "source": [
        "data = [1,2,3,4,5]\n",
        "df = pd.DataFrame(data)\n",
        "df"
      ],
      "execution_count": null,
      "outputs": [
        {
          "output_type": "execute_result",
          "data": {
            "text/html": [
              "<div>\n",
              "<style scoped>\n",
              "    .dataframe tbody tr th:only-of-type {\n",
              "        vertical-align: middle;\n",
              "    }\n",
              "\n",
              "    .dataframe tbody tr th {\n",
              "        vertical-align: top;\n",
              "    }\n",
              "\n",
              "    .dataframe thead th {\n",
              "        text-align: right;\n",
              "    }\n",
              "</style>\n",
              "<table border=\"1\" class=\"dataframe\">\n",
              "  <thead>\n",
              "    <tr style=\"text-align: right;\">\n",
              "      <th></th>\n",
              "      <th>0</th>\n",
              "    </tr>\n",
              "  </thead>\n",
              "  <tbody>\n",
              "    <tr>\n",
              "      <th>0</th>\n",
              "      <td>1</td>\n",
              "    </tr>\n",
              "    <tr>\n",
              "      <th>1</th>\n",
              "      <td>2</td>\n",
              "    </tr>\n",
              "    <tr>\n",
              "      <th>2</th>\n",
              "      <td>3</td>\n",
              "    </tr>\n",
              "    <tr>\n",
              "      <th>3</th>\n",
              "      <td>4</td>\n",
              "    </tr>\n",
              "    <tr>\n",
              "      <th>4</th>\n",
              "      <td>5</td>\n",
              "    </tr>\n",
              "  </tbody>\n",
              "</table>\n",
              "</div>"
            ],
            "text/plain": [
              "   0\n",
              "0  1\n",
              "1  2\n",
              "2  3\n",
              "3  4\n",
              "4  5"
            ]
          },
          "metadata": {
            "tags": []
          },
          "execution_count": 7
        }
      ]
    },
    {
      "cell_type": "markdown",
      "metadata": {
        "id": "WedBTPHR01Su"
      },
      "source": [
        "Criando uma Data Frame com 5 colunas\n"
      ]
    },
    {
      "cell_type": "code",
      "metadata": {
        "colab": {
          "base_uri": "https://localhost:8080/",
          "height": 97
        },
        "id": "BaNKJ1bNQ3Wm",
        "outputId": "416f0fd6-4f7b-47c8-9bfb-86ac74b7f0ea"
      },
      "source": [
        "data1 = [1,2,3,4,5]\n",
        "df = pd.DataFrame([data1], columns=list('abcde'))\n",
        "print(df.shape) #Número de linhas e colunas (x,y) em que x é linhas e y colunas\n",
        "df"
      ],
      "execution_count": null,
      "outputs": [
        {
          "output_type": "stream",
          "text": [
            "(1, 5)\n"
          ],
          "name": "stdout"
        },
        {
          "output_type": "execute_result",
          "data": {
            "text/html": [
              "<div>\n",
              "<style scoped>\n",
              "    .dataframe tbody tr th:only-of-type {\n",
              "        vertical-align: middle;\n",
              "    }\n",
              "\n",
              "    .dataframe tbody tr th {\n",
              "        vertical-align: top;\n",
              "    }\n",
              "\n",
              "    .dataframe thead th {\n",
              "        text-align: right;\n",
              "    }\n",
              "</style>\n",
              "<table border=\"1\" class=\"dataframe\">\n",
              "  <thead>\n",
              "    <tr style=\"text-align: right;\">\n",
              "      <th></th>\n",
              "      <th>a</th>\n",
              "      <th>b</th>\n",
              "      <th>c</th>\n",
              "      <th>d</th>\n",
              "      <th>e</th>\n",
              "    </tr>\n",
              "  </thead>\n",
              "  <tbody>\n",
              "    <tr>\n",
              "      <th>0</th>\n",
              "      <td>1</td>\n",
              "      <td>2</td>\n",
              "      <td>3</td>\n",
              "      <td>4</td>\n",
              "      <td>5</td>\n",
              "    </tr>\n",
              "  </tbody>\n",
              "</table>\n",
              "</div>"
            ],
            "text/plain": [
              "   a  b  c  d  e\n",
              "0  1  2  3  4  5"
            ]
          },
          "metadata": {
            "tags": []
          },
          "execution_count": 8
        }
      ]
    },
    {
      "cell_type": "markdown",
      "metadata": {
        "id": "vSGteZVY2THV"
      },
      "source": [
        "Variação de como colocar nomes nas colunas"
      ]
    },
    {
      "cell_type": "code",
      "metadata": {
        "colab": {
          "base_uri": "https://localhost:8080/",
          "height": 80
        },
        "id": "XwrQcIy6Q3ZA",
        "outputId": "271d0396-b4a4-49ed-d7af-3055fe113cb0"
      },
      "source": [
        "data1 = [1,2,3,4,5] \n",
        "df = pd.DataFrame([data1],columns=['a','b','c','D','E'])\n",
        "df"
      ],
      "execution_count": null,
      "outputs": [
        {
          "output_type": "execute_result",
          "data": {
            "text/html": [
              "<div>\n",
              "<style scoped>\n",
              "    .dataframe tbody tr th:only-of-type {\n",
              "        vertical-align: middle;\n",
              "    }\n",
              "\n",
              "    .dataframe tbody tr th {\n",
              "        vertical-align: top;\n",
              "    }\n",
              "\n",
              "    .dataframe thead th {\n",
              "        text-align: right;\n",
              "    }\n",
              "</style>\n",
              "<table border=\"1\" class=\"dataframe\">\n",
              "  <thead>\n",
              "    <tr style=\"text-align: right;\">\n",
              "      <th></th>\n",
              "      <th>a</th>\n",
              "      <th>b</th>\n",
              "      <th>c</th>\n",
              "      <th>D</th>\n",
              "      <th>E</th>\n",
              "    </tr>\n",
              "  </thead>\n",
              "  <tbody>\n",
              "    <tr>\n",
              "      <th>0</th>\n",
              "      <td>1</td>\n",
              "      <td>2</td>\n",
              "      <td>3</td>\n",
              "      <td>4</td>\n",
              "      <td>5</td>\n",
              "    </tr>\n",
              "  </tbody>\n",
              "</table>\n",
              "</div>"
            ],
            "text/plain": [
              "   a  b  c  D  E\n",
              "0  1  2  3  4  5"
            ]
          },
          "metadata": {
            "tags": []
          },
          "execution_count": 9
        }
      ]
    },
    {
      "cell_type": "code",
      "metadata": {
        "colab": {
          "base_uri": "https://localhost:8080/",
          "height": 221
        },
        "id": "iqSZPzQWQ3ca",
        "outputId": "2cf152b2-d675-4892-d8f8-147a6d914172"
      },
      "source": [
        "data1 = [1,2,3,4,5]\n",
        "df = pd.DataFrame( data1, columns=list('a'))\n",
        "print(df.shape) #Número de linhas e colunas (x,y) em que x é linhas e y colunas\n",
        "df"
      ],
      "execution_count": null,
      "outputs": [
        {
          "output_type": "stream",
          "text": [
            "(5, 1)\n"
          ],
          "name": "stdout"
        },
        {
          "output_type": "execute_result",
          "data": {
            "text/html": [
              "<div>\n",
              "<style scoped>\n",
              "    .dataframe tbody tr th:only-of-type {\n",
              "        vertical-align: middle;\n",
              "    }\n",
              "\n",
              "    .dataframe tbody tr th {\n",
              "        vertical-align: top;\n",
              "    }\n",
              "\n",
              "    .dataframe thead th {\n",
              "        text-align: right;\n",
              "    }\n",
              "</style>\n",
              "<table border=\"1\" class=\"dataframe\">\n",
              "  <thead>\n",
              "    <tr style=\"text-align: right;\">\n",
              "      <th></th>\n",
              "      <th>a</th>\n",
              "    </tr>\n",
              "  </thead>\n",
              "  <tbody>\n",
              "    <tr>\n",
              "      <th>0</th>\n",
              "      <td>1</td>\n",
              "    </tr>\n",
              "    <tr>\n",
              "      <th>1</th>\n",
              "      <td>2</td>\n",
              "    </tr>\n",
              "    <tr>\n",
              "      <th>2</th>\n",
              "      <td>3</td>\n",
              "    </tr>\n",
              "    <tr>\n",
              "      <th>3</th>\n",
              "      <td>4</td>\n",
              "    </tr>\n",
              "    <tr>\n",
              "      <th>4</th>\n",
              "      <td>5</td>\n",
              "    </tr>\n",
              "  </tbody>\n",
              "</table>\n",
              "</div>"
            ],
            "text/plain": [
              "   a\n",
              "0  1\n",
              "1  2\n",
              "2  3\n",
              "3  4\n",
              "4  5"
            ]
          },
          "metadata": {
            "tags": []
          },
          "execution_count": 14
        }
      ]
    },
    {
      "cell_type": "code",
      "metadata": {
        "colab": {
          "base_uri": "https://localhost:8080/",
          "height": 128
        },
        "id": "zucsh8d4Q3et",
        "outputId": "9d5fc514-9694-4def-8cd1-b6b397538f3f"
      },
      "source": [
        "data1 = [1,2,3,4,5]\n",
        "data2 = [5,7,8,9,10]\n",
        "df = pd.DataFrame([data1,data2], columns=list('abcde'))\n",
        "print(df.shape)\n",
        "df"
      ],
      "execution_count": null,
      "outputs": [
        {
          "output_type": "stream",
          "text": [
            "(2, 5)\n"
          ],
          "name": "stdout"
        },
        {
          "output_type": "execute_result",
          "data": {
            "text/html": [
              "<div>\n",
              "<style scoped>\n",
              "    .dataframe tbody tr th:only-of-type {\n",
              "        vertical-align: middle;\n",
              "    }\n",
              "\n",
              "    .dataframe tbody tr th {\n",
              "        vertical-align: top;\n",
              "    }\n",
              "\n",
              "    .dataframe thead th {\n",
              "        text-align: right;\n",
              "    }\n",
              "</style>\n",
              "<table border=\"1\" class=\"dataframe\">\n",
              "  <thead>\n",
              "    <tr style=\"text-align: right;\">\n",
              "      <th></th>\n",
              "      <th>a</th>\n",
              "      <th>b</th>\n",
              "      <th>c</th>\n",
              "      <th>d</th>\n",
              "      <th>e</th>\n",
              "    </tr>\n",
              "  </thead>\n",
              "  <tbody>\n",
              "    <tr>\n",
              "      <th>0</th>\n",
              "      <td>1</td>\n",
              "      <td>2</td>\n",
              "      <td>3</td>\n",
              "      <td>4</td>\n",
              "      <td>5</td>\n",
              "    </tr>\n",
              "    <tr>\n",
              "      <th>1</th>\n",
              "      <td>5</td>\n",
              "      <td>7</td>\n",
              "      <td>8</td>\n",
              "      <td>9</td>\n",
              "      <td>10</td>\n",
              "    </tr>\n",
              "  </tbody>\n",
              "</table>\n",
              "</div>"
            ],
            "text/plain": [
              "   a  b  c  d   e\n",
              "0  1  2  3  4   5\n",
              "1  5  7  8  9  10"
            ]
          },
          "metadata": {
            "tags": []
          },
          "execution_count": 2
        }
      ]
    },
    {
      "cell_type": "markdown",
      "metadata": {
        "id": "eMRptY365kIy"
      },
      "source": [
        "Criando um DataFrame a partir de um array"
      ]
    },
    {
      "cell_type": "code",
      "metadata": {
        "colab": {
          "base_uri": "https://localhost:8080/",
          "height": 289
        },
        "id": "bo69qT4IQ3hi",
        "outputId": "50f1c370-1bbd-4ce8-b1be-9c3fd7ff00a0"
      },
      "source": [
        "dados = np.random.rand(5,2)\n",
        "print(dados)\n",
        "df = pd.DataFrame(dados)\n",
        "df"
      ],
      "execution_count": null,
      "outputs": [
        {
          "output_type": "stream",
          "text": [
            "[[0.58777935 0.14330787]\n",
            " [0.30484062 0.22364201]\n",
            " [0.14551678 0.03236545]\n",
            " [0.09425987 0.80395595]\n",
            " [0.08359465 0.72596117]]\n"
          ],
          "name": "stdout"
        },
        {
          "output_type": "execute_result",
          "data": {
            "text/html": [
              "<div>\n",
              "<style scoped>\n",
              "    .dataframe tbody tr th:only-of-type {\n",
              "        vertical-align: middle;\n",
              "    }\n",
              "\n",
              "    .dataframe tbody tr th {\n",
              "        vertical-align: top;\n",
              "    }\n",
              "\n",
              "    .dataframe thead th {\n",
              "        text-align: right;\n",
              "    }\n",
              "</style>\n",
              "<table border=\"1\" class=\"dataframe\">\n",
              "  <thead>\n",
              "    <tr style=\"text-align: right;\">\n",
              "      <th></th>\n",
              "      <th>0</th>\n",
              "      <th>1</th>\n",
              "    </tr>\n",
              "  </thead>\n",
              "  <tbody>\n",
              "    <tr>\n",
              "      <th>0</th>\n",
              "      <td>0.587779</td>\n",
              "      <td>0.143308</td>\n",
              "    </tr>\n",
              "    <tr>\n",
              "      <th>1</th>\n",
              "      <td>0.304841</td>\n",
              "      <td>0.223642</td>\n",
              "    </tr>\n",
              "    <tr>\n",
              "      <th>2</th>\n",
              "      <td>0.145517</td>\n",
              "      <td>0.032365</td>\n",
              "    </tr>\n",
              "    <tr>\n",
              "      <th>3</th>\n",
              "      <td>0.094260</td>\n",
              "      <td>0.803956</td>\n",
              "    </tr>\n",
              "    <tr>\n",
              "      <th>4</th>\n",
              "      <td>0.083595</td>\n",
              "      <td>0.725961</td>\n",
              "    </tr>\n",
              "  </tbody>\n",
              "</table>\n",
              "</div>"
            ],
            "text/plain": [
              "          0         1\n",
              "0  0.587779  0.143308\n",
              "1  0.304841  0.223642\n",
              "2  0.145517  0.032365\n",
              "3  0.094260  0.803956\n",
              "4  0.083595  0.725961"
            ]
          },
          "metadata": {
            "tags": []
          },
          "execution_count": 18
        }
      ]
    },
    {
      "cell_type": "markdown",
      "metadata": {
        "id": "g9ccRNkn7LpR"
      },
      "source": [
        "Criando um DataFrame a partir de um array (Números Inteiros, com teto de valor)"
      ]
    },
    {
      "cell_type": "code",
      "metadata": {
        "colab": {
          "base_uri": "https://localhost:8080/",
          "height": 204
        },
        "id": "RSiXdxoyQ3kQ",
        "outputId": "57c3031e-5d86-40a2-bdf3-e993bf1ce03b"
      },
      "source": [
        "dados = np.random.randint(20, size=(5,2))\n",
        "df = pd.DataFrame(dados)\n",
        "df"
      ],
      "execution_count": null,
      "outputs": [
        {
          "output_type": "execute_result",
          "data": {
            "text/html": [
              "<div>\n",
              "<style scoped>\n",
              "    .dataframe tbody tr th:only-of-type {\n",
              "        vertical-align: middle;\n",
              "    }\n",
              "\n",
              "    .dataframe tbody tr th {\n",
              "        vertical-align: top;\n",
              "    }\n",
              "\n",
              "    .dataframe thead th {\n",
              "        text-align: right;\n",
              "    }\n",
              "</style>\n",
              "<table border=\"1\" class=\"dataframe\">\n",
              "  <thead>\n",
              "    <tr style=\"text-align: right;\">\n",
              "      <th></th>\n",
              "      <th>0</th>\n",
              "      <th>1</th>\n",
              "    </tr>\n",
              "  </thead>\n",
              "  <tbody>\n",
              "    <tr>\n",
              "      <th>0</th>\n",
              "      <td>17</td>\n",
              "      <td>14</td>\n",
              "    </tr>\n",
              "    <tr>\n",
              "      <th>1</th>\n",
              "      <td>12</td>\n",
              "      <td>13</td>\n",
              "    </tr>\n",
              "    <tr>\n",
              "      <th>2</th>\n",
              "      <td>19</td>\n",
              "      <td>16</td>\n",
              "    </tr>\n",
              "    <tr>\n",
              "      <th>3</th>\n",
              "      <td>13</td>\n",
              "      <td>18</td>\n",
              "    </tr>\n",
              "    <tr>\n",
              "      <th>4</th>\n",
              "      <td>7</td>\n",
              "      <td>16</td>\n",
              "    </tr>\n",
              "  </tbody>\n",
              "</table>\n",
              "</div>"
            ],
            "text/plain": [
              "    0   1\n",
              "0  17  14\n",
              "1  12  13\n",
              "2  19  16\n",
              "3  13  18\n",
              "4   7  16"
            ]
          },
          "metadata": {
            "tags": []
          },
          "execution_count": 19
        }
      ]
    },
    {
      "cell_type": "code",
      "metadata": {
        "id": "SCgQDeVMOOAs"
      },
      "source": [
        "ser1 = pd.Series(list('abcdefghijklmnopqrstuvwxyz'))\n",
        "ser2 = pd.Series(np.arange(26))\n"
      ],
      "execution_count": null,
      "outputs": []
    },
    {
      "cell_type": "code",
      "metadata": {
        "id": "KKxkI0ldxd6E",
        "colab": {
          "base_uri": "https://localhost:8080/",
          "height": 855
        },
        "outputId": "1b58f6f4-c541-49cb-b14b-0efe997c7256"
      },
      "source": [
        "df = pd.concat([ser1, ser2], axis=1)\n",
        "df"
      ],
      "execution_count": null,
      "outputs": [
        {
          "output_type": "execute_result",
          "data": {
            "text/html": [
              "<div>\n",
              "<style scoped>\n",
              "    .dataframe tbody tr th:only-of-type {\n",
              "        vertical-align: middle;\n",
              "    }\n",
              "\n",
              "    .dataframe tbody tr th {\n",
              "        vertical-align: top;\n",
              "    }\n",
              "\n",
              "    .dataframe thead th {\n",
              "        text-align: right;\n",
              "    }\n",
              "</style>\n",
              "<table border=\"1\" class=\"dataframe\">\n",
              "  <thead>\n",
              "    <tr style=\"text-align: right;\">\n",
              "      <th></th>\n",
              "      <th>0</th>\n",
              "      <th>1</th>\n",
              "    </tr>\n",
              "  </thead>\n",
              "  <tbody>\n",
              "    <tr>\n",
              "      <th>0</th>\n",
              "      <td>a</td>\n",
              "      <td>0</td>\n",
              "    </tr>\n",
              "    <tr>\n",
              "      <th>1</th>\n",
              "      <td>b</td>\n",
              "      <td>1</td>\n",
              "    </tr>\n",
              "    <tr>\n",
              "      <th>2</th>\n",
              "      <td>c</td>\n",
              "      <td>2</td>\n",
              "    </tr>\n",
              "    <tr>\n",
              "      <th>3</th>\n",
              "      <td>d</td>\n",
              "      <td>3</td>\n",
              "    </tr>\n",
              "    <tr>\n",
              "      <th>4</th>\n",
              "      <td>e</td>\n",
              "      <td>4</td>\n",
              "    </tr>\n",
              "    <tr>\n",
              "      <th>5</th>\n",
              "      <td>f</td>\n",
              "      <td>5</td>\n",
              "    </tr>\n",
              "    <tr>\n",
              "      <th>6</th>\n",
              "      <td>g</td>\n",
              "      <td>6</td>\n",
              "    </tr>\n",
              "    <tr>\n",
              "      <th>7</th>\n",
              "      <td>h</td>\n",
              "      <td>7</td>\n",
              "    </tr>\n",
              "    <tr>\n",
              "      <th>8</th>\n",
              "      <td>i</td>\n",
              "      <td>8</td>\n",
              "    </tr>\n",
              "    <tr>\n",
              "      <th>9</th>\n",
              "      <td>j</td>\n",
              "      <td>9</td>\n",
              "    </tr>\n",
              "    <tr>\n",
              "      <th>10</th>\n",
              "      <td>k</td>\n",
              "      <td>10</td>\n",
              "    </tr>\n",
              "    <tr>\n",
              "      <th>11</th>\n",
              "      <td>l</td>\n",
              "      <td>11</td>\n",
              "    </tr>\n",
              "    <tr>\n",
              "      <th>12</th>\n",
              "      <td>m</td>\n",
              "      <td>12</td>\n",
              "    </tr>\n",
              "    <tr>\n",
              "      <th>13</th>\n",
              "      <td>n</td>\n",
              "      <td>13</td>\n",
              "    </tr>\n",
              "    <tr>\n",
              "      <th>14</th>\n",
              "      <td>o</td>\n",
              "      <td>14</td>\n",
              "    </tr>\n",
              "    <tr>\n",
              "      <th>15</th>\n",
              "      <td>p</td>\n",
              "      <td>15</td>\n",
              "    </tr>\n",
              "    <tr>\n",
              "      <th>16</th>\n",
              "      <td>q</td>\n",
              "      <td>16</td>\n",
              "    </tr>\n",
              "    <tr>\n",
              "      <th>17</th>\n",
              "      <td>r</td>\n",
              "      <td>17</td>\n",
              "    </tr>\n",
              "    <tr>\n",
              "      <th>18</th>\n",
              "      <td>s</td>\n",
              "      <td>18</td>\n",
              "    </tr>\n",
              "    <tr>\n",
              "      <th>19</th>\n",
              "      <td>t</td>\n",
              "      <td>19</td>\n",
              "    </tr>\n",
              "    <tr>\n",
              "      <th>20</th>\n",
              "      <td>u</td>\n",
              "      <td>20</td>\n",
              "    </tr>\n",
              "    <tr>\n",
              "      <th>21</th>\n",
              "      <td>v</td>\n",
              "      <td>21</td>\n",
              "    </tr>\n",
              "    <tr>\n",
              "      <th>22</th>\n",
              "      <td>w</td>\n",
              "      <td>22</td>\n",
              "    </tr>\n",
              "    <tr>\n",
              "      <th>23</th>\n",
              "      <td>x</td>\n",
              "      <td>23</td>\n",
              "    </tr>\n",
              "    <tr>\n",
              "      <th>24</th>\n",
              "      <td>y</td>\n",
              "      <td>24</td>\n",
              "    </tr>\n",
              "    <tr>\n",
              "      <th>25</th>\n",
              "      <td>z</td>\n",
              "      <td>25</td>\n",
              "    </tr>\n",
              "  </tbody>\n",
              "</table>\n",
              "</div>"
            ],
            "text/plain": [
              "    0   1\n",
              "0   a   0\n",
              "1   b   1\n",
              "2   c   2\n",
              "3   d   3\n",
              "4   e   4\n",
              "5   f   5\n",
              "6   g   6\n",
              "7   h   7\n",
              "8   i   8\n",
              "9   j   9\n",
              "10  k  10\n",
              "11  l  11\n",
              "12  m  12\n",
              "13  n  13\n",
              "14  o  14\n",
              "15  p  15\n",
              "16  q  16\n",
              "17  r  17\n",
              "18  s  18\n",
              "19  t  19\n",
              "20  u  20\n",
              "21  v  21\n",
              "22  w  22\n",
              "23  x  23\n",
              "24  y  24\n",
              "25  z  25"
            ]
          },
          "metadata": {
            "tags": []
          },
          "execution_count": 23
        }
      ]
    },
    {
      "cell_type": "code",
      "metadata": {
        "id": "_X-OjOnF8UUm",
        "colab": {
          "base_uri": "https://localhost:8080/",
          "height": 204
        },
        "outputId": "aad390cc-2c4d-4947-f8bb-aa1f6e6e9c7d"
      },
      "source": [
        "df = pd.DataFrame({'col1':pd.Series(data1), 'col2':pd.Series(data2)})\n",
        "df"
      ],
      "execution_count": null,
      "outputs": [
        {
          "output_type": "execute_result",
          "data": {
            "text/html": [
              "<div>\n",
              "<style scoped>\n",
              "    .dataframe tbody tr th:only-of-type {\n",
              "        vertical-align: middle;\n",
              "    }\n",
              "\n",
              "    .dataframe tbody tr th {\n",
              "        vertical-align: top;\n",
              "    }\n",
              "\n",
              "    .dataframe thead th {\n",
              "        text-align: right;\n",
              "    }\n",
              "</style>\n",
              "<table border=\"1\" class=\"dataframe\">\n",
              "  <thead>\n",
              "    <tr style=\"text-align: right;\">\n",
              "      <th></th>\n",
              "      <th>col1</th>\n",
              "      <th>col2</th>\n",
              "    </tr>\n",
              "  </thead>\n",
              "  <tbody>\n",
              "    <tr>\n",
              "      <th>0</th>\n",
              "      <td>1</td>\n",
              "      <td>5</td>\n",
              "    </tr>\n",
              "    <tr>\n",
              "      <th>1</th>\n",
              "      <td>2</td>\n",
              "      <td>7</td>\n",
              "    </tr>\n",
              "    <tr>\n",
              "      <th>2</th>\n",
              "      <td>3</td>\n",
              "      <td>8</td>\n",
              "    </tr>\n",
              "    <tr>\n",
              "      <th>3</th>\n",
              "      <td>4</td>\n",
              "      <td>9</td>\n",
              "    </tr>\n",
              "    <tr>\n",
              "      <th>4</th>\n",
              "      <td>5</td>\n",
              "      <td>10</td>\n",
              "    </tr>\n",
              "  </tbody>\n",
              "</table>\n",
              "</div>"
            ],
            "text/plain": [
              "   col1  col2\n",
              "0     1     5\n",
              "1     2     7\n",
              "2     3     8\n",
              "3     4     9\n",
              "4     5    10"
            ]
          },
          "metadata": {
            "tags": []
          },
          "execution_count": 3
        }
      ]
    },
    {
      "cell_type": "code",
      "metadata": {
        "id": "4khy15UW8UXT",
        "colab": {
          "base_uri": "https://localhost:8080/",
          "height": 204
        },
        "outputId": "083588d0-730f-4442-84f2-65527c86d3d4"
      },
      "source": [
        "df = pd.DataFrame({\n",
        "'Aluno':['Alfredo', 'Abel', 'Henrique', 'Julia', 'Calie'], \n",
        "'Falta':[3,4,2,1,4],\n",
        "'Prova':[2,7,5,10,6],\n",
        "'Apresentação':[8.5, 7.5, 9.0, 7.5, 8.0]})\n",
        "df"
      ],
      "execution_count": null,
      "outputs": [
        {
          "output_type": "execute_result",
          "data": {
            "text/html": [
              "<div>\n",
              "<style scoped>\n",
              "    .dataframe tbody tr th:only-of-type {\n",
              "        vertical-align: middle;\n",
              "    }\n",
              "\n",
              "    .dataframe tbody tr th {\n",
              "        vertical-align: top;\n",
              "    }\n",
              "\n",
              "    .dataframe thead th {\n",
              "        text-align: right;\n",
              "    }\n",
              "</style>\n",
              "<table border=\"1\" class=\"dataframe\">\n",
              "  <thead>\n",
              "    <tr style=\"text-align: right;\">\n",
              "      <th></th>\n",
              "      <th>Aluno</th>\n",
              "      <th>Falta</th>\n",
              "      <th>Prova</th>\n",
              "      <th>Apresentação</th>\n",
              "    </tr>\n",
              "  </thead>\n",
              "  <tbody>\n",
              "    <tr>\n",
              "      <th>0</th>\n",
              "      <td>Alfredo</td>\n",
              "      <td>3</td>\n",
              "      <td>2</td>\n",
              "      <td>8.5</td>\n",
              "    </tr>\n",
              "    <tr>\n",
              "      <th>1</th>\n",
              "      <td>Abel</td>\n",
              "      <td>4</td>\n",
              "      <td>7</td>\n",
              "      <td>7.5</td>\n",
              "    </tr>\n",
              "    <tr>\n",
              "      <th>2</th>\n",
              "      <td>Henrique</td>\n",
              "      <td>2</td>\n",
              "      <td>5</td>\n",
              "      <td>9.0</td>\n",
              "    </tr>\n",
              "    <tr>\n",
              "      <th>3</th>\n",
              "      <td>Julia</td>\n",
              "      <td>1</td>\n",
              "      <td>10</td>\n",
              "      <td>7.5</td>\n",
              "    </tr>\n",
              "    <tr>\n",
              "      <th>4</th>\n",
              "      <td>Calie</td>\n",
              "      <td>4</td>\n",
              "      <td>6</td>\n",
              "      <td>8.0</td>\n",
              "    </tr>\n",
              "  </tbody>\n",
              "</table>\n",
              "</div>"
            ],
            "text/plain": [
              "      Aluno  Falta  Prova  Apresentação\n",
              "0   Alfredo      3      2           8.5\n",
              "1      Abel      4      7           7.5\n",
              "2  Henrique      2      5           9.0\n",
              "3     Julia      1     10           7.5\n",
              "4     Calie      4      6           8.0"
            ]
          },
          "metadata": {
            "tags": []
          },
          "execution_count": 5
        }
      ]
    },
    {
      "cell_type": "code",
      "metadata": {
        "id": "SwfVJT4P8Uao",
        "colab": {
          "base_uri": "https://localhost:8080/"
        },
        "outputId": "3c296a16-c4c6-44d6-e9eb-eb4c264b0b68"
      },
      "source": [
        "print(df.columns)"
      ],
      "execution_count": null,
      "outputs": [
        {
          "output_type": "stream",
          "text": [
            "Index(['Aluno', 'Falta', 'Prova', 'Apresentação'], dtype='object')\n"
          ],
          "name": "stdout"
        }
      ]
    },
    {
      "cell_type": "code",
      "metadata": {
        "id": "yt7cNJKw8UdU",
        "colab": {
          "base_uri": "https://localhost:8080/"
        },
        "outputId": "250c1f94-42d6-4827-b9db-3ae4907829b9"
      },
      "source": [
        "print(df.dtypes)"
      ],
      "execution_count": null,
      "outputs": [
        {
          "output_type": "stream",
          "text": [
            "Aluno            object\n",
            "Falta             int64\n",
            "Prova             int64\n",
            "Apresentação    float64\n",
            "dtype: object\n"
          ],
          "name": "stdout"
        }
      ]
    },
    {
      "cell_type": "code",
      "metadata": {
        "id": "A_b325bx8UhE",
        "colab": {
          "base_uri": "https://localhost:8080/"
        },
        "outputId": "1e3db5b2-ed93-468b-cb80-2439248b87b9"
      },
      "source": [
        "print(df['Apresentação'])"
      ],
      "execution_count": null,
      "outputs": [
        {
          "output_type": "stream",
          "text": [
            "0    8.5\n",
            "1    7.5\n",
            "2    9.0\n",
            "3    7.5\n",
            "4    8.0\n",
            "Name: Apresentação, dtype: float64\n"
          ],
          "name": "stdout"
        }
      ]
    },
    {
      "cell_type": "code",
      "metadata": {
        "id": "3uwOJcM_8UjC",
        "colab": {
          "base_uri": "https://localhost:8080/"
        },
        "outputId": "182657ea-0dbe-4630-8bb3-82269f077a79"
      },
      "source": [
        "print(df[['Apresentação']])"
      ],
      "execution_count": null,
      "outputs": [
        {
          "output_type": "stream",
          "text": [
            "   Apresentação\n",
            "0           8.5\n",
            "1           7.5\n",
            "2           9.0\n",
            "3           7.5\n",
            "4           8.0\n"
          ],
          "name": "stdout"
        }
      ]
    },
    {
      "cell_type": "code",
      "metadata": {
        "id": "MGaynDlY8UlQ",
        "colab": {
          "base_uri": "https://localhost:8080/"
        },
        "outputId": "82b20495-14a4-416d-ff10-ef1dba234d68"
      },
      "source": [
        "print(df.sum())"
      ],
      "execution_count": null,
      "outputs": [
        {
          "output_type": "stream",
          "text": [
            "Aluno           AlfredoAbelHenriqueJuliaCalie\n",
            "Falta                                      14\n",
            "Prova                                      30\n",
            "Apresentação                             40.5\n",
            "dtype: object\n"
          ],
          "name": "stdout"
        }
      ]
    },
    {
      "cell_type": "code",
      "metadata": {
        "colab": {
          "base_uri": "https://localhost:8080/"
        },
        "id": "Ysws6XgMuNZV",
        "outputId": "839103d8-00da-43d8-b341-2aa3416138ff"
      },
      "source": [
        "print(df)"
      ],
      "execution_count": null,
      "outputs": [
        {
          "output_type": "stream",
          "text": [
            "      Aluno  Falta  Prova  Apresentação\n",
            "0   Alfredo      3      2           8.5\n",
            "1      Abel      4      7           7.5\n",
            "2  Henrique      2      5           9.0\n",
            "3     Julia      1     10           7.5\n",
            "4     Calie      4      6           8.0\n"
          ],
          "name": "stdout"
        }
      ]
    },
    {
      "cell_type": "code",
      "metadata": {
        "colab": {
          "base_uri": "https://localhost:8080/"
        },
        "id": "_pHIah5MuNcL",
        "outputId": "9793cb9a-1ac2-42ae-d4df-994f55ddf1d9"
      },
      "source": [
        "print(df[['Apresentação','Falta']].sum())"
      ],
      "execution_count": null,
      "outputs": [
        {
          "output_type": "stream",
          "text": [
            "Apresentação    40.5\n",
            "Falta           14.0\n",
            "dtype: float64\n"
          ],
          "name": "stdout"
        }
      ]
    },
    {
      "cell_type": "code",
      "metadata": {
        "id": "rX1KBt1xuNff"
      },
      "source": [
        ""
      ],
      "execution_count": null,
      "outputs": []
    },
    {
      "cell_type": "markdown",
      "metadata": {
        "id": "65Q9s3oJvxA9"
      },
      "source": [
        "***PANDAS SERIES***"
      ]
    },
    {
      "cell_type": "code",
      "metadata": {
        "colab": {
          "base_uri": "https://localhost:8080/",
          "height": 204
        },
        "id": "egNaNMhAuNiE",
        "outputId": "c4112aa6-9134-47d2-b2e4-6d733577ea12"
      },
      "source": [
        "df.sort_values('Apresentação')"
      ],
      "execution_count": null,
      "outputs": [
        {
          "output_type": "execute_result",
          "data": {
            "text/html": [
              "<div>\n",
              "<style scoped>\n",
              "    .dataframe tbody tr th:only-of-type {\n",
              "        vertical-align: middle;\n",
              "    }\n",
              "\n",
              "    .dataframe tbody tr th {\n",
              "        vertical-align: top;\n",
              "    }\n",
              "\n",
              "    .dataframe thead th {\n",
              "        text-align: right;\n",
              "    }\n",
              "</style>\n",
              "<table border=\"1\" class=\"dataframe\">\n",
              "  <thead>\n",
              "    <tr style=\"text-align: right;\">\n",
              "      <th></th>\n",
              "      <th>Aluno</th>\n",
              "      <th>Falta</th>\n",
              "      <th>Prova</th>\n",
              "      <th>Apresentação</th>\n",
              "    </tr>\n",
              "  </thead>\n",
              "  <tbody>\n",
              "    <tr>\n",
              "      <th>1</th>\n",
              "      <td>Abel</td>\n",
              "      <td>4</td>\n",
              "      <td>7</td>\n",
              "      <td>7.5</td>\n",
              "    </tr>\n",
              "    <tr>\n",
              "      <th>3</th>\n",
              "      <td>Julia</td>\n",
              "      <td>1</td>\n",
              "      <td>10</td>\n",
              "      <td>7.5</td>\n",
              "    </tr>\n",
              "    <tr>\n",
              "      <th>4</th>\n",
              "      <td>Calie</td>\n",
              "      <td>4</td>\n",
              "      <td>6</td>\n",
              "      <td>8.0</td>\n",
              "    </tr>\n",
              "    <tr>\n",
              "      <th>0</th>\n",
              "      <td>Alfredo</td>\n",
              "      <td>3</td>\n",
              "      <td>2</td>\n",
              "      <td>8.5</td>\n",
              "    </tr>\n",
              "    <tr>\n",
              "      <th>2</th>\n",
              "      <td>Henrique</td>\n",
              "      <td>2</td>\n",
              "      <td>5</td>\n",
              "      <td>9.0</td>\n",
              "    </tr>\n",
              "  </tbody>\n",
              "</table>\n",
              "</div>"
            ],
            "text/plain": [
              "      Aluno  Falta  Prova  Apresentação\n",
              "1      Abel      4      7           7.5\n",
              "3     Julia      1     10           7.5\n",
              "4     Calie      4      6           8.0\n",
              "0   Alfredo      3      2           8.5\n",
              "2  Henrique      2      5           9.0"
            ]
          },
          "metadata": {
            "tags": []
          },
          "execution_count": 21
        }
      ]
    },
    {
      "cell_type": "code",
      "metadata": {
        "colab": {
          "base_uri": "https://localhost:8080/",
          "height": 204
        },
        "id": "-kOCVjxUuNmJ",
        "outputId": "6fe76b78-d1b5-4e93-dcb1-93ff0f857059"
      },
      "source": [
        "df.sort_values('Apresentação', ascending=False)"
      ],
      "execution_count": null,
      "outputs": [
        {
          "output_type": "execute_result",
          "data": {
            "text/html": [
              "<div>\n",
              "<style scoped>\n",
              "    .dataframe tbody tr th:only-of-type {\n",
              "        vertical-align: middle;\n",
              "    }\n",
              "\n",
              "    .dataframe tbody tr th {\n",
              "        vertical-align: top;\n",
              "    }\n",
              "\n",
              "    .dataframe thead th {\n",
              "        text-align: right;\n",
              "    }\n",
              "</style>\n",
              "<table border=\"1\" class=\"dataframe\">\n",
              "  <thead>\n",
              "    <tr style=\"text-align: right;\">\n",
              "      <th></th>\n",
              "      <th>Aluno</th>\n",
              "      <th>Falta</th>\n",
              "      <th>Prova</th>\n",
              "      <th>Apresentação</th>\n",
              "    </tr>\n",
              "  </thead>\n",
              "  <tbody>\n",
              "    <tr>\n",
              "      <th>2</th>\n",
              "      <td>Henrique</td>\n",
              "      <td>2</td>\n",
              "      <td>5</td>\n",
              "      <td>9.0</td>\n",
              "    </tr>\n",
              "    <tr>\n",
              "      <th>0</th>\n",
              "      <td>Alfredo</td>\n",
              "      <td>3</td>\n",
              "      <td>2</td>\n",
              "      <td>8.5</td>\n",
              "    </tr>\n",
              "    <tr>\n",
              "      <th>4</th>\n",
              "      <td>Calie</td>\n",
              "      <td>4</td>\n",
              "      <td>6</td>\n",
              "      <td>8.0</td>\n",
              "    </tr>\n",
              "    <tr>\n",
              "      <th>1</th>\n",
              "      <td>Abel</td>\n",
              "      <td>4</td>\n",
              "      <td>7</td>\n",
              "      <td>7.5</td>\n",
              "    </tr>\n",
              "    <tr>\n",
              "      <th>3</th>\n",
              "      <td>Julia</td>\n",
              "      <td>1</td>\n",
              "      <td>10</td>\n",
              "      <td>7.5</td>\n",
              "    </tr>\n",
              "  </tbody>\n",
              "</table>\n",
              "</div>"
            ],
            "text/plain": [
              "      Aluno  Falta  Prova  Apresentação\n",
              "2  Henrique      2      5           9.0\n",
              "0   Alfredo      3      2           8.5\n",
              "4     Calie      4      6           8.0\n",
              "1      Abel      4      7           7.5\n",
              "3     Julia      1     10           7.5"
            ]
          },
          "metadata": {
            "tags": []
          },
          "execution_count": 22
        }
      ]
    },
    {
      "cell_type": "code",
      "metadata": {
        "colab": {
          "base_uri": "https://localhost:8080/",
          "height": 111
        },
        "id": "ggGK_YljuNn_",
        "outputId": "7f4b1250-c9d7-48dd-d64b-fb5b57c921ef"
      },
      "source": [
        "df[df['Apresentação']> 8.0]"
      ],
      "execution_count": null,
      "outputs": [
        {
          "output_type": "execute_result",
          "data": {
            "text/html": [
              "<div>\n",
              "<style scoped>\n",
              "    .dataframe tbody tr th:only-of-type {\n",
              "        vertical-align: middle;\n",
              "    }\n",
              "\n",
              "    .dataframe tbody tr th {\n",
              "        vertical-align: top;\n",
              "    }\n",
              "\n",
              "    .dataframe thead th {\n",
              "        text-align: right;\n",
              "    }\n",
              "</style>\n",
              "<table border=\"1\" class=\"dataframe\">\n",
              "  <thead>\n",
              "    <tr style=\"text-align: right;\">\n",
              "      <th></th>\n",
              "      <th>Aluno</th>\n",
              "      <th>Falta</th>\n",
              "      <th>Prova</th>\n",
              "      <th>Apresentação</th>\n",
              "    </tr>\n",
              "  </thead>\n",
              "  <tbody>\n",
              "    <tr>\n",
              "      <th>0</th>\n",
              "      <td>Alfredo</td>\n",
              "      <td>3</td>\n",
              "      <td>2</td>\n",
              "      <td>8.5</td>\n",
              "    </tr>\n",
              "    <tr>\n",
              "      <th>2</th>\n",
              "      <td>Henrique</td>\n",
              "      <td>2</td>\n",
              "      <td>5</td>\n",
              "      <td>9.0</td>\n",
              "    </tr>\n",
              "  </tbody>\n",
              "</table>\n",
              "</div>"
            ],
            "text/plain": [
              "      Aluno  Falta  Prova  Apresentação\n",
              "0   Alfredo      3      2           8.5\n",
              "2  Henrique      2      5           9.0"
            ]
          },
          "metadata": {
            "tags": []
          },
          "execution_count": 24
        }
      ]
    },
    {
      "cell_type": "code",
      "metadata": {
        "colab": {
          "base_uri": "https://localhost:8080/",
          "height": 80
        },
        "id": "Ck-fMhnwuNqw",
        "outputId": "059b9dc6-e3e1-4f8f-97ae-89afbcd0c90a"
      },
      "source": [
        "df[(df['Apresentação'] > 8.0) & (df['Falta'] > 2.0)] # and"
      ],
      "execution_count": null,
      "outputs": [
        {
          "output_type": "execute_result",
          "data": {
            "text/html": [
              "<div>\n",
              "<style scoped>\n",
              "    .dataframe tbody tr th:only-of-type {\n",
              "        vertical-align: middle;\n",
              "    }\n",
              "\n",
              "    .dataframe tbody tr th {\n",
              "        vertical-align: top;\n",
              "    }\n",
              "\n",
              "    .dataframe thead th {\n",
              "        text-align: right;\n",
              "    }\n",
              "</style>\n",
              "<table border=\"1\" class=\"dataframe\">\n",
              "  <thead>\n",
              "    <tr style=\"text-align: right;\">\n",
              "      <th></th>\n",
              "      <th>Aluno</th>\n",
              "      <th>Falta</th>\n",
              "      <th>Prova</th>\n",
              "      <th>Apresentação</th>\n",
              "    </tr>\n",
              "  </thead>\n",
              "  <tbody>\n",
              "    <tr>\n",
              "      <th>0</th>\n",
              "      <td>Alfredo</td>\n",
              "      <td>3</td>\n",
              "      <td>2</td>\n",
              "      <td>8.5</td>\n",
              "    </tr>\n",
              "  </tbody>\n",
              "</table>\n",
              "</div>"
            ],
            "text/plain": [
              "     Aluno  Falta  Prova  Apresentação\n",
              "0  Alfredo      3      2           8.5"
            ]
          },
          "metadata": {
            "tags": []
          },
          "execution_count": 25
        }
      ]
    },
    {
      "cell_type": "code",
      "metadata": {
        "id": "HynY_ylr8Uox",
        "colab": {
          "base_uri": "https://localhost:8080/",
          "height": 173
        },
        "outputId": "aed71a69-460e-4e0d-8236-55590f11f5d1"
      },
      "source": [
        "df[(df['Apresentação'] > 8.0) | (df['Falta'] > 2.0)] # or"
      ],
      "execution_count": null,
      "outputs": [
        {
          "output_type": "execute_result",
          "data": {
            "text/html": [
              "<div>\n",
              "<style scoped>\n",
              "    .dataframe tbody tr th:only-of-type {\n",
              "        vertical-align: middle;\n",
              "    }\n",
              "\n",
              "    .dataframe tbody tr th {\n",
              "        vertical-align: top;\n",
              "    }\n",
              "\n",
              "    .dataframe thead th {\n",
              "        text-align: right;\n",
              "    }\n",
              "</style>\n",
              "<table border=\"1\" class=\"dataframe\">\n",
              "  <thead>\n",
              "    <tr style=\"text-align: right;\">\n",
              "      <th></th>\n",
              "      <th>Aluno</th>\n",
              "      <th>Falta</th>\n",
              "      <th>Prova</th>\n",
              "      <th>Apresentação</th>\n",
              "    </tr>\n",
              "  </thead>\n",
              "  <tbody>\n",
              "    <tr>\n",
              "      <th>0</th>\n",
              "      <td>Alfredo</td>\n",
              "      <td>3</td>\n",
              "      <td>2</td>\n",
              "      <td>8.5</td>\n",
              "    </tr>\n",
              "    <tr>\n",
              "      <th>1</th>\n",
              "      <td>Abel</td>\n",
              "      <td>4</td>\n",
              "      <td>7</td>\n",
              "      <td>7.5</td>\n",
              "    </tr>\n",
              "    <tr>\n",
              "      <th>2</th>\n",
              "      <td>Henrique</td>\n",
              "      <td>2</td>\n",
              "      <td>5</td>\n",
              "      <td>9.0</td>\n",
              "    </tr>\n",
              "    <tr>\n",
              "      <th>4</th>\n",
              "      <td>Calie</td>\n",
              "      <td>4</td>\n",
              "      <td>6</td>\n",
              "      <td>8.0</td>\n",
              "    </tr>\n",
              "  </tbody>\n",
              "</table>\n",
              "</div>"
            ],
            "text/plain": [
              "      Aluno  Falta  Prova  Apresentação\n",
              "0   Alfredo      3      2           8.5\n",
              "1      Abel      4      7           7.5\n",
              "2  Henrique      2      5           9.0\n",
              "4     Calie      4      6           8.0"
            ]
          },
          "metadata": {
            "tags": []
          },
          "execution_count": 26
        }
      ]
    },
    {
      "cell_type": "code",
      "metadata": {
        "id": "qKDGsC9l8UrD",
        "colab": {
          "base_uri": "https://localhost:8080/",
          "height": 204
        },
        "outputId": "e8a25b53-70ff-427e-a8f4-ebb2cceddafe"
      },
      "source": [
        "data = {'nome':['Jason', 'Molly', 'Tina', 'Jake', 'Amy'],\n",
        "        'idade': [42,52,68,24,73],\n",
        "        'preTestScore': [4,24,31,2,3],\n",
        "        'postTestScore': [25,94,57,62,70]}\n",
        "df = pd.DataFrame(data)\n",
        "df       "
      ],
      "execution_count": null,
      "outputs": [
        {
          "output_type": "execute_result",
          "data": {
            "text/html": [
              "<div>\n",
              "<style scoped>\n",
              "    .dataframe tbody tr th:only-of-type {\n",
              "        vertical-align: middle;\n",
              "    }\n",
              "\n",
              "    .dataframe tbody tr th {\n",
              "        vertical-align: top;\n",
              "    }\n",
              "\n",
              "    .dataframe thead th {\n",
              "        text-align: right;\n",
              "    }\n",
              "</style>\n",
              "<table border=\"1\" class=\"dataframe\">\n",
              "  <thead>\n",
              "    <tr style=\"text-align: right;\">\n",
              "      <th></th>\n",
              "      <th>nome</th>\n",
              "      <th>idade</th>\n",
              "      <th>preTestScore</th>\n",
              "      <th>postTestScore</th>\n",
              "    </tr>\n",
              "  </thead>\n",
              "  <tbody>\n",
              "    <tr>\n",
              "      <th>0</th>\n",
              "      <td>Jason</td>\n",
              "      <td>42</td>\n",
              "      <td>4</td>\n",
              "      <td>25</td>\n",
              "    </tr>\n",
              "    <tr>\n",
              "      <th>1</th>\n",
              "      <td>Molly</td>\n",
              "      <td>52</td>\n",
              "      <td>24</td>\n",
              "      <td>94</td>\n",
              "    </tr>\n",
              "    <tr>\n",
              "      <th>2</th>\n",
              "      <td>Tina</td>\n",
              "      <td>68</td>\n",
              "      <td>31</td>\n",
              "      <td>57</td>\n",
              "    </tr>\n",
              "    <tr>\n",
              "      <th>3</th>\n",
              "      <td>Jake</td>\n",
              "      <td>24</td>\n",
              "      <td>2</td>\n",
              "      <td>62</td>\n",
              "    </tr>\n",
              "    <tr>\n",
              "      <th>4</th>\n",
              "      <td>Amy</td>\n",
              "      <td>73</td>\n",
              "      <td>3</td>\n",
              "      <td>70</td>\n",
              "    </tr>\n",
              "  </tbody>\n",
              "</table>\n",
              "</div>"
            ],
            "text/plain": [
              "    nome  idade  preTestScore  postTestScore\n",
              "0  Jason     42             4             25\n",
              "1  Molly     52            24             94\n",
              "2   Tina     68            31             57\n",
              "3   Jake     24             2             62\n",
              "4    Amy     73             3             70"
            ]
          },
          "metadata": {
            "tags": []
          },
          "execution_count": 10
        }
      ]
    },
    {
      "cell_type": "code",
      "metadata": {
        "colab": {
          "base_uri": "https://localhost:8080/",
          "height": 204
        },
        "id": "6KfVzx3-0WM_",
        "outputId": "ef814060-3c9e-4b9c-990e-d7cd6fffcee9"
      },
      "source": [
        "df['idoso'] = np.where(df['idade'] >= 65, 'sim', 'não') # Criando uma nova coluna chamada idoso, \n",
        "# em que o valor é ‘sim’ e se a idade for maior que 65 e “não”, caso contrário.\n",
        "df"
      ],
      "execution_count": null,
      "outputs": [
        {
          "output_type": "execute_result",
          "data": {
            "text/html": [
              "<div>\n",
              "<style scoped>\n",
              "    .dataframe tbody tr th:only-of-type {\n",
              "        vertical-align: middle;\n",
              "    }\n",
              "\n",
              "    .dataframe tbody tr th {\n",
              "        vertical-align: top;\n",
              "    }\n",
              "\n",
              "    .dataframe thead th {\n",
              "        text-align: right;\n",
              "    }\n",
              "</style>\n",
              "<table border=\"1\" class=\"dataframe\">\n",
              "  <thead>\n",
              "    <tr style=\"text-align: right;\">\n",
              "      <th></th>\n",
              "      <th>nome</th>\n",
              "      <th>idade</th>\n",
              "      <th>preTestScore</th>\n",
              "      <th>postTestScore</th>\n",
              "      <th>idoso</th>\n",
              "    </tr>\n",
              "  </thead>\n",
              "  <tbody>\n",
              "    <tr>\n",
              "      <th>0</th>\n",
              "      <td>Jason</td>\n",
              "      <td>42</td>\n",
              "      <td>4</td>\n",
              "      <td>25</td>\n",
              "      <td>não</td>\n",
              "    </tr>\n",
              "    <tr>\n",
              "      <th>1</th>\n",
              "      <td>Molly</td>\n",
              "      <td>52</td>\n",
              "      <td>24</td>\n",
              "      <td>94</td>\n",
              "      <td>não</td>\n",
              "    </tr>\n",
              "    <tr>\n",
              "      <th>2</th>\n",
              "      <td>Tina</td>\n",
              "      <td>68</td>\n",
              "      <td>31</td>\n",
              "      <td>57</td>\n",
              "      <td>sim</td>\n",
              "    </tr>\n",
              "    <tr>\n",
              "      <th>3</th>\n",
              "      <td>Jake</td>\n",
              "      <td>24</td>\n",
              "      <td>2</td>\n",
              "      <td>62</td>\n",
              "      <td>não</td>\n",
              "    </tr>\n",
              "    <tr>\n",
              "      <th>4</th>\n",
              "      <td>Amy</td>\n",
              "      <td>73</td>\n",
              "      <td>3</td>\n",
              "      <td>70</td>\n",
              "      <td>sim</td>\n",
              "    </tr>\n",
              "  </tbody>\n",
              "</table>\n",
              "</div>"
            ],
            "text/plain": [
              "    nome  idade  preTestScore  postTestScore idoso\n",
              "0  Jason     42             4             25   não\n",
              "1  Molly     52            24             94   não\n",
              "2   Tina     68            31             57   sim\n",
              "3   Jake     24             2             62   não\n",
              "4    Amy     73             3             70   sim"
            ]
          },
          "metadata": {
            "tags": []
          },
          "execution_count": 13
        }
      ]
    },
    {
      "cell_type": "code",
      "metadata": {
        "id": "Az6DWqxm0WP4"
      },
      "source": [
        ""
      ],
      "execution_count": null,
      "outputs": []
    },
    {
      "cell_type": "markdown",
      "metadata": {
        "id": "mDY0t8XV5wMb"
      },
      "source": [
        "***PANDAS - LEITURA DE DADOS***"
      ]
    },
    {
      "cell_type": "markdown",
      "metadata": {
        "id": "XdN5C1896uJL"
      },
      "source": [
        "***CSV***"
      ]
    },
    {
      "cell_type": "code",
      "metadata": {
        "colab": {
          "base_uri": "https://localhost:8080/"
        },
        "id": "-m0aIIMv0WS4",
        "outputId": "fbe6e7ac-c578-470d-9c46-6ec2f5e51085"
      },
      "source": [
        "apple = pd.read_csv('AAPL.csv', sep=',') #Vamos ler o histório de 4 anos de preços das ações da Apple\n",
        "print(apple)"
      ],
      "execution_count": null,
      "outputs": [
        {
          "output_type": "stream",
          "text": [
            "            Date        Open        High  ...       Close   Adj Close     Volume\n",
            "0     2016-03-01   97.650002  100.769997  ...  100.529999   94.228645   50407100\n",
            "1     2016-03-02  100.510002  100.889999  ...  100.750000   94.434853   33169600\n",
            "2     2016-03-03  100.580002  101.709999  ...  101.500000   95.137848   36955700\n",
            "3     2016-03-04  102.370003  103.750000  ...  103.010002   96.553185   46055100\n",
            "4     2016-03-07  102.389999  102.830002  ...  101.870003   95.484657   35828900\n",
            "...          ...         ...         ...  ...         ...         ...        ...\n",
            "1002  2020-02-24  297.260010  304.179993  ...  298.179993  298.179993   55548800\n",
            "1003  2020-02-25  300.950012  302.529999  ...  288.079987  288.079987   57668400\n",
            "1004  2020-02-26  286.529999  297.880005  ...  292.649994  292.649994   49513700\n",
            "1005  2020-02-27  281.100006  286.000000  ...  273.519989  273.519989   80151400\n",
            "1006  2020-02-28  257.260010  278.410004  ...  273.359985  273.359985  106627500\n",
            "\n",
            "[1007 rows x 7 columns]\n"
          ],
          "name": "stdout"
        }
      ]
    },
    {
      "cell_type": "code",
      "metadata": {
        "colab": {
          "base_uri": "https://localhost:8080/"
        },
        "id": "Rp_fKrw_0WWB",
        "outputId": "edb26e53-fcc5-45c0-cba2-ba16ba439bd6"
      },
      "source": [
        "print(apple.head()) # A função \"head\" exibe as 5 primeiras e ultimas linhas da tabela"
      ],
      "execution_count": null,
      "outputs": [
        {
          "output_type": "stream",
          "text": [
            "         Date        Open        High  ...       Close  Adj Close    Volume\n",
            "0  2016-03-01   97.650002  100.769997  ...  100.529999  94.228645  50407100\n",
            "1  2016-03-02  100.510002  100.889999  ...  100.750000  94.434853  33169600\n",
            "2  2016-03-03  100.580002  101.709999  ...  101.500000  95.137848  36955700\n",
            "3  2016-03-04  102.370003  103.750000  ...  103.010002  96.553185  46055100\n",
            "4  2016-03-07  102.389999  102.830002  ...  101.870003  95.484657  35828900\n",
            "\n",
            "[5 rows x 7 columns]\n"
          ],
          "name": "stdout"
        }
      ]
    },
    {
      "cell_type": "code",
      "metadata": {
        "colab": {
          "base_uri": "https://localhost:8080/"
        },
        "id": "0Ulo0RMU55Xn",
        "outputId": "1430dbbf-aca2-4d4a-d386-9880ce338b2e"
      },
      "source": [
        "print(apple.tail()) # A função \"tail\" exibe as 5 ultimas linhas da tabela"
      ],
      "execution_count": null,
      "outputs": [
        {
          "output_type": "stream",
          "text": [
            "            Date        Open        High  ...       Close   Adj Close     Volume\n",
            "1002  2020-02-24  297.260010  304.179993  ...  298.179993  298.179993   55548800\n",
            "1003  2020-02-25  300.950012  302.529999  ...  288.079987  288.079987   57668400\n",
            "1004  2020-02-26  286.529999  297.880005  ...  292.649994  292.649994   49513700\n",
            "1005  2020-02-27  281.100006  286.000000  ...  273.519989  273.519989   80151400\n",
            "1006  2020-02-28  257.260010  278.410004  ...  273.359985  273.359985  106627500\n",
            "\n",
            "[5 rows x 7 columns]\n"
          ],
          "name": "stdout"
        }
      ]
    },
    {
      "cell_type": "markdown",
      "metadata": {
        "id": "zrLOSKYM-Q1N"
      },
      "source": [
        "Os 10 dias com maiores valores de fechamento ajustado? A função \"sort\" ordena os dados"
      ]
    },
    {
      "cell_type": "code",
      "metadata": {
        "colab": {
          "base_uri": "https://localhost:8080/",
          "height": 359
        },
        "id": "RJneOAWl55ex",
        "outputId": "01021fc2-7b53-4142-90ce-41c900daecc3"
      },
      "source": [
        "apple.sort_values('Adj Close', ascending=False).head(10)"
      ],
      "execution_count": null,
      "outputs": [
        {
          "output_type": "execute_result",
          "data": {
            "text/html": [
              "<div>\n",
              "<style scoped>\n",
              "    .dataframe tbody tr th:only-of-type {\n",
              "        vertical-align: middle;\n",
              "    }\n",
              "\n",
              "    .dataframe tbody tr th {\n",
              "        vertical-align: top;\n",
              "    }\n",
              "\n",
              "    .dataframe thead th {\n",
              "        text-align: right;\n",
              "    }\n",
              "</style>\n",
              "<table border=\"1\" class=\"dataframe\">\n",
              "  <thead>\n",
              "    <tr style=\"text-align: right;\">\n",
              "      <th></th>\n",
              "      <th>Date</th>\n",
              "      <th>Open</th>\n",
              "      <th>High</th>\n",
              "      <th>Low</th>\n",
              "      <th>Close</th>\n",
              "      <th>Adj Close</th>\n",
              "      <th>Volume</th>\n",
              "    </tr>\n",
              "  </thead>\n",
              "  <tbody>\n",
              "    <tr>\n",
              "      <th>995</th>\n",
              "      <td>2020-02-12</td>\n",
              "      <td>321.470001</td>\n",
              "      <td>327.220001</td>\n",
              "      <td>321.470001</td>\n",
              "      <td>327.200012</td>\n",
              "      <td>327.200012</td>\n",
              "      <td>28432600</td>\n",
              "    </tr>\n",
              "    <tr>\n",
              "      <th>997</th>\n",
              "      <td>2020-02-14</td>\n",
              "      <td>324.739990</td>\n",
              "      <td>325.980011</td>\n",
              "      <td>322.850006</td>\n",
              "      <td>324.950012</td>\n",
              "      <td>324.950012</td>\n",
              "      <td>20028400</td>\n",
              "    </tr>\n",
              "    <tr>\n",
              "      <th>996</th>\n",
              "      <td>2020-02-13</td>\n",
              "      <td>324.190002</td>\n",
              "      <td>326.220001</td>\n",
              "      <td>323.350006</td>\n",
              "      <td>324.869995</td>\n",
              "      <td>324.869995</td>\n",
              "      <td>23686900</td>\n",
              "    </tr>\n",
              "    <tr>\n",
              "      <th>991</th>\n",
              "      <td>2020-02-06</td>\n",
              "      <td>322.570007</td>\n",
              "      <td>325.220001</td>\n",
              "      <td>320.260010</td>\n",
              "      <td>325.209991</td>\n",
              "      <td>324.440002</td>\n",
              "      <td>26356400</td>\n",
              "    </tr>\n",
              "    <tr>\n",
              "      <th>999</th>\n",
              "      <td>2020-02-19</td>\n",
              "      <td>320.000000</td>\n",
              "      <td>324.570007</td>\n",
              "      <td>320.000000</td>\n",
              "      <td>323.619995</td>\n",
              "      <td>323.619995</td>\n",
              "      <td>23496000</td>\n",
              "    </tr>\n",
              "    <tr>\n",
              "      <th>985</th>\n",
              "      <td>2020-01-29</td>\n",
              "      <td>324.450012</td>\n",
              "      <td>327.850006</td>\n",
              "      <td>321.380005</td>\n",
              "      <td>324.339996</td>\n",
              "      <td>323.572052</td>\n",
              "      <td>54057300</td>\n",
              "    </tr>\n",
              "    <tr>\n",
              "      <th>986</th>\n",
              "      <td>2020-01-30</td>\n",
              "      <td>320.540009</td>\n",
              "      <td>324.089996</td>\n",
              "      <td>318.750000</td>\n",
              "      <td>323.869995</td>\n",
              "      <td>323.103180</td>\n",
              "      <td>31685800</td>\n",
              "    </tr>\n",
              "    <tr>\n",
              "      <th>993</th>\n",
              "      <td>2020-02-10</td>\n",
              "      <td>314.179993</td>\n",
              "      <td>321.549988</td>\n",
              "      <td>313.850006</td>\n",
              "      <td>321.549988</td>\n",
              "      <td>321.549988</td>\n",
              "      <td>27337200</td>\n",
              "    </tr>\n",
              "    <tr>\n",
              "      <th>990</th>\n",
              "      <td>2020-02-05</td>\n",
              "      <td>323.519989</td>\n",
              "      <td>324.760010</td>\n",
              "      <td>318.950012</td>\n",
              "      <td>321.450012</td>\n",
              "      <td>320.688934</td>\n",
              "      <td>29706700</td>\n",
              "    </tr>\n",
              "    <tr>\n",
              "      <th>1000</th>\n",
              "      <td>2020-02-20</td>\n",
              "      <td>322.630005</td>\n",
              "      <td>324.649994</td>\n",
              "      <td>318.209991</td>\n",
              "      <td>320.299988</td>\n",
              "      <td>320.299988</td>\n",
              "      <td>25141500</td>\n",
              "    </tr>\n",
              "  </tbody>\n",
              "</table>\n",
              "</div>"
            ],
            "text/plain": [
              "            Date        Open        High  ...       Close   Adj Close    Volume\n",
              "995   2020-02-12  321.470001  327.220001  ...  327.200012  327.200012  28432600\n",
              "997   2020-02-14  324.739990  325.980011  ...  324.950012  324.950012  20028400\n",
              "996   2020-02-13  324.190002  326.220001  ...  324.869995  324.869995  23686900\n",
              "991   2020-02-06  322.570007  325.220001  ...  325.209991  324.440002  26356400\n",
              "999   2020-02-19  320.000000  324.570007  ...  323.619995  323.619995  23496000\n",
              "985   2020-01-29  324.450012  327.850006  ...  324.339996  323.572052  54057300\n",
              "986   2020-01-30  320.540009  324.089996  ...  323.869995  323.103180  31685800\n",
              "993   2020-02-10  314.179993  321.549988  ...  321.549988  321.549988  27337200\n",
              "990   2020-02-05  323.519989  324.760010  ...  321.450012  320.688934  29706700\n",
              "1000  2020-02-20  322.630005  324.649994  ...  320.299988  320.299988  25141500\n",
              "\n",
              "[10 rows x 7 columns]"
            ]
          },
          "metadata": {
            "tags": []
          },
          "execution_count": 19
        }
      ]
    },
    {
      "cell_type": "markdown",
      "metadata": {
        "id": "S7jxEmlv_eaV"
      },
      "source": [
        "Os 10 piores valores de fechamento ajustado"
      ]
    },
    {
      "cell_type": "code",
      "metadata": {
        "colab": {
          "base_uri": "https://localhost:8080/"
        },
        "id": "_StEA4op55gv",
        "outputId": "aadb0af0-9e93-4565-99cf-88f885f153f6"
      },
      "source": [
        "sorted_apple = apple.sort_values('Adj Close', ascending=False)\n",
        "print(sorted_apple.tail(10))"
      ],
      "execution_count": null,
      "outputs": [
        {
          "output_type": "stream",
          "text": [
            "          Date       Open       High        Low      Close  Adj Close    Volume\n",
            "81  2016-06-24  92.910004  94.660004  92.650002  93.400002  88.078583  75311400\n",
            "46  2016-05-05  94.000000  94.070000  92.680000  93.239998  87.927696  35890500\n",
            "42  2016-04-29  93.989998  94.720001  92.510002  93.739998  87.864235  68531500\n",
            "43  2016-05-02  93.970001  94.080002  92.400002  93.639999  87.770515  48160100\n",
            "48  2016-05-09  93.000000  93.769997  92.589996  92.790001  87.503319  32936400\n",
            "47  2016-05-06  93.370003  93.449997  91.849998  92.720001  87.437325  43699900\n",
            "50  2016-05-11  93.480003  93.570000  92.459999  92.510002  87.239273  28719100\n",
            "82  2016-06-27  93.000000  93.050003  91.500000  92.040001  86.796043  45489600\n",
            "52  2016-05-13  90.000000  91.669998  90.000000  90.519997  85.362656  44392800\n",
            "51  2016-05-12  92.720001  92.779999  89.470001  90.339996  85.192909  76314700\n"
          ],
          "name": "stdout"
        }
      ]
    },
    {
      "cell_type": "code",
      "metadata": {
        "colab": {
          "base_uri": "https://localhost:8080/"
        },
        "id": "eBzA4Wvi55jJ",
        "outputId": "84c6fa28-4755-46ee-aee8-f4632d26de4c"
      },
      "source": [
        "dados = pd.read_csv('Dominios_GovBR_basico.zip', sep=';', encoding='latin1')\n",
        "print(dados.head())\n",
        "print(dados)"
      ],
      "execution_count": null,
      "outputs": [
        {
          "output_type": "stream",
          "text": [
            "                           dominio  ...   ticket\n",
            "0                eletrobras.gov.br  ...     5023\n",
            "1  premioconservacaoenergia.gov.br  ...  5379045\n",
            "2                    procel.gov.br  ...   453438\n",
            "3                   proinfa.gov.br  ...   784297\n",
            "4                     reluz.gov.br  ...   453442\n",
            "\n",
            "[5 rows x 9 columns]\n",
            "                              dominio  ...   ticket\n",
            "0                   eletrobras.gov.br  ...     5023\n",
            "1     premioconservacaoenergia.gov.br  ...  5379045\n",
            "2                       procel.gov.br  ...   453438\n",
            "3                      proinfa.gov.br  ...   784297\n",
            "4                        reluz.gov.br  ...   453442\n",
            "...                               ...  ...      ...\n",
            "1610                  cefetsvs.gov.br  ...  1033880\n",
            "1611                   cefetbg.gov.br  ...  1038981\n",
            "1612                      prr4.gov.br  ...    12880\n",
            "1613               veracruz-rs.gov.br  ...   352374\n",
            "1614              telebrasilia.gov.br  ...        0\n",
            "\n",
            "[1615 rows x 9 columns]\n"
          ],
          "name": "stdout"
        }
      ]
    },
    {
      "cell_type": "code",
      "metadata": {
        "colab": {
          "base_uri": "https://localhost:8080/"
        },
        "id": "GBqVjfqI_A6e",
        "outputId": "b916fa0b-ced4-4f5f-b1b8-653da60bf2fb"
      },
      "source": [
        "dados = pd.read_csv(\"Dominios_GovBR_basico.zip\", compression='zip', sep=\";\",\n",
        "encoding=\"latin1\")\n",
        "print(dados.head())"
      ],
      "execution_count": null,
      "outputs": [
        {
          "output_type": "stream",
          "text": [
            "                           dominio  ...   ticket\n",
            "0                eletrobras.gov.br  ...     5023\n",
            "1  premioconservacaoenergia.gov.br  ...  5379045\n",
            "2                    procel.gov.br  ...   453438\n",
            "3                   proinfa.gov.br  ...   784297\n",
            "4                     reluz.gov.br  ...   453442\n",
            "\n",
            "[5 rows x 9 columns]\n"
          ],
          "name": "stdout"
        }
      ]
    },
    {
      "cell_type": "code",
      "metadata": {
        "colab": {
          "base_uri": "https://localhost:8080/"
        },
        "id": "QGu8hZ-g55mt",
        "outputId": "f85288f8-6fed-42ae-a57a-ec02437e901a"
      },
      "source": [
        "dados.uf.value_counts()"
      ],
      "execution_count": null,
      "outputs": [
        {
          "output_type": "execute_result",
          "data": {
            "text/plain": [
              "DF    969\n",
              "RJ    173\n",
              "SP     76\n",
              "PE     42\n",
              "RS     40\n",
              "MG     38\n",
              "PR     30\n",
              "CE     25\n",
              "SC     23\n",
              "BA     21\n",
              "ES     20\n",
              "AM     17\n",
              "PA     17\n",
              "RN     15\n",
              "MA     14\n",
              "GO     13\n",
              "PB     13\n",
              "MS     12\n",
              "RO      8\n",
              "SE      8\n",
              "MT      7\n",
              "AP      6\n",
              "PI      6\n",
              "TO      6\n",
              "AC      6\n",
              "AL      6\n",
              "RR      4\n",
              "Name: uf, dtype: int64"
            ]
          },
          "metadata": {
            "tags": []
          },
          "execution_count": 27
        }
      ]
    },
    {
      "cell_type": "code",
      "metadata": {
        "colab": {
          "base_uri": "https://localhost:8080/"
        },
        "id": "-pwBznAN55pC",
        "outputId": "cf83db13-6ac8-45b5-fc6a-100fca06739b"
      },
      "source": [
        "dados.uf.value_counts()[:5]"
      ],
      "execution_count": null,
      "outputs": [
        {
          "output_type": "execute_result",
          "data": {
            "text/plain": [
              "DF    969\n",
              "RJ    173\n",
              "SP     76\n",
              "PE     42\n",
              "RS     40\n",
              "Name: uf, dtype: int64"
            ]
          },
          "metadata": {
            "tags": []
          },
          "execution_count": 28
        }
      ]
    },
    {
      "cell_type": "code",
      "metadata": {
        "colab": {
          "base_uri": "https://localhost:8080/",
          "height": 385
        },
        "id": "WrYhh-hr55ve",
        "outputId": "90246e9f-1e0a-4db3-fdf6-94ac7ced31fe"
      },
      "source": [
        "dados[dados.dominio.str.contains('banco')]"
      ],
      "execution_count": null,
      "outputs": [
        {
          "output_type": "execute_result",
          "data": {
            "text/html": [
              "<div>\n",
              "<style scoped>\n",
              "    .dataframe tbody tr th:only-of-type {\n",
              "        vertical-align: middle;\n",
              "    }\n",
              "\n",
              "    .dataframe tbody tr th {\n",
              "        vertical-align: top;\n",
              "    }\n",
              "\n",
              "    .dataframe thead th {\n",
              "        text-align: right;\n",
              "    }\n",
              "</style>\n",
              "<table border=\"1\" class=\"dataframe\">\n",
              "  <thead>\n",
              "    <tr style=\"text-align: right;\">\n",
              "      <th></th>\n",
              "      <th>dominio</th>\n",
              "      <th>documento</th>\n",
              "      <th>nome</th>\n",
              "      <th>uf</th>\n",
              "      <th>cidade</th>\n",
              "      <th>cep</th>\n",
              "      <th>data_cadastro</th>\n",
              "      <th>ultima_atualizacao</th>\n",
              "      <th>ticket</th>\n",
              "    </tr>\n",
              "  </thead>\n",
              "  <tbody>\n",
              "    <tr>\n",
              "      <th>6</th>\n",
              "      <td>bancocentral.gov.br</td>\n",
              "      <td>000.038.166/0001-05</td>\n",
              "      <td>Banco Central do Brasil</td>\n",
              "      <td>DF</td>\n",
              "      <td>Brasília</td>\n",
              "      <td>70074-900</td>\n",
              "      <td>1998-12-31 00:24:21</td>\n",
              "      <td>2015-06-17 22:20:15</td>\n",
              "      <td>135008</td>\n",
              "    </tr>\n",
              "    <tr>\n",
              "      <th>64</th>\n",
              "      <td>caixamaisqueumbanco.gov.br</td>\n",
              "      <td>000.360.305/0001-04</td>\n",
              "      <td>CAIXA ECONOMICA FEDERAL</td>\n",
              "      <td>DF</td>\n",
              "      <td>Brasília</td>\n",
              "      <td>70070-140</td>\n",
              "      <td>2011-09-12 18:52:35</td>\n",
              "      <td>2015-07-16 19:35:35</td>\n",
              "      <td>8785977</td>\n",
              "    </tr>\n",
              "    <tr>\n",
              "      <th>250</th>\n",
              "      <td>bancodeoportunidades.gov.br</td>\n",
              "      <td>000.394.460/0008-18</td>\n",
              "      <td>MINISTERIO DA FAZENDA</td>\n",
              "      <td>DF</td>\n",
              "      <td>Brasília</td>\n",
              "      <td>70830-010</td>\n",
              "      <td>1999-09-10 18:30:30</td>\n",
              "      <td>2019-08-14 19:20:23</td>\n",
              "      <td>196982</td>\n",
              "    </tr>\n",
              "    <tr>\n",
              "      <th>679</th>\n",
              "      <td>bancodaterra.gov.br</td>\n",
              "      <td>001.612.452/0001-97</td>\n",
              "      <td>Ministerio do Desenvolvimento Agrario</td>\n",
              "      <td>DF</td>\n",
              "      <td>Brasília</td>\n",
              "      <td>70043-900</td>\n",
              "      <td>2000-06-27 20:05:35</td>\n",
              "      <td>2010-11-16 13:08:05</td>\n",
              "      <td>371252</td>\n",
              "    </tr>\n",
              "    <tr>\n",
              "      <th>758</th>\n",
              "      <td>bancodeconteudos.gov.br</td>\n",
              "      <td>003.221.904/0001-35</td>\n",
              "      <td>Ministerio da Cultura</td>\n",
              "      <td>SP</td>\n",
              "      <td>São Paulo</td>\n",
              "      <td>04021-070</td>\n",
              "      <td>2010-02-12 17:00:59</td>\n",
              "      <td>2015-04-14 19:40:07</td>\n",
              "      <td>6496733</td>\n",
              "    </tr>\n",
              "    <tr>\n",
              "      <th>984</th>\n",
              "      <td>banconordeste.gov.br</td>\n",
              "      <td>007.237.373/0001-20</td>\n",
              "      <td>BANCO DO NORDESTE DO BRASIL S/A</td>\n",
              "      <td>CE</td>\n",
              "      <td>Fortaleza</td>\n",
              "      <td>60743-902</td>\n",
              "      <td>1998-02-09 12:03:19</td>\n",
              "      <td>2019-06-07 20:00:58</td>\n",
              "      <td>83925</td>\n",
              "    </tr>\n",
              "    <tr>\n",
              "      <th>992</th>\n",
              "      <td>bancodonordeste.gov.br</td>\n",
              "      <td>007.237.373/0016-06</td>\n",
              "      <td>BANCO DO NORDESTE DO BRASIL S/A</td>\n",
              "      <td>CE</td>\n",
              "      <td>Fortaleza</td>\n",
              "      <td>60743-902</td>\n",
              "      <td>2002-03-18 13:34:47</td>\n",
              "      <td>2019-06-07 20:00:04</td>\n",
              "      <td>756331</td>\n",
              "    </tr>\n",
              "  </tbody>\n",
              "</table>\n",
              "</div>"
            ],
            "text/plain": [
              "                         dominio  ...   ticket\n",
              "6            bancocentral.gov.br  ...   135008\n",
              "64    caixamaisqueumbanco.gov.br  ...  8785977\n",
              "250  bancodeoportunidades.gov.br  ...   196982\n",
              "679          bancodaterra.gov.br  ...   371252\n",
              "758      bancodeconteudos.gov.br  ...  6496733\n",
              "984         banconordeste.gov.br  ...    83925\n",
              "992       bancodonordeste.gov.br  ...   756331\n",
              "\n",
              "[7 rows x 9 columns]"
            ]
          },
          "metadata": {
            "tags": []
          },
          "execution_count": 29
        }
      ]
    },
    {
      "cell_type": "markdown",
      "metadata": {
        "id": "QV7OKR5VF8Rh"
      },
      "source": [
        "**EXCEL**"
      ]
    },
    {
      "cell_type": "code",
      "metadata": {
        "colab": {
          "base_uri": "https://localhost:8080/"
        },
        "id": "V3Bp2bR555yS",
        "outputId": "621e278e-7ccb-4070-9468-3cf218d89024"
      },
      "source": [
        "acoes = pd.read_excel('acoes.xlsx')\n",
        "print(acoes.head())"
      ],
      "execution_count": null,
      "outputs": [
        {
          "output_type": "stream",
          "text": [
            "         Date        Open        High  ...       Close  Adj Close    Volume\n",
            "0  2016-03-01   97.650002  100.769997  ...  100.529999  94.228645  50407100\n",
            "1  2016-03-02  100.510002  100.889999  ...  100.750000  94.434853  33169600\n",
            "2  2016-03-03  100.580002  101.709999  ...  101.500000  95.137848  36955700\n",
            "3  2016-03-04  102.370003  103.750000  ...  103.010002  96.553185  46055100\n",
            "4  2016-03-07  102.389999  102.830002  ...  101.870003  95.484657  35828900\n",
            "\n",
            "[5 rows x 7 columns]\n"
          ],
          "name": "stdout"
        }
      ]
    },
    {
      "cell_type": "code",
      "metadata": {
        "colab": {
          "base_uri": "https://localhost:8080/"
        },
        "id": "TpA_0PYtGAIN",
        "outputId": "ed917a5b-ba0a-49c6-d131-2e7924734a4f"
      },
      "source": [
        "acoes = pd.read_excel('acoes.xlsx', sheet_name='amazon')\n",
        "print(acoes.head())"
      ],
      "execution_count": null,
      "outputs": [
        {
          "output_type": "stream",
          "text": [
            "         Date        Open        High  ...       Close   Adj Close   Volume\n",
            "0  2016-03-01  556.289978  579.250000  ...  579.039978  579.039978  5038500\n",
            "1  2016-03-02  581.750000  585.000000  ...  580.210022  580.210022  4582200\n",
            "2  2016-03-03  577.960022  579.869995  ...  577.489990  577.489990  2741300\n",
            "3  2016-03-04  581.070007  581.400024  ...  575.140015  575.140015  3416500\n",
            "4  2016-03-07  573.539978  573.630005  ...  562.799988  562.799988  4926900\n",
            "\n",
            "[5 rows x 7 columns]\n"
          ],
          "name": "stdout"
        }
      ]
    },
    {
      "cell_type": "code",
      "metadata": {
        "colab": {
          "base_uri": "https://localhost:8080/"
        },
        "id": "Lsg4O2-VGALS",
        "outputId": "243f6bf5-e5b2-4011-b514-e02bc41efee4"
      },
      "source": [
        "xlsx = pd.ExcelFile('acoes.xlsx')\n",
        "print(xlsx.sheet_names) #auxiliar na importações"
      ],
      "execution_count": null,
      "outputs": [
        {
          "output_type": "stream",
          "text": [
            "['apple', 'amazon', 'google', 'tesla']\n"
          ],
          "name": "stdout"
        }
      ]
    },
    {
      "cell_type": "code",
      "metadata": {
        "id": "HK8pI81_GAOh"
      },
      "source": [
        "apple = pd.read_excel(xlsx, 'apple')\n",
        "amazon = pd.read_excel(xlsx, 'amazon')\n",
        "google = pd.read_excel(xlsx, 'google')\n",
        "tesla = pd.read_excel(xlsx, 'tesla')"
      ],
      "execution_count": null,
      "outputs": []
    },
    {
      "cell_type": "code",
      "metadata": {
        "colab": {
          "base_uri": "https://localhost:8080/",
          "height": 419
        },
        "id": "KPlXZJ5MGASi",
        "outputId": "5bd57283-1fa1-43ec-ac0a-f94b1f449f72"
      },
      "source": [
        "preco_abertura = pd.concat([apple.Open, amazon.Open, google.Open, tesla.Open], axis=1)\n",
        "preco_abertura"
      ],
      "execution_count": null,
      "outputs": [
        {
          "output_type": "execute_result",
          "data": {
            "text/html": [
              "<div>\n",
              "<style scoped>\n",
              "    .dataframe tbody tr th:only-of-type {\n",
              "        vertical-align: middle;\n",
              "    }\n",
              "\n",
              "    .dataframe tbody tr th {\n",
              "        vertical-align: top;\n",
              "    }\n",
              "\n",
              "    .dataframe thead th {\n",
              "        text-align: right;\n",
              "    }\n",
              "</style>\n",
              "<table border=\"1\" class=\"dataframe\">\n",
              "  <thead>\n",
              "    <tr style=\"text-align: right;\">\n",
              "      <th></th>\n",
              "      <th>Open</th>\n",
              "      <th>Open</th>\n",
              "      <th>Open</th>\n",
              "      <th>Open</th>\n",
              "    </tr>\n",
              "  </thead>\n",
              "  <tbody>\n",
              "    <tr>\n",
              "      <th>0</th>\n",
              "      <td>97.650002</td>\n",
              "      <td>556.289978</td>\n",
              "      <td>703.619995</td>\n",
              "      <td>194.250000</td>\n",
              "    </tr>\n",
              "    <tr>\n",
              "      <th>1</th>\n",
              "      <td>100.510002</td>\n",
              "      <td>581.750000</td>\n",
              "      <td>719.000000</td>\n",
              "      <td>183.729996</td>\n",
              "    </tr>\n",
              "    <tr>\n",
              "      <th>2</th>\n",
              "      <td>100.580002</td>\n",
              "      <td>577.960022</td>\n",
              "      <td>718.679993</td>\n",
              "      <td>188.279999</td>\n",
              "    </tr>\n",
              "    <tr>\n",
              "      <th>3</th>\n",
              "      <td>102.370003</td>\n",
              "      <td>581.070007</td>\n",
              "      <td>714.989990</td>\n",
              "      <td>198.000000</td>\n",
              "    </tr>\n",
              "    <tr>\n",
              "      <th>4</th>\n",
              "      <td>102.389999</td>\n",
              "      <td>573.539978</td>\n",
              "      <td>706.900024</td>\n",
              "      <td>197.679993</td>\n",
              "    </tr>\n",
              "    <tr>\n",
              "      <th>...</th>\n",
              "      <td>...</td>\n",
              "      <td>...</td>\n",
              "      <td>...</td>\n",
              "      <td>...</td>\n",
              "    </tr>\n",
              "    <tr>\n",
              "      <th>1002</th>\n",
              "      <td>297.260010</td>\n",
              "      <td>2003.180054</td>\n",
              "      <td>1426.109985</td>\n",
              "      <td>839.000000</td>\n",
              "    </tr>\n",
              "    <tr>\n",
              "      <th>1003</th>\n",
              "      <td>300.950012</td>\n",
              "      <td>2026.420044</td>\n",
              "      <td>1433.000000</td>\n",
              "      <td>849.000000</td>\n",
              "    </tr>\n",
              "    <tr>\n",
              "      <th>1004</th>\n",
              "      <td>286.529999</td>\n",
              "      <td>1970.280029</td>\n",
              "      <td>1396.140015</td>\n",
              "      <td>782.500000</td>\n",
              "    </tr>\n",
              "    <tr>\n",
              "      <th>1005</th>\n",
              "      <td>281.100006</td>\n",
              "      <td>1934.380005</td>\n",
              "      <td>1362.060059</td>\n",
              "      <td>730.000000</td>\n",
              "    </tr>\n",
              "    <tr>\n",
              "      <th>1006</th>\n",
              "      <td>257.260010</td>\n",
              "      <td>1814.630005</td>\n",
              "      <td>1277.500000</td>\n",
              "      <td>629.700012</td>\n",
              "    </tr>\n",
              "  </tbody>\n",
              "</table>\n",
              "<p>1007 rows × 4 columns</p>\n",
              "</div>"
            ],
            "text/plain": [
              "            Open         Open         Open        Open\n",
              "0      97.650002   556.289978   703.619995  194.250000\n",
              "1     100.510002   581.750000   719.000000  183.729996\n",
              "2     100.580002   577.960022   718.679993  188.279999\n",
              "3     102.370003   581.070007   714.989990  198.000000\n",
              "4     102.389999   573.539978   706.900024  197.679993\n",
              "...          ...          ...          ...         ...\n",
              "1002  297.260010  2003.180054  1426.109985  839.000000\n",
              "1003  300.950012  2026.420044  1433.000000  849.000000\n",
              "1004  286.529999  1970.280029  1396.140015  782.500000\n",
              "1005  281.100006  1934.380005  1362.060059  730.000000\n",
              "1006  257.260010  1814.630005  1277.500000  629.700012\n",
              "\n",
              "[1007 rows x 4 columns]"
            ]
          },
          "metadata": {},
          "execution_count": 7
        }
      ]
    },
    {
      "cell_type": "code",
      "metadata": {
        "colab": {
          "base_uri": "https://localhost:8080/"
        },
        "id": "Ye4ryE3jGAUa",
        "outputId": "680876c4-d9a0-49a2-a747-346655f4cce0"
      },
      "source": [
        "preco_abertura.columns = xlsx.sheet_names\n",
        "preco_abertura.columns"
      ],
      "execution_count": null,
      "outputs": [
        {
          "output_type": "execute_result",
          "data": {
            "text/plain": [
              "Index(['apple', 'amazon', 'google', 'tesla'], dtype='object')"
            ]
          },
          "metadata": {
            "tags": []
          },
          "execution_count": 39
        }
      ]
    },
    {
      "cell_type": "code",
      "metadata": {
        "colab": {
          "base_uri": "https://localhost:8080/"
        },
        "id": "DlJ5NU8dGAYF",
        "outputId": "07e36d82-e391-4a22-faf1-15bf56992c11"
      },
      "source": [
        "print(preco_abertura)"
      ],
      "execution_count": null,
      "outputs": [
        {
          "output_type": "stream",
          "text": [
            "            Open         Open         Open        Open\n",
            "0      97.650002   556.289978   703.619995  194.250000\n",
            "1     100.510002   581.750000   719.000000  183.729996\n",
            "2     100.580002   577.960022   718.679993  188.279999\n",
            "3     102.370003   581.070007   714.989990  198.000000\n",
            "4     102.389999   573.539978   706.900024  197.679993\n",
            "...          ...          ...          ...         ...\n",
            "1002  297.260010  2003.180054  1426.109985  839.000000\n",
            "1003  300.950012  2026.420044  1433.000000  849.000000\n",
            "1004  286.529999  1970.280029  1396.140015  782.500000\n",
            "1005  281.100006  1934.380005  1362.060059  730.000000\n",
            "1006  257.260010  1814.630005  1277.500000  629.700012\n",
            "\n",
            "[1007 rows x 4 columns]\n"
          ],
          "name": "stdout"
        }
      ]
    },
    {
      "cell_type": "code",
      "metadata": {
        "colab": {
          "base_uri": "https://localhost:8080/"
        },
        "id": "KJt6Y5imKfC9",
        "outputId": "6c41cedf-07db-4084-de7f-2017320424a2"
      },
      "source": [
        "preco_abertura.index = apple.Date\n",
        "preco_abertura.index"
      ],
      "execution_count": null,
      "outputs": [
        {
          "output_type": "execute_result",
          "data": {
            "text/plain": [
              "Index(['2016-03-01', '2016-03-02', '2016-03-03', '2016-03-04', '2016-03-07',\n",
              "       '2016-03-08', '2016-03-09', '2016-03-10', '2016-03-11', '2016-03-14',\n",
              "       ...\n",
              "       '2020-02-14', '2020-02-18', '2020-02-19', '2020-02-20', '2020-02-21',\n",
              "       '2020-02-24', '2020-02-25', '2020-02-26', '2020-02-27', '2020-02-28'],\n",
              "      dtype='object', name='Date', length=1007)"
            ]
          },
          "metadata": {},
          "execution_count": 10
        }
      ]
    },
    {
      "cell_type": "code",
      "metadata": {
        "colab": {
          "base_uri": "https://localhost:8080/"
        },
        "id": "fRsXN4nLKfFp",
        "outputId": "0ba709e3-f99e-4a4a-e0d4-462ba900d1d2"
      },
      "source": [
        "type(preco_abertura.index)"
      ],
      "execution_count": null,
      "outputs": [
        {
          "output_type": "execute_result",
          "data": {
            "text/plain": [
              "pandas.core.indexes.base.Index"
            ]
          },
          "metadata": {},
          "execution_count": 11
        }
      ]
    },
    {
      "cell_type": "markdown",
      "metadata": {
        "id": "aeJ4NpvGcb1d"
      },
      "source": [
        "***JSON***"
      ]
    },
    {
      "cell_type": "code",
      "metadata": {
        "id": "mU51VLUvKfIu"
      },
      "source": [
        "filmes = pd.read_json(\"https://raw.githubusercontent.com/prust/wikipedia-movie-data/master/movies.json\")"
      ],
      "execution_count": null,
      "outputs": []
    },
    {
      "cell_type": "code",
      "metadata": {
        "id": "mP3a_NJMKfLv",
        "colab": {
          "base_uri": "https://localhost:8080/"
        },
        "outputId": "642d42e7-ac0a-4d4f-8bfa-898c05b4b04c"
      },
      "source": [
        "print(filmes.sample(10)) # Amostra com 10 dados"
      ],
      "execution_count": null,
      "outputs": [
        {
          "output_type": "stream",
          "text": [
            "                             title  ...               genres\n",
            "18683           The Neptune Factor  ...    [Science Fiction]\n",
            "7347                 Captain Blood  ...  [Adventure, Action]\n",
            "28041          Goodbye To All That  ...             [Comedy]\n",
            "9294   The Hunchback of Notre Dame  ...              [Drama]\n",
            "18057                         Che!  ...          [Biography]\n",
            "1997        Little Lord Fauntleroy  ...      [Comedy, Drama]\n",
            "24579               Monster's Ball  ...              [Drama]\n",
            "22120             Monster in a Box  ...                   []\n",
            "13901              Treasure Island  ...          [Adventure]\n",
            "6572             Counsellor at Law  ...              [Drama]\n",
            "\n",
            "[10 rows x 4 columns]\n"
          ],
          "name": "stdout"
        }
      ]
    },
    {
      "cell_type": "code",
      "metadata": {
        "id": "NIjQVT-oKfOt",
        "colab": {
          "base_uri": "https://localhost:8080/"
        },
        "outputId": "0aa87708-d680-472d-aadf-444fe8f015ce"
      },
      "source": [
        "filmes.shape #Dimensão da \"tabela\""
      ],
      "execution_count": null,
      "outputs": [
        {
          "output_type": "execute_result",
          "data": {
            "text/plain": [
              "(28795, 4)"
            ]
          },
          "metadata": {},
          "execution_count": 15
        }
      ]
    },
    {
      "cell_type": "code",
      "metadata": {
        "id": "iqiO3okNKfRv",
        "colab": {
          "base_uri": "https://localhost:8080/"
        },
        "outputId": "e31666d7-1c16-43a0-ba87-78ecbf64a811"
      },
      "source": [
        "filmes.year.value_counts()[:3]"
      ],
      "execution_count": null,
      "outputs": [
        {
          "output_type": "execute_result",
          "data": {
            "text/plain": [
              "1919    634\n",
              "1925    572\n",
              "1936    504\n",
              "Name: year, dtype: int64"
            ]
          },
          "metadata": {},
          "execution_count": 16
        }
      ]
    },
    {
      "cell_type": "code",
      "metadata": {
        "id": "Na4trA8-KfUi",
        "colab": {
          "base_uri": "https://localhost:8080/"
        },
        "outputId": "2e0e8110-b417-4285-af11-c9649e811d45"
      },
      "source": [
        "filmes.columns # Nome das Variaveis"
      ],
      "execution_count": null,
      "outputs": [
        {
          "output_type": "execute_result",
          "data": {
            "text/plain": [
              "Index(['title', 'year', 'cast', 'genres'], dtype='object')"
            ]
          },
          "metadata": {},
          "execution_count": 18
        }
      ]
    },
    {
      "cell_type": "code",
      "metadata": {
        "id": "FgO9CPK4KfXL",
        "colab": {
          "base_uri": "https://localhost:8080/"
        },
        "outputId": "c9676923-18b3-45b6-fa71-7e5a33f0e8c3"
      },
      "source": [
        "filmes_num = filmes[filmes.title.str.contains('09')] # Filmes que contém 09 no título\n",
        "filmes_num.shape"
      ],
      "execution_count": null,
      "outputs": [
        {
          "output_type": "execute_result",
          "data": {
            "text/plain": [
              "(1, 4)"
            ]
          },
          "metadata": {},
          "execution_count": 20
        }
      ]
    },
    {
      "cell_type": "code",
      "metadata": {
        "id": "XHhns3bj0WZh",
        "colab": {
          "base_uri": "https://localhost:8080/"
        },
        "outputId": "968f091e-58c1-4eaf-e301-dd18f722544d"
      },
      "source": [
        "len(filmes_num)"
      ],
      "execution_count": null,
      "outputs": [
        {
          "output_type": "execute_result",
          "data": {
            "text/plain": [
              "1"
            ]
          },
          "metadata": {},
          "execution_count": 21
        }
      ]
    },
    {
      "cell_type": "markdown",
      "metadata": {
        "id": "Po1YsVGqgbPM"
      },
      "source": [
        "***HTML***"
      ]
    },
    {
      "cell_type": "code",
      "metadata": {
        "id": "hKtFfI5CgYPD"
      },
      "source": [
        "url = 'https://www.contextures.com/xlSampleData01.html'"
      ],
      "execution_count": null,
      "outputs": []
    },
    {
      "cell_type": "code",
      "metadata": {
        "colab": {
          "base_uri": "https://localhost:8080/"
        },
        "id": "kr-P4AQHgYSE",
        "outputId": "7adc8a0e-923c-4d84-c3ac-910f72969256"
      },
      "source": [
        "tabelas = pd.read_html(url)\n",
        "print(\"Retorna uma lista de tabelas contidas no site\")\n",
        "print(tabelas[0])"
      ],
      "execution_count": null,
      "outputs": [
        {
          "output_type": "stream",
          "text": [
            "Retorna uma lista de tabelas contidas no site\n",
            "             0        1         2        3      4         5        6\n",
            "0    OrderDate   Region       Rep     Item  Units  UnitCost    Total\n",
            "1     1/6/2020     East     Jones   Pencil     95      1.99   189.05\n",
            "2    1/23/2020  Central    Kivell   Binder     50     19.99   999.50\n",
            "3     2/9/2020  Central   Jardine   Pencil     36      4.99   179.64\n",
            "4    2/26/2020  Central      Gill      Pen     27     19.99   539.73\n",
            "5    3/15/2020     West   Sorvino   Pencil     56      2.99   167.44\n",
            "6     4/1/2020     East     Jones   Binder     60      4.99   299.40\n",
            "7    4/18/2020  Central   Andrews   Pencil     75      1.99   149.25\n",
            "8     5/5/2020  Central   Jardine   Pencil     90      4.99   449.10\n",
            "9    5/22/2020     West  Thompson   Pencil     32      1.99    63.68\n",
            "10    6/8/2020     East     Jones   Binder     60      8.99   539.40\n",
            "11   6/25/2020  Central    Morgan   Pencil     90      4.99   449.10\n",
            "12   7/12/2020     East    Howard   Binder     29      1.99    57.71\n",
            "13   7/29/2020     East    Parent   Binder     81     19.99  1619.19\n",
            "14   8/15/2020     East     Jones   Pencil     35      4.99   174.65\n",
            "15    9/1/2020  Central     Smith     Desk      2    125.00   250.00\n",
            "16   9/18/2020     East     Jones  Pen Set     16     15.99   255.84\n",
            "17   10/5/2020  Central    Morgan   Binder     28      8.99   251.72\n",
            "18  10/22/2020     East     Jones      Pen     64      8.99   575.36\n",
            "19   11/8/2020     East    Parent      Pen     15     19.99   299.85\n",
            "20  11/25/2020  Central    Kivell  Pen Set     96      4.99   479.04\n",
            "21  12/12/2020  Central     Smith   Pencil     67      1.29    86.43\n",
            "22  12/29/2020     East    Parent  Pen Set     74     15.99  1183.26\n",
            "23   1/15/2021  Central      Gill   Binder     46      8.99   413.54\n",
            "24    2/1/2021  Central     Smith   Binder     87     15.00  1305.00\n",
            "25   2/18/2021     East     Jones   Binder      4      4.99    19.96\n",
            "26    3/7/2021     West   Sorvino   Binder      7     19.99   139.93\n",
            "27   3/24/2021  Central   Jardine  Pen Set     50      4.99   249.50\n",
            "28   4/10/2021  Central   Andrews   Pencil     66      1.99   131.34\n",
            "29   4/27/2021     East    Howard      Pen     96      4.99   479.04\n",
            "30   5/14/2021  Central      Gill   Pencil     53      1.29    68.37\n",
            "31   5/31/2021  Central      Gill   Binder     80      8.99   719.20\n",
            "32   6/17/2021  Central    Kivell     Desk      5    125.00   625.00\n",
            "33    7/4/2021     East     Jones  Pen Set     62      4.99   309.38\n",
            "34   7/21/2021  Central    Morgan  Pen Set     55     12.49   686.95\n",
            "35    8/7/2021  Central    Kivell  Pen Set     42     23.95  1005.90\n",
            "36   8/24/2021     West   Sorvino     Desk      3    275.00   825.00\n",
            "37   9/10/2021  Central      Gill   Pencil      7      1.29     9.03\n",
            "38   9/27/2021     West   Sorvino      Pen     76      1.99   151.24\n",
            "39  10/14/2021     West  Thompson   Binder     57     19.99  1139.43\n",
            "40  10/31/2021  Central   Andrews   Pencil     14      1.29    18.06\n",
            "41  11/17/2021  Central   Jardine   Binder     11      4.99    54.89\n",
            "42   12/4/2021  Central   Jardine   Binder     94     19.99  1879.06\n",
            "43  12/21/2021  Central   Andrews   Binder     28      4.99   139.72\n"
          ],
          "name": "stdout"
        }
      ]
    },
    {
      "cell_type": "code",
      "metadata": {
        "id": "gJUCWnCTgYU3"
      },
      "source": [
        "tabela = tabelas[0]"
      ],
      "execution_count": null,
      "outputs": []
    },
    {
      "cell_type": "code",
      "metadata": {
        "colab": {
          "base_uri": "https://localhost:8080/"
        },
        "id": "Co4uHVACmWkp",
        "outputId": "06b675d4-41fb-4750-f613-035913ff783e"
      },
      "source": [
        "tabela.columns = tabela.iloc[0, :]\n",
        "tabela.columns"
      ],
      "execution_count": null,
      "outputs": [
        {
          "output_type": "execute_result",
          "data": {
            "text/plain": [
              "Index(['OrderDate', 'Region', 'Rep', 'Item', 'Units', 'UnitCost', 'Total'], dtype='object', name=0)"
            ]
          },
          "metadata": {},
          "execution_count": 34
        }
      ]
    },
    {
      "cell_type": "code",
      "metadata": {
        "colab": {
          "base_uri": "https://localhost:8080/"
        },
        "id": "x5P002KnmWnu",
        "outputId": "e573bc97-529b-4596-9633-bfbb95d4a403"
      },
      "source": [
        "tabela = tabela[1:]\n",
        "print(tabela)"
      ],
      "execution_count": null,
      "outputs": [
        {
          "output_type": "stream",
          "text": [
            "0    OrderDate   Region       Rep     Item Units UnitCost    Total\n",
            "1     1/6/2020     East     Jones   Pencil    95     1.99   189.05\n",
            "2    1/23/2020  Central    Kivell   Binder    50    19.99   999.50\n",
            "3     2/9/2020  Central   Jardine   Pencil    36     4.99   179.64\n",
            "4    2/26/2020  Central      Gill      Pen    27    19.99   539.73\n",
            "5    3/15/2020     West   Sorvino   Pencil    56     2.99   167.44\n",
            "6     4/1/2020     East     Jones   Binder    60     4.99   299.40\n",
            "7    4/18/2020  Central   Andrews   Pencil    75     1.99   149.25\n",
            "8     5/5/2020  Central   Jardine   Pencil    90     4.99   449.10\n",
            "9    5/22/2020     West  Thompson   Pencil    32     1.99    63.68\n",
            "10    6/8/2020     East     Jones   Binder    60     8.99   539.40\n",
            "11   6/25/2020  Central    Morgan   Pencil    90     4.99   449.10\n",
            "12   7/12/2020     East    Howard   Binder    29     1.99    57.71\n",
            "13   7/29/2020     East    Parent   Binder    81    19.99  1619.19\n",
            "14   8/15/2020     East     Jones   Pencil    35     4.99   174.65\n",
            "15    9/1/2020  Central     Smith     Desk     2   125.00   250.00\n",
            "16   9/18/2020     East     Jones  Pen Set    16    15.99   255.84\n",
            "17   10/5/2020  Central    Morgan   Binder    28     8.99   251.72\n",
            "18  10/22/2020     East     Jones      Pen    64     8.99   575.36\n",
            "19   11/8/2020     East    Parent      Pen    15    19.99   299.85\n",
            "20  11/25/2020  Central    Kivell  Pen Set    96     4.99   479.04\n",
            "21  12/12/2020  Central     Smith   Pencil    67     1.29    86.43\n",
            "22  12/29/2020     East    Parent  Pen Set    74    15.99  1183.26\n",
            "23   1/15/2021  Central      Gill   Binder    46     8.99   413.54\n",
            "24    2/1/2021  Central     Smith   Binder    87    15.00  1305.00\n",
            "25   2/18/2021     East     Jones   Binder     4     4.99    19.96\n",
            "26    3/7/2021     West   Sorvino   Binder     7    19.99   139.93\n",
            "27   3/24/2021  Central   Jardine  Pen Set    50     4.99   249.50\n",
            "28   4/10/2021  Central   Andrews   Pencil    66     1.99   131.34\n",
            "29   4/27/2021     East    Howard      Pen    96     4.99   479.04\n",
            "30   5/14/2021  Central      Gill   Pencil    53     1.29    68.37\n",
            "31   5/31/2021  Central      Gill   Binder    80     8.99   719.20\n",
            "32   6/17/2021  Central    Kivell     Desk     5   125.00   625.00\n",
            "33    7/4/2021     East     Jones  Pen Set    62     4.99   309.38\n",
            "34   7/21/2021  Central    Morgan  Pen Set    55    12.49   686.95\n",
            "35    8/7/2021  Central    Kivell  Pen Set    42    23.95  1005.90\n",
            "36   8/24/2021     West   Sorvino     Desk     3   275.00   825.00\n",
            "37   9/10/2021  Central      Gill   Pencil     7     1.29     9.03\n",
            "38   9/27/2021     West   Sorvino      Pen    76     1.99   151.24\n",
            "39  10/14/2021     West  Thompson   Binder    57    19.99  1139.43\n",
            "40  10/31/2021  Central   Andrews   Pencil    14     1.29    18.06\n",
            "41  11/17/2021  Central   Jardine   Binder    11     4.99    54.89\n",
            "42   12/4/2021  Central   Jardine   Binder    94    19.99  1879.06\n",
            "43  12/21/2021  Central   Andrews   Binder    28     4.99   139.72\n"
          ],
          "name": "stdout"
        }
      ]
    },
    {
      "cell_type": "code",
      "metadata": {
        "colab": {
          "base_uri": "https://localhost:8080/",
          "height": 111
        },
        "id": "rQx8dHVamWqs",
        "outputId": "42fa4ca2-5974-4349-dce0-5677ad567bb3"
      },
      "source": [
        "tabela[(tabela.Item == 'Pencil') & (tabela.Region == 'East')]"
      ],
      "execution_count": null,
      "outputs": [
        {
          "output_type": "execute_result",
          "data": {
            "text/html": [
              "<div>\n",
              "<style scoped>\n",
              "    .dataframe tbody tr th:only-of-type {\n",
              "        vertical-align: middle;\n",
              "    }\n",
              "\n",
              "    .dataframe tbody tr th {\n",
              "        vertical-align: top;\n",
              "    }\n",
              "\n",
              "    .dataframe thead th {\n",
              "        text-align: right;\n",
              "    }\n",
              "</style>\n",
              "<table border=\"1\" class=\"dataframe\">\n",
              "  <thead>\n",
              "    <tr style=\"text-align: right;\">\n",
              "      <th></th>\n",
              "      <th>OrderDate</th>\n",
              "      <th>Region</th>\n",
              "      <th>Rep</th>\n",
              "      <th>Item</th>\n",
              "      <th>Units</th>\n",
              "      <th>UnitCost</th>\n",
              "      <th>Total</th>\n",
              "    </tr>\n",
              "  </thead>\n",
              "  <tbody>\n",
              "    <tr>\n",
              "      <th>1</th>\n",
              "      <td>1/6/2020</td>\n",
              "      <td>East</td>\n",
              "      <td>Jones</td>\n",
              "      <td>Pencil</td>\n",
              "      <td>95</td>\n",
              "      <td>1.99</td>\n",
              "      <td>189.05</td>\n",
              "    </tr>\n",
              "    <tr>\n",
              "      <th>14</th>\n",
              "      <td>8/15/2020</td>\n",
              "      <td>East</td>\n",
              "      <td>Jones</td>\n",
              "      <td>Pencil</td>\n",
              "      <td>35</td>\n",
              "      <td>4.99</td>\n",
              "      <td>174.65</td>\n",
              "    </tr>\n",
              "  </tbody>\n",
              "</table>\n",
              "</div>"
            ],
            "text/plain": [
              "0   OrderDate Region    Rep    Item Units UnitCost   Total\n",
              "1    1/6/2020   East  Jones  Pencil    95     1.99  189.05\n",
              "14  8/15/2020   East  Jones  Pencil    35     4.99  174.65"
            ]
          },
          "metadata": {},
          "execution_count": 36
        }
      ]
    },
    {
      "cell_type": "markdown",
      "metadata": {
        "id": "XUNhfa8ArrsE"
      },
      "source": [
        "***Web Scraping***"
      ]
    },
    {
      "cell_type": "code",
      "metadata": {
        "id": "HlJRAQxU1G4c"
      },
      "source": [
        "from bs4 import BeautifulSoup\n",
        "import requests\n",
        "import pandas as pd\n",
        "import numpy as np\n"
      ],
      "execution_count": 51,
      "outputs": []
    },
    {
      "cell_type": "code",
      "metadata": {
        "colab": {
          "base_uri": "https://localhost:8080/"
        },
        "id": "LyAStkTGcfdl",
        "outputId": "09407300-e17a-48ce-b3dd-3ba588df39a3"
      },
      "source": [
        "url = 'https://finance.yahoo.com/quote/AMZN/history?p=AMZN'\n",
        "html = requests.get(url)\n",
        "soup = BeautifulSoup(html.text, 'html5lib')\n",
        "soup.find('a')\n",
        "soup.find_all('a')\n",
        "html_tabela = soup.find('table')\n",
        "print(html_tabela)\n",
        "tabela_amazon = pd.read_html(str(html_tabela))[0]\n",
        "print(tabela_amazon)"
      ],
      "execution_count": 8,
      "outputs": [
        {
          "output_type": "execute_result",
          "data": {
            "text/plain": [
              "[]"
            ]
          },
          "metadata": {},
          "execution_count": 8
        }
      ]
    },
    {
      "cell_type": "code",
      "metadata": {
        "id": "qq7a2RKN8Xz0",
        "colab": {
          "base_uri": "https://localhost:8080/",
          "height": 49
        },
        "outputId": "8f352611-dc7e-4138-8103-525c745db2dd"
      },
      "source": [
        "url = 'https://www.amazon.com.br/s?k=python&rh=p_n_conditiontype%3A13862762011%2Cp_n_free_shipping_eligible%3A19171733011&dc&__mk_pt_BR=%C3%85M%C3%85%C5%BD%C3%95%C3%91'\n",
        "html = requests.get(url)\n",
        "soup = BeautifulSoup(html.text, 'html5lib')\n",
        "livros = []\n",
        "for div in soup.find_all('div', attrs={'class': 's-include-content-margin'}):\n",
        "  nome = div.find('span', attrs= {'class': 'a-text-normal'})\n",
        "  preco = div.find('span', attrs= {'class': 'a-price'})\n",
        "  autor = div.find('span', attrs={'class': 'a-row a-size-base a-color-secondary'})\n",
        "  livros.append([nome.text, preco.text, autor.text])\n",
        "pd.DataFrame(livros, columns=['Titulo', 'Preço', 'Autor'])  \n"
      ],
      "execution_count": 19,
      "outputs": [
        {
          "output_type": "execute_result",
          "data": {
            "text/html": [
              "<div>\n",
              "<style scoped>\n",
              "    .dataframe tbody tr th:only-of-type {\n",
              "        vertical-align: middle;\n",
              "    }\n",
              "\n",
              "    .dataframe tbody tr th {\n",
              "        vertical-align: top;\n",
              "    }\n",
              "\n",
              "    .dataframe thead th {\n",
              "        text-align: right;\n",
              "    }\n",
              "</style>\n",
              "<table border=\"1\" class=\"dataframe\">\n",
              "  <thead>\n",
              "    <tr style=\"text-align: right;\">\n",
              "      <th></th>\n",
              "      <th>Titulo</th>\n",
              "      <th>Preço</th>\n",
              "      <th>Autor</th>\n",
              "    </tr>\n",
              "  </thead>\n",
              "  <tbody>\n",
              "  </tbody>\n",
              "</table>\n",
              "</div>"
            ],
            "text/plain": [
              "Empty DataFrame\n",
              "Columns: [Titulo, Preço, Autor]\n",
              "Index: []"
            ]
          },
          "metadata": {},
          "execution_count": 19
        }
      ]
    },
    {
      "cell_type": "code",
      "metadata": {
        "id": "wHwDMJAg8X3K",
        "colab": {
          "base_uri": "https://localhost:8080/"
        },
        "outputId": "f43d5044-cb3a-4ec0-bdf6-894c151833e5"
      },
      "source": [
        "url = 'https://www.amazon.com.br/s?k=python&rh=p_n_conditiontype%3A13862762011%2Cp_n_free_shipping_eligible%3A19171733011&dc&__mk_pt_BR=%C3%85M%C3%85%C5%BD%C3%95%C3%91'\n",
        "html = requests.get(url)\n",
        "soup = BeautifulSoup(html.text, 'html5lib')\n",
        "livros = []\n",
        "for div in soup.find_all('div', attrs={'class': 's-include-content-margin'}):\n",
        "  nome = div.find('span', attrs= {'class': 'a-text-normal'})\n",
        "  preco = div.find('span', attrs= {'class': 'a-offscreen'})\n",
        "  autor = div.find('span', attrs={'class': 'a-size-base'})\n",
        "  livros.append([nome.text, preco.text, autor.text])\n",
        "livros =pd.DataFrame(livros, columns=['Titulo', 'Preço', 'Autor'])\n",
        "print(livros.head(10))"
      ],
      "execution_count": 61,
      "outputs": [
        {
          "output_type": "stream",
          "text": [
            "                                              Titulo  ...             Autor\n",
            "0  Introdução à Programação com Python: Algoritmo...  ...  Edição Português\n",
            "1  Python Fluente: Programação Clara, Concisa e E...  ...  Edição Português\n",
            "2  Python Para Análise de Dados: Tratamento de Da...  ...  Edição Português\n",
            "3  Python e Mercado Financeiro: Programação Para ...  ...  Edição Português\n",
            "4  Pense em Python: Pense Como um Cientista da Co...  ...  Edição Português\n",
            "5                   Use a Cabeça! Python ― 2ª Edição  ...  Edição Português\n",
            "6        Começando a programar em Python para leigos  ...              por \n",
            "7  Web Scraping com Python: Coletando Mais Dados ...  ...  Edição Português\n",
            "8  Problemas Clássicos de Ciência da Computação c...  ...  Edição Português\n",
            "9  Data science do zero: primeiras regras com o P...  ...  Edição Português\n",
            "\n",
            "[10 rows x 3 columns]\n"
          ],
          "name": "stdout"
        }
      ]
    },
    {
      "cell_type": "code",
      "metadata": {
        "id": "x0GRKSLi8X6q",
        "colab": {
          "base_uri": "https://localhost:8080/"
        },
        "outputId": "0ab5bd01-2fa0-4571-94c6-a5b4f345ad44"
      },
      "source": [
        "type(livros)"
      ],
      "execution_count": 41,
      "outputs": [
        {
          "output_type": "execute_result",
          "data": {
            "text/plain": [
              "pandas.core.frame.DataFrame"
            ]
          },
          "metadata": {},
          "execution_count": 41
        }
      ]
    },
    {
      "cell_type": "code",
      "metadata": {
        "id": "ThHu0yaB8X_l",
        "colab": {
          "base_uri": "https://localhost:8080/"
        },
        "outputId": "b363b191-88b3-4e29-a7b7-3e75b823c994"
      },
      "source": [
        "print(livros)"
      ],
      "execution_count": 62,
      "outputs": [
        {
          "output_type": "stream",
          "text": [
            "                                               Titulo  ...             Autor\n",
            "0   Introdução à Programação com Python: Algoritmo...  ...  Edição Português\n",
            "1   Python Fluente: Programação Clara, Concisa e E...  ...  Edição Português\n",
            "2   Python Para Análise de Dados: Tratamento de Da...  ...  Edição Português\n",
            "3   Python e Mercado Financeiro: Programação Para ...  ...  Edição Português\n",
            "4   Pense em Python: Pense Como um Cientista da Co...  ...  Edição Português\n",
            "5                    Use a Cabeça! Python ― 2ª Edição  ...  Edição Português\n",
            "6         Começando a programar em Python para leigos  ...              por \n",
            "7   Web Scraping com Python: Coletando Mais Dados ...  ...  Edição Português\n",
            "8   Problemas Clássicos de Ciência da Computação c...  ...  Edição Português\n",
            "9   Data science do zero: primeiras regras com o P...  ...  Edição Português\n",
            "10  Data Science Do Zero: Noções Fundamentais com ...  ...  Edição Português\n",
            "11  Aprenda Python 3 do jeito certo: uma introduçã...  ...  Edição Português\n",
            "12  Python Crash Course, 2nd Edition: A Hands-On, ...  ...     Edição Inglês\n",
            "13  Mãos à obra: aprendizado de máquina com Scikit...  ...  Edição Português\n",
            "14  Entendendo Algoritmos: Um Guia Ilustrado Para ...  ...  Edição Português\n",
            "15  Mãos à Obra: Aprendizado de Máquina com Scikit...  ...  Edição Português\n",
            "16  O Guia do Mochileiro Python: Melhores Práticas...  ...  Edição Português\n",
            "17  Programação de Redes com Python: Guia Abrangen...  ...  Edição Português\n",
            "18  Aprendendo Padrões de Projeto em Python: Tire ...  ...  Edição Português\n",
            "19  Machine Learning – Guia de Referência Rápida: ...  ...  Edição Português\n",
            "20               Análise de Dados com Python e Pandas  ...  Edição Português\n",
            "21  Aprenda Django 3 com Exemplos: Crie Aplicações...  ...  Edição Português\n",
            "22                                  The Greedy Python  ...     Edição Inglês\n",
            "23  Automate the Boring Stuff with Python, 2nd Edi...  ...     Edição Inglês\n",
            "24  Intro to Python for Computer Science and Data ...  ...     Edição Inglês\n",
            "25             Matemática com Python: um Guia Prático  ...  Edição Português\n",
            "26  Python Basics: A Practical Introduction to Pyt...  ...     Edição Inglês\n",
            "27  Introdução à Computação Usando Python - um Foc...  ...  Edição Português\n",
            "28  Python Levado a Sério: Conselhos de um Faixa-p...  ...  Edição Português\n",
            "29  Beyond the Basic Stuff with Python: Best Pract...  ...     Edição Inglês\n",
            "30  Practical Python Programming for IoT: Build ad...  ...     Edição Inglês\n",
            "31  Projetos com Python e Arduino: Como Desenvolve...  ...  Edição Português\n",
            "32                 Tênis Cage Python, Fila, Masculino  ...             1.062\n",
            "33                                Python Para Pentest  ...  Edição Português\n",
            "34                 Algoritmos E Lógica Da Programação  ...  Edição Português\n",
            "35  Introdução à mineração de dados: Conceitos bás...  ...  Edição Português\n",
            "36  Ensine Seus Filhos a Programar: Um Guia Amigáv...  ...  Edição Português\n",
            "37  Data Science Projects with Python: A case stud...  ...     Edição Inglês\n",
            "38  Projetos de Ciência de Dados com Python: Abord...  ...  Edição Português\n",
            "39  Monty Python and the Holy Grail (Special Edition)  ...             4.096\n",
            "40     Beginners Guide To Python Programming For Kids  ...     Edição Inglês\n",
            "41               Python para Data Science para leigos  ...              por \n",
            "42  Hands-On Machine Learning with Scikit-Learn, K...  ...     Edição Inglês\n",
            "43  Análise de Tráfego em Redes TCP/IP: Utilize Tc...  ...  Edição Português\n",
            "44        Começando a programar em Python para leigos  ...  Edição Português\n",
            "45  Monty Python's Total Rubbish: Complete Collect...  ...              por \n",
            "46  Financial Theory with Python: A Gentle Introdu...  ...     Edição Inglês\n",
            "47  Python e Django: desenvolvimento web moderno e...  ...              por \n",
            "\n",
            "[48 rows x 3 columns]\n"
          ],
          "name": "stdout"
        }
      ]
    },
    {
      "cell_type": "markdown",
      "metadata": {
        "id": "vxGTPT8i3igG"
      },
      "source": [
        "***Comando para salvar em excel***"
      ]
    },
    {
      "cell_type": "code",
      "metadata": {
        "id": "u3QmTD0I8YCt"
      },
      "source": [
        "# Digite o nome do data frame, seguido de ponto \".\"\n",
        "# e em seguida use a função \"to_excel\", dentro do argumento da função explicite o nome do arquivo xlsx\n",
        "livros.to_excel(\"livros_amazon.xlsx\", sheet_name='Sheet1') "
      ],
      "execution_count": null,
      "outputs": []
    },
    {
      "cell_type": "markdown",
      "metadata": {
        "id": "lsWnWJju3r5V"
      },
      "source": [
        "***Comando para salvar csv***"
      ]
    },
    {
      "cell_type": "markdown",
      "metadata": {
        "id": "0MDOfWg_4FgM"
      },
      "source": [
        "*Digite o nome do data frame, seguido de ponto \".\" e em seguida use a função \"to_csv\", dentro do argumento da função explicite o nome do arquivo CSV*"
      ]
    },
    {
      "cell_type": "code",
      "metadata": {
        "id": "XC9Nd8vY3lTz"
      },
      "source": [
        "livros.to_csv(\"livros_amazon.csv\", index=False)"
      ],
      "execution_count": null,
      "outputs": []
    },
    {
      "cell_type": "code",
      "metadata": {
        "id": "vQ6EV-wrgYbZ"
      },
      "source": [
        ""
      ],
      "execution_count": null,
      "outputs": []
    }
  ]
}