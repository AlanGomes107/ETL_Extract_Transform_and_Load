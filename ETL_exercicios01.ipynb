{
  "nbformat": 4,
  "nbformat_minor": 0,
  "metadata": {
    "colab": {
      "name": "ETL_exercicios01.ipynb",
      "provenance": [],
      "authorship_tag": "ABX9TyOdHfTcdkjoe86k5IKcR6j3",
      "include_colab_link": true
    },
    "kernelspec": {
      "name": "python3",
      "display_name": "Python 3"
    },
    "language_info": {
      "name": "python"
    }
  },
  "cells": [
    {
      "cell_type": "markdown",
      "metadata": {
        "id": "view-in-github",
        "colab_type": "text"
      },
      "source": [
        "<a href=\"https://colab.research.google.com/github/AlanGomes107/ETL_Extract_Transform_and_Load/blob/main/ETL_exercicios01.ipynb\" target=\"_parent\"><img src=\"https://colab.research.google.com/assets/colab-badge.svg\" alt=\"Open In Colab\"/></a>"
      ]
    },
    {
      "cell_type": "markdown",
      "metadata": {
        "id": "Il-cOMLPBqm_"
      },
      "source": [
        "1.1)\tImportar arquivo APPL.csv                                 \n",
        "1.2)\tCriar uma variável (de o nome que achar conveniente) entre a diferença da maior cotação do dia para a menor (High e Low)       \n",
        "1.3)\tEncontrar os 10 dias com maiores diferenças            \n",
        "1.4)\tEncontrar os 10 dias com menores diferenças           \n",
        "1.5)\tCalcule a média destas diferenças (sem filtros) \n",
        "\n",
        "\n",
        "\n"
      ]
    },
    {
      "cell_type": "code",
      "metadata": {
        "id": "_VCWyYNP8MCz"
      },
      "source": [
        "import numpy as np\n",
        "import pandas as pd"
      ],
      "execution_count": 1,
      "outputs": []
    },
    {
      "cell_type": "code",
      "metadata": {
        "colab": {
          "base_uri": "https://localhost:8080/"
        },
        "id": "2ONsWzj89PPp",
        "outputId": "cdd3621f-5909-449a-e531-48cdece72339"
      },
      "source": [
        "apple = pd.read_csv('AAPL.csv', sep=',') # 1.1) Importar arquivo APPL.csv\n",
        "print(apple)\n"
      ],
      "execution_count": 6,
      "outputs": [
        {
          "output_type": "stream",
          "text": [
            "            Date        Open        High  ...       Close   Adj Close     Volume\n",
            "0     2016-03-01   97.650002  100.769997  ...  100.529999   94.228645   50407100\n",
            "1     2016-03-02  100.510002  100.889999  ...  100.750000   94.434853   33169600\n",
            "2     2016-03-03  100.580002  101.709999  ...  101.500000   95.137848   36955700\n",
            "3     2016-03-04  102.370003  103.750000  ...  103.010002   96.553185   46055100\n",
            "4     2016-03-07  102.389999  102.830002  ...  101.870003   95.484657   35828900\n",
            "...          ...         ...         ...  ...         ...         ...        ...\n",
            "1002  2020-02-24  297.260010  304.179993  ...  298.179993  298.179993   55548800\n",
            "1003  2020-02-25  300.950012  302.529999  ...  288.079987  288.079987   57668400\n",
            "1004  2020-02-26  286.529999  297.880005  ...  292.649994  292.649994   49513700\n",
            "1005  2020-02-27  281.100006  286.000000  ...  273.519989  273.519989   80151400\n",
            "1006  2020-02-28  257.260010  278.410004  ...  273.359985  273.359985  106627500\n",
            "\n",
            "[1007 rows x 7 columns]\n"
          ],
          "name": "stdout"
        }
      ]
    },
    {
      "cell_type": "code",
      "metadata": {
        "colab": {
          "base_uri": "https://localhost:8080/"
        },
        "id": "GfMOB8jn9PTP",
        "outputId": "89fece29-4edf-4254-b656-fb28a2ca32f4"
      },
      "source": [
        "apple['dif'] = apple['High']- apple['Low'] # 1.2) Criar uma variável (de o nome que achar conveniente)\n",
        "# entre a diferença da maior cotação do dia para a menor (High e Low)\n",
        "print(apple)"
      ],
      "execution_count": 7,
      "outputs": [
        {
          "output_type": "stream",
          "text": [
            "            Date        Open        High  ...   Adj Close     Volume        dif\n",
            "0     2016-03-01   97.650002  100.769997  ...   94.228645   50407100   3.349999\n",
            "1     2016-03-02  100.510002  100.889999  ...   94.434853   33169600   1.250000\n",
            "2     2016-03-03  100.580002  101.709999  ...   95.137848   36955700   1.260002\n",
            "3     2016-03-04  102.370003  103.750000  ...   96.553185   46055100   2.379997\n",
            "4     2016-03-07  102.389999  102.830002  ...   95.484657   35828900   1.870003\n",
            "...          ...         ...         ...  ...         ...        ...        ...\n",
            "1002  2020-02-24  297.260010  304.179993  ...  298.179993   55548800  14.949982\n",
            "1003  2020-02-25  300.950012  302.529999  ...  288.079987   57668400  16.399994\n",
            "1004  2020-02-26  286.529999  297.880005  ...  292.649994   49513700  11.380005\n",
            "1005  2020-02-27  281.100006  286.000000  ...  273.519989   80151400  13.040009\n",
            "1006  2020-02-28  257.260010  278.410004  ...  273.359985  106627500  22.040009\n",
            "\n",
            "[1007 rows x 8 columns]\n"
          ],
          "name": "stdout"
        }
      ]
    },
    {
      "cell_type": "code",
      "metadata": {
        "colab": {
          "base_uri": "https://localhost:8080/",
          "height": 359
        },
        "id": "Odc5tefN9PXn",
        "outputId": "d683ed95-f8f3-4c7f-a9ff-ceb45d171fe6"
      },
      "source": [
        "apple.sort_values('dif', ascending=False).head(10) # 1.3) Encontrar os 10 dias com maiores diferenças"
      ],
      "execution_count": 8,
      "outputs": [
        {
          "output_type": "execute_result",
          "data": {
            "text/html": [
              "<div>\n",
              "<style scoped>\n",
              "    .dataframe tbody tr th:only-of-type {\n",
              "        vertical-align: middle;\n",
              "    }\n",
              "\n",
              "    .dataframe tbody tr th {\n",
              "        vertical-align: top;\n",
              "    }\n",
              "\n",
              "    .dataframe thead th {\n",
              "        text-align: right;\n",
              "    }\n",
              "</style>\n",
              "<table border=\"1\" class=\"dataframe\">\n",
              "  <thead>\n",
              "    <tr style=\"text-align: right;\">\n",
              "      <th></th>\n",
              "      <th>Date</th>\n",
              "      <th>Open</th>\n",
              "      <th>High</th>\n",
              "      <th>Low</th>\n",
              "      <th>Close</th>\n",
              "      <th>Adj Close</th>\n",
              "      <th>Volume</th>\n",
              "      <th>dif</th>\n",
              "    </tr>\n",
              "  </thead>\n",
              "  <tbody>\n",
              "    <tr>\n",
              "      <th>1006</th>\n",
              "      <td>2020-02-28</td>\n",
              "      <td>257.260010</td>\n",
              "      <td>278.410004</td>\n",
              "      <td>256.369995</td>\n",
              "      <td>273.359985</td>\n",
              "      <td>273.359985</td>\n",
              "      <td>106627500</td>\n",
              "      <td>22.040009</td>\n",
              "    </tr>\n",
              "    <tr>\n",
              "      <th>1003</th>\n",
              "      <td>2020-02-25</td>\n",
              "      <td>300.950012</td>\n",
              "      <td>302.529999</td>\n",
              "      <td>286.130005</td>\n",
              "      <td>288.079987</td>\n",
              "      <td>288.079987</td>\n",
              "      <td>57668400</td>\n",
              "      <td>16.399994</td>\n",
              "    </tr>\n",
              "    <tr>\n",
              "      <th>1002</th>\n",
              "      <td>2020-02-24</td>\n",
              "      <td>297.260010</td>\n",
              "      <td>304.179993</td>\n",
              "      <td>289.230011</td>\n",
              "      <td>298.179993</td>\n",
              "      <td>298.179993</td>\n",
              "      <td>55548800</td>\n",
              "      <td>14.949982</td>\n",
              "    </tr>\n",
              "    <tr>\n",
              "      <th>987</th>\n",
              "      <td>2020-01-31</td>\n",
              "      <td>320.929993</td>\n",
              "      <td>322.679993</td>\n",
              "      <td>308.290009</td>\n",
              "      <td>309.510010</td>\n",
              "      <td>308.777191</td>\n",
              "      <td>49897100</td>\n",
              "      <td>14.389984</td>\n",
              "    </tr>\n",
              "    <tr>\n",
              "      <th>672</th>\n",
              "      <td>2018-10-29</td>\n",
              "      <td>219.190002</td>\n",
              "      <td>219.690002</td>\n",
              "      <td>206.089996</td>\n",
              "      <td>212.240005</td>\n",
              "      <td>207.877899</td>\n",
              "      <td>45935500</td>\n",
              "      <td>13.600006</td>\n",
              "    </tr>\n",
              "    <tr>\n",
              "      <th>1005</th>\n",
              "      <td>2020-02-27</td>\n",
              "      <td>281.100006</td>\n",
              "      <td>286.000000</td>\n",
              "      <td>272.959991</td>\n",
              "      <td>273.519989</td>\n",
              "      <td>273.519989</td>\n",
              "      <td>80151400</td>\n",
              "      <td>13.040009</td>\n",
              "    </tr>\n",
              "    <tr>\n",
              "      <th>925</th>\n",
              "      <td>2019-10-31</td>\n",
              "      <td>247.240005</td>\n",
              "      <td>249.169998</td>\n",
              "      <td>237.259995</td>\n",
              "      <td>248.759995</td>\n",
              "      <td>247.428162</td>\n",
              "      <td>34790500</td>\n",
              "      <td>11.910003</td>\n",
              "    </tr>\n",
              "    <tr>\n",
              "      <th>869</th>\n",
              "      <td>2019-08-13</td>\n",
              "      <td>201.020004</td>\n",
              "      <td>212.139999</td>\n",
              "      <td>200.479996</td>\n",
              "      <td>208.970001</td>\n",
              "      <td>207.851212</td>\n",
              "      <td>47218500</td>\n",
              "      <td>11.660003</td>\n",
              "    </tr>\n",
              "    <tr>\n",
              "      <th>1004</th>\n",
              "      <td>2020-02-26</td>\n",
              "      <td>286.529999</td>\n",
              "      <td>297.880005</td>\n",
              "      <td>286.500000</td>\n",
              "      <td>292.649994</td>\n",
              "      <td>292.649994</td>\n",
              "      <td>49513700</td>\n",
              "      <td>11.380005</td>\n",
              "    </tr>\n",
              "    <tr>\n",
              "      <th>861</th>\n",
              "      <td>2019-08-01</td>\n",
              "      <td>213.899994</td>\n",
              "      <td>218.029999</td>\n",
              "      <td>206.740005</td>\n",
              "      <td>208.429993</td>\n",
              "      <td>206.529373</td>\n",
              "      <td>54017900</td>\n",
              "      <td>11.289994</td>\n",
              "    </tr>\n",
              "  </tbody>\n",
              "</table>\n",
              "</div>"
            ],
            "text/plain": [
              "            Date        Open        High  ...   Adj Close     Volume        dif\n",
              "1006  2020-02-28  257.260010  278.410004  ...  273.359985  106627500  22.040009\n",
              "1003  2020-02-25  300.950012  302.529999  ...  288.079987   57668400  16.399994\n",
              "1002  2020-02-24  297.260010  304.179993  ...  298.179993   55548800  14.949982\n",
              "987   2020-01-31  320.929993  322.679993  ...  308.777191   49897100  14.389984\n",
              "672   2018-10-29  219.190002  219.690002  ...  207.877899   45935500  13.600006\n",
              "1005  2020-02-27  281.100006  286.000000  ...  273.519989   80151400  13.040009\n",
              "925   2019-10-31  247.240005  249.169998  ...  247.428162   34790500  11.910003\n",
              "869   2019-08-13  201.020004  212.139999  ...  207.851212   47218500  11.660003\n",
              "1004  2020-02-26  286.529999  297.880005  ...  292.649994   49513700  11.380005\n",
              "861   2019-08-01  213.899994  218.029999  ...  206.529373   54017900  11.289994\n",
              "\n",
              "[10 rows x 8 columns]"
            ]
          },
          "metadata": {},
          "execution_count": 8
        }
      ]
    },
    {
      "cell_type": "code",
      "metadata": {
        "colab": {
          "base_uri": "https://localhost:8080/",
          "height": 359
        },
        "id": "TX7y8NxY9Pa4",
        "outputId": "9d479b7b-ff11-4aeb-fa53-2f55d87a9da5"
      },
      "source": [
        "apple.sort_values('dif', ascending=False).tail(10) # 1.4) Encontrar os 10 dias com menores diferenças"
      ],
      "execution_count": 9,
      "outputs": [
        {
          "output_type": "execute_result",
          "data": {
            "text/html": [
              "<div>\n",
              "<style scoped>\n",
              "    .dataframe tbody tr th:only-of-type {\n",
              "        vertical-align: middle;\n",
              "    }\n",
              "\n",
              "    .dataframe tbody tr th {\n",
              "        vertical-align: top;\n",
              "    }\n",
              "\n",
              "    .dataframe thead th {\n",
              "        text-align: right;\n",
              "    }\n",
              "</style>\n",
              "<table border=\"1\" class=\"dataframe\">\n",
              "  <thead>\n",
              "    <tr style=\"text-align: right;\">\n",
              "      <th></th>\n",
              "      <th>Date</th>\n",
              "      <th>Open</th>\n",
              "      <th>High</th>\n",
              "      <th>Low</th>\n",
              "      <th>Close</th>\n",
              "      <th>Adj Close</th>\n",
              "      <th>Volume</th>\n",
              "      <th>dif</th>\n",
              "    </tr>\n",
              "  </thead>\n",
              "  <tbody>\n",
              "    <tr>\n",
              "      <th>224</th>\n",
              "      <td>2017-01-19</td>\n",
              "      <td>119.400002</td>\n",
              "      <td>120.089996</td>\n",
              "      <td>119.370003</td>\n",
              "      <td>119.779999</td>\n",
              "      <td>114.150558</td>\n",
              "      <td>25597300</td>\n",
              "      <td>0.719993</td>\n",
              "    </tr>\n",
              "    <tr>\n",
              "      <th>211</th>\n",
              "      <td>2016-12-29</td>\n",
              "      <td>116.449997</td>\n",
              "      <td>117.110001</td>\n",
              "      <td>116.400002</td>\n",
              "      <td>116.730003</td>\n",
              "      <td>111.243919</td>\n",
              "      <td>15039500</td>\n",
              "      <td>0.709999</td>\n",
              "    </tr>\n",
              "    <tr>\n",
              "      <th>97</th>\n",
              "      <td>2016-07-19</td>\n",
              "      <td>99.559998</td>\n",
              "      <td>100.000000</td>\n",
              "      <td>99.339996</td>\n",
              "      <td>99.870003</td>\n",
              "      <td>94.179955</td>\n",
              "      <td>23779900</td>\n",
              "      <td>0.660004</td>\n",
              "    </tr>\n",
              "    <tr>\n",
              "      <th>115</th>\n",
              "      <td>2016-08-12</td>\n",
              "      <td>107.779999</td>\n",
              "      <td>108.440002</td>\n",
              "      <td>107.779999</td>\n",
              "      <td>108.180000</td>\n",
              "      <td>102.569138</td>\n",
              "      <td>18660400</td>\n",
              "      <td>0.660003</td>\n",
              "    </tr>\n",
              "    <tr>\n",
              "      <th>164</th>\n",
              "      <td>2016-10-21</td>\n",
              "      <td>116.809998</td>\n",
              "      <td>116.910004</td>\n",
              "      <td>116.279999</td>\n",
              "      <td>116.599998</td>\n",
              "      <td>110.552422</td>\n",
              "      <td>23192700</td>\n",
              "      <td>0.630005</td>\n",
              "    </tr>\n",
              "    <tr>\n",
              "      <th>206</th>\n",
              "      <td>2016-12-21</td>\n",
              "      <td>116.800003</td>\n",
              "      <td>117.400002</td>\n",
              "      <td>116.779999</td>\n",
              "      <td>117.059998</td>\n",
              "      <td>111.558411</td>\n",
              "      <td>23783200</td>\n",
              "      <td>0.620003</td>\n",
              "    </tr>\n",
              "    <tr>\n",
              "      <th>260</th>\n",
              "      <td>2017-03-13</td>\n",
              "      <td>138.850006</td>\n",
              "      <td>139.429993</td>\n",
              "      <td>138.820007</td>\n",
              "      <td>139.199997</td>\n",
              "      <td>133.233002</td>\n",
              "      <td>17421700</td>\n",
              "      <td>0.609986</td>\n",
              "    </tr>\n",
              "    <tr>\n",
              "      <th>227</th>\n",
              "      <td>2017-01-24</td>\n",
              "      <td>119.550003</td>\n",
              "      <td>120.099998</td>\n",
              "      <td>119.500000</td>\n",
              "      <td>119.970001</td>\n",
              "      <td>114.331650</td>\n",
              "      <td>23211000</td>\n",
              "      <td>0.599998</td>\n",
              "    </tr>\n",
              "    <tr>\n",
              "      <th>119</th>\n",
              "      <td>2016-08-18</td>\n",
              "      <td>109.230003</td>\n",
              "      <td>109.599998</td>\n",
              "      <td>109.019997</td>\n",
              "      <td>109.080002</td>\n",
              "      <td>103.422455</td>\n",
              "      <td>21984700</td>\n",
              "      <td>0.580001</td>\n",
              "    </tr>\n",
              "    <tr>\n",
              "      <th>92</th>\n",
              "      <td>2016-07-12</td>\n",
              "      <td>97.169998</td>\n",
              "      <td>97.699997</td>\n",
              "      <td>97.120003</td>\n",
              "      <td>97.419998</td>\n",
              "      <td>91.869545</td>\n",
              "      <td>24167500</td>\n",
              "      <td>0.579994</td>\n",
              "    </tr>\n",
              "  </tbody>\n",
              "</table>\n",
              "</div>"
            ],
            "text/plain": [
              "           Date        Open        High  ...   Adj Close    Volume       dif\n",
              "224  2017-01-19  119.400002  120.089996  ...  114.150558  25597300  0.719993\n",
              "211  2016-12-29  116.449997  117.110001  ...  111.243919  15039500  0.709999\n",
              "97   2016-07-19   99.559998  100.000000  ...   94.179955  23779900  0.660004\n",
              "115  2016-08-12  107.779999  108.440002  ...  102.569138  18660400  0.660003\n",
              "164  2016-10-21  116.809998  116.910004  ...  110.552422  23192700  0.630005\n",
              "206  2016-12-21  116.800003  117.400002  ...  111.558411  23783200  0.620003\n",
              "260  2017-03-13  138.850006  139.429993  ...  133.233002  17421700  0.609986\n",
              "227  2017-01-24  119.550003  120.099998  ...  114.331650  23211000  0.599998\n",
              "119  2016-08-18  109.230003  109.599998  ...  103.422455  21984700  0.580001\n",
              "92   2016-07-12   97.169998   97.699997  ...   91.869545  24167500  0.579994\n",
              "\n",
              "[10 rows x 8 columns]"
            ]
          },
          "metadata": {},
          "execution_count": 9
        }
      ]
    },
    {
      "cell_type": "code",
      "metadata": {
        "colab": {
          "base_uri": "https://localhost:8080/"
        },
        "id": "ZL_JwHaM9PeI",
        "outputId": "78ed5a6e-1e94-46c5-b94f-f789c475c859"
      },
      "source": [
        "print('A Média das diferenças é:', '%.3f' %apple.dif.mean()) # 1.5) Calcule a média destas diferenças (sem filtros)"
      ],
      "execution_count": 15,
      "outputs": [
        {
          "output_type": "stream",
          "text": [
            "A Média das diferenças é: 2.932\n"
          ],
          "name": "stdout"
        }
      ]
    },
    {
      "cell_type": "code",
      "metadata": {
        "id": "ync9a-N49PyJ"
      },
      "source": [
        ""
      ],
      "execution_count": null,
      "outputs": []
    }
  ]
}