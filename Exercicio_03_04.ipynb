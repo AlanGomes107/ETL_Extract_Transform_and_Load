{
  "nbformat": 4,
  "nbformat_minor": 0,
  "metadata": {
    "colab": {
      "name": "Exercicio_03_04.ipynb",
      "provenance": [],
      "authorship_tag": "ABX9TyNvi2lO8vsB6iTJ9VfeQ3do",
      "include_colab_link": true
    },
    "kernelspec": {
      "name": "python3",
      "display_name": "Python 3"
    },
    "language_info": {
      "name": "python"
    }
  },
  "cells": [
    {
      "cell_type": "markdown",
      "metadata": {
        "id": "view-in-github",
        "colab_type": "text"
      },
      "source": [
        "<a href=\"https://colab.research.google.com/github/AlanGomes107/ETL_Extract_Transform_and_Load/blob/main/Exercicio_03_04.ipynb\" target=\"_parent\"><img src=\"https://colab.research.google.com/assets/colab-badge.svg\" alt=\"Open In Colab\"/></a>"
      ]
    },
    {
      "cell_type": "markdown",
      "metadata": {
        "id": "P_Pn-yWlsCwG"
      },
      "source": [
        "Faça um programa que peça uma nota, entre zero e dez. Mostre uma mensagem caso o valor seja inválido e continue pedindo até que o usuário informe um valor válido."
      ]
    },
    {
      "cell_type": "code",
      "metadata": {
        "colab": {
          "base_uri": "https://localhost:8080/"
        },
        "id": "bYGdhdozrOi7",
        "outputId": "7e93b07a-94cc-4250-9086-26d0ed36bfaf"
      },
      "source": [
        "numero = float(input('Digite um numero de 0 a 10: '))\n",
        "while 0 > numero or 10 < numero:\n",
        "  print('Valor inválido')\n",
        "  numero = float(input('Digite um numero de 0 a 10: '))\n"
      ],
      "execution_count": 3,
      "outputs": [
        {
          "output_type": "stream",
          "text": [
            "Digite um numero de 0 a 10: 12\n",
            "Valor inválido\n",
            "Digite um numero de 0 a 10: 45\n",
            "Valor inválido\n",
            "Digite um numero de 0 a 10: 8.45\n"
          ],
          "name": "stdout"
        }
      ]
    },
    {
      "cell_type": "markdown",
      "metadata": {
        "id": "fAQC-mLgtiNV"
      },
      "source": [
        "Faça um programa que leia um número de telefone, e corrija o número no caso deste conter somente 7 dígitos, acrescentando o ‘3’ na frente. O usuário pode informar o número com ou sem o traço separador."
      ]
    },
    {
      "cell_type": "code",
      "metadata": {
        "colab": {
          "base_uri": "https://localhost:8080/"
        },
        "id": "_xCo3QLPr_Nn",
        "outputId": "d7e5c9bf-5f2e-43c8-d939-0dad4f74765d"
      },
      "source": [
        "telefone = input('digite um telefone: ')\n",
        "telefone = telefone.replace('-', '')\n",
        "if len(telefone) > 7:\n",
        "  print(telefone)\n",
        "elif len(telefone) > 6:\n",
        "  print('3' + telefone)\n",
        "elif  len(telefone) > 5:\n",
        "  print('3' + telefone)\n",
        "else:\n",
        "  print('003' + telefone)     "
      ],
      "execution_count": 6,
      "outputs": [
        {
          "output_type": "stream",
          "text": [
            "digite um telefone: 12345\n",
            "00312345\n"
          ],
          "name": "stdout"
        }
      ]
    },
    {
      "cell_type": "code",
      "metadata": {
        "colab": {
          "base_uri": "https://localhost:8080/"
        },
        "id": "O2uelt34r_Qm",
        "outputId": "e2280e62-9a1f-4091-d94d-9c950df1c5af"
      },
      "source": [
        "telefone = input('digite um telefone: ')\n",
        "telefone = telefone.replace('-', '')\n",
        "if len(telefone) > 7:\n",
        "  print(telefone[0:4] + '-' + telefone[4:])\n",
        "else:\n",
        "  print('3' + telefone[0:3] + '-' + telefone[3:])  "
      ],
      "execution_count": 10,
      "outputs": [
        {
          "output_type": "stream",
          "text": [
            "digite um telefone: 12345\n",
            "3123-45\n"
          ],
          "name": "stdout"
        }
      ]
    }
  ]
}