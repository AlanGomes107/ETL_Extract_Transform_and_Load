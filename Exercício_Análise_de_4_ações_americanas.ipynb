{
  "nbformat": 4,
  "nbformat_minor": 0,
  "metadata": {
    "kernelspec": {
      "display_name": "Python 3",
      "language": "python",
      "name": "python3"
    },
    "language_info": {
      "codemirror_mode": {
        "name": "ipython",
        "version": 3
      },
      "file_extension": ".py",
      "mimetype": "text/x-python",
      "name": "python",
      "nbconvert_exporter": "python",
      "pygments_lexer": "ipython3",
      "version": "3.8.5"
    },
    "colab": {
      "name": "Exercício - Análise de 4 ações americanas.ipynb",
      "provenance": [],
      "include_colab_link": true
    }
  },
  "cells": [
    {
      "cell_type": "markdown",
      "metadata": {
        "id": "view-in-github",
        "colab_type": "text"
      },
      "source": [
        "<a href=\"https://colab.research.google.com/github/AlanGomes107/ETL_Extract_Transform_and_Load/blob/main/Exerc%C3%ADcio_An%C3%A1lise_de_4_a%C3%A7%C3%B5es_americanas.ipynb\" target=\"_parent\"><img src=\"https://colab.research.google.com/assets/colab-badge.svg\" alt=\"Open In Colab\"/></a>"
      ]
    },
    {
      "cell_type": "markdown",
      "metadata": {
        "id": "Glhoy8a_pLE9"
      },
      "source": [
        "# Exercício 1"
      ]
    },
    {
      "cell_type": "markdown",
      "metadata": {
        "id": "HSES2yfhpLFA"
      },
      "source": [
        "1) Importar arquivo AAPL.csv\n",
        "2) Calcular o montante investido que um cliente teria no dia 28/02/20 ao investir 10.000 dólares em 01/03/2016"
      ]
    },
    {
      "cell_type": "code",
      "metadata": {
        "id": "nFyc8SZlpLFB"
      },
      "source": [
        "import pandas as pd\n",
        "import numpy as np"
      ],
      "execution_count": null,
      "outputs": []
    },
    {
      "cell_type": "code",
      "metadata": {
        "id": "55tDZKlypLFC",
        "outputId": "b3a1387e-a232-48c7-bec5-c49e15197244"
      },
      "source": [
        "apple = pd.read_csv(\"AAPL.csv\", sep=\",\")\n",
        "print(apple)"
      ],
      "execution_count": null,
      "outputs": [
        {
          "name": "stdout",
          "output_type": "stream",
          "text": [
            "            Date        Open        High         Low       Close   Adj Close  \\\n",
            "0     2016-03-01   97.650002  100.769997   97.419998  100.529999   94.228645   \n",
            "1     2016-03-02  100.510002  100.889999   99.639999  100.750000   94.434853   \n",
            "2     2016-03-03  100.580002  101.709999  100.449997  101.500000   95.137848   \n",
            "3     2016-03-04  102.370003  103.750000  101.370003  103.010002   96.553185   \n",
            "4     2016-03-07  102.389999  102.830002  100.959999  101.870003   95.484657   \n",
            "...          ...         ...         ...         ...         ...         ...   \n",
            "1002  2020-02-24  297.260010  304.179993  289.230011  298.179993  298.179993   \n",
            "1003  2020-02-25  300.950012  302.529999  286.130005  288.079987  288.079987   \n",
            "1004  2020-02-26  286.529999  297.880005  286.500000  292.649994  292.649994   \n",
            "1005  2020-02-27  281.100006  286.000000  272.959991  273.519989  273.519989   \n",
            "1006  2020-02-28  257.260010  278.410004  256.369995  273.359985  273.359985   \n",
            "\n",
            "         Volume  \n",
            "0      50407100  \n",
            "1      33169600  \n",
            "2      36955700  \n",
            "3      46055100  \n",
            "4      35828900  \n",
            "...         ...  \n",
            "1002   55548800  \n",
            "1003   57668400  \n",
            "1004   49513700  \n",
            "1005   80151400  \n",
            "1006  106627500  \n",
            "\n",
            "[1007 rows x 7 columns]\n"
          ]
        }
      ]
    },
    {
      "cell_type": "code",
      "metadata": {
        "id": "3PIroJpepLFD"
      },
      "source": [
        "a=apple[apple['Date']=='2020-02-28']['Open']\n",
        "b=apple[apple['Date']=='2016-03-01']['Open']\n",
        "print(a)\n",
        "print(b)\n",
        "\n"
      ],
      "execution_count": null,
      "outputs": []
    },
    {
      "cell_type": "code",
      "metadata": {
        "id": "shX-oRN8pLFE",
        "outputId": "832ae702-9b08-4816-e95d-794053275f90"
      },
      "source": [
        "U=apple.head(1)['Open']\n",
        "L=apple.tail(1)['Open']\n",
        "(float(L)/float(U))*10000"
      ],
      "execution_count": null,
      "outputs": [
        {
          "data": {
            "text/plain": [
              "26345.110571528716"
            ]
          },
          "execution_count": 5,
          "metadata": {},
          "output_type": "execute_result"
        }
      ]
    },
    {
      "cell_type": "markdown",
      "metadata": {
        "id": "vnEtPu3EpLFE"
      },
      "source": [
        "# Exercício 2"
      ]
    },
    {
      "cell_type": "markdown",
      "metadata": {
        "id": "t6l9BRHopLFF"
      },
      "source": [
        "1) Importar arquivo acoes.xlsx\n",
        "2) Importar as 4 abas ['apple', 'amazon', 'google', 'tesla']\n",
        "3) Calcular o montante investido que um cliente teria no dia 28/02/20 ao investir 10.000 dólares em 01/03/2016 em cada uma destas empress\n",
        "4) Qual empresa foi mais rentável?"
      ]
    },
    {
      "cell_type": "code",
      "metadata": {
        "id": "RTextHvcpLFG"
      },
      "source": [
        "xlsx = pd.ExcelFile(\"acoes.xlsx\")\n",
        "apple = pd.read_excel(xlsx, 'apple')\n",
        "amazon = pd.read_excel(xlsx, 'amazon')\n",
        "google = pd.read_excel(xlsx, 'google')\n",
        "tesla = pd.read_excel(xlsx, 'tesla')"
      ],
      "execution_count": null,
      "outputs": []
    },
    {
      "cell_type": "code",
      "metadata": {
        "id": "sBcX8CMUpLFH"
      },
      "source": [
        "up_apple  = apple[apple['Date']=='2020-02-28']['Open']\n",
        "low_apple = apple[apple['Date']=='2016-03-01']['Open']\n",
        "\n",
        "up_amazon  = amazon[amazon['Date']=='2020-02-28']['Open']\n",
        "low_amazon = amazon[amazon['Date']=='2016-03-01']['Open']\n",
        "\n",
        "up_google  = google[google['Date']=='2020-02-28']['Open']\n",
        "low_google = google[google['Date']=='2016-03-01']['Open']\n",
        "\n",
        "up_tesla  = tesla[tesla['Date']=='2020-02-28']['Open']\n",
        "low_tesla = tesla[tesla['Date']=='2016-03-01']['Open']"
      ],
      "execution_count": null,
      "outputs": []
    },
    {
      "cell_type": "code",
      "metadata": {
        "id": "3tfjgELqpLFH"
      },
      "source": [
        "inv_apple= (float(up_apple)/float(low_apple))*10000\n",
        "inv_amazon= (float(up_amazon)/float(low_amazon))*10000\n",
        "inv_google= (float(up_google)/float(low_google))*10000\n",
        "inv_tesla= (float(up_tesla)/float(low_tesla))*10000"
      ],
      "execution_count": null,
      "outputs": []
    },
    {
      "cell_type": "code",
      "metadata": {
        "id": "nhj_32uLpLFI",
        "outputId": "5348078d-fefd-40c3-9ab5-8fe387511265"
      },
      "source": [
        "print(\"O investimento na apple retornou: \" ,\"%.2f\" % inv_apple)\n",
        "print(\"O investimento na amazon retornou: \" ,\"%.2f\" % inv_amazon)\n",
        "print(\"O investimento na google retornou: \" ,\"%.2f\" % inv_google)\n",
        "print(\"O investimento na tesla retornou: \" ,\"%.2f\" % inv_tesla)\n",
        "print(\"O investimento total retornou: \" ,\"%.2f\" % (inv_apple+inv_amazon+inv_google+inv_tesla))\n"
      ],
      "execution_count": null,
      "outputs": [
        {
          "name": "stdout",
          "output_type": "stream",
          "text": [
            "O investimento na apple retornou:  26345.11\n",
            "O investimento na amazon retornou:  32620.22\n",
            "O investimento na google retornou:  18156.11\n",
            "O investimento na tesla retornou:  32416.99\n",
            "O investimento total retornou:  109538.42\n"
          ]
        }
      ]
    },
    {
      "cell_type": "code",
      "metadata": {
        "id": "ZXVwRE0vpLFI"
      },
      "source": [
        ""
      ],
      "execution_count": null,
      "outputs": []
    }
  ]
}