{
  "nbformat": 4,
  "nbformat_minor": 0,
  "metadata": {
    "colab": {
      "name": "ETL03.ipynb",
      "provenance": [],
      "authorship_tag": "ABX9TyMdJbwOa7Mh4cP/NvSHpduC",
      "include_colab_link": true
    },
    "kernelspec": {
      "name": "python3",
      "display_name": "Python 3"
    },
    "language_info": {
      "name": "python"
    }
  },
  "cells": [
    {
      "cell_type": "markdown",
      "metadata": {
        "id": "view-in-github",
        "colab_type": "text"
      },
      "source": [
        "<a href=\"https://colab.research.google.com/github/AlanGomes107/ETL_Extract_Transform_and_Load/blob/main/ETL03.ipynb\" target=\"_parent\"><img src=\"https://colab.research.google.com/assets/colab-badge.svg\" alt=\"Open In Colab\"/></a>"
      ]
    },
    {
      "cell_type": "markdown",
      "metadata": {
        "id": "gISKvFvzSiUD"
      },
      "source": [
        "# **Transformação nos Dados**"
      ]
    },
    {
      "cell_type": "code",
      "metadata": {
        "id": "j6sfBgEeSQHG"
      },
      "source": [
        "import pandas as pd\n",
        "import numpy as np"
      ],
      "execution_count": 68,
      "outputs": []
    },
    {
      "cell_type": "code",
      "metadata": {
        "colab": {
          "base_uri": "https://localhost:8080/"
        },
        "id": "H49JdzRSSn1q",
        "outputId": "faafd1ae-1982-40f6-dbf3-95686709cfe2"
      },
      "source": [
        "url = 'https://www.contextures.com/xlSampleData01.html'\n",
        "tabela = pd.read_html(url)[0]\n",
        "print(tabela.head(10))"
      ],
      "execution_count": 69,
      "outputs": [
        {
          "output_type": "stream",
          "text": [
            "           0        1         2       3      4         5       6\n",
            "0  OrderDate   Region       Rep    Item  Units  UnitCost   Total\n",
            "1   1/6/2020     East     Jones  Pencil     95      1.99  189.05\n",
            "2  1/23/2020  Central    Kivell  Binder     50     19.99  999.50\n",
            "3   2/9/2020  Central   Jardine  Pencil     36      4.99  179.64\n",
            "4  2/26/2020  Central      Gill     Pen     27     19.99  539.73\n",
            "5  3/15/2020     West   Sorvino  Pencil     56      2.99  167.44\n",
            "6   4/1/2020     East     Jones  Binder     60      4.99  299.40\n",
            "7  4/18/2020  Central   Andrews  Pencil     75      1.99  149.25\n",
            "8   5/5/2020  Central   Jardine  Pencil     90      4.99  449.10\n",
            "9  5/22/2020     West  Thompson  Pencil     32      1.99   63.68\n"
          ],
          "name": "stdout"
        }
      ]
    },
    {
      "cell_type": "code",
      "metadata": {
        "colab": {
          "base_uri": "https://localhost:8080/"
        },
        "id": "b-75npsiSn4r",
        "outputId": "b25fb4f5-6fb6-4e56-bc54-01a2ec6c5e89"
      },
      "source": [
        "tabela.columns = tabela.iloc[0, :]\n",
        "tabela = tabela[1:]\n",
        "print(tabela.head())"
      ],
      "execution_count": 70,
      "outputs": [
        {
          "output_type": "stream",
          "text": [
            "0  OrderDate   Region      Rep    Item Units UnitCost   Total\n",
            "1   1/6/2020     East    Jones  Pencil    95     1.99  189.05\n",
            "2  1/23/2020  Central   Kivell  Binder    50    19.99  999.50\n",
            "3   2/9/2020  Central  Jardine  Pencil    36     4.99  179.64\n",
            "4  2/26/2020  Central     Gill     Pen    27    19.99  539.73\n",
            "5  3/15/2020     West  Sorvino  Pencil    56     2.99  167.44\n"
          ],
          "name": "stdout"
        }
      ]
    },
    {
      "cell_type": "code",
      "metadata": {
        "colab": {
          "base_uri": "https://localhost:8080/",
          "height": 1000
        },
        "id": "mWGndoN8Sn7Z",
        "outputId": "b585ed6e-a587-49b9-cddc-e6cd41c65154"
      },
      "source": [
        "tabela"
      ],
      "execution_count": 71,
      "outputs": [
        {
          "output_type": "execute_result",
          "data": {
            "text/html": [
              "<div>\n",
              "<style scoped>\n",
              "    .dataframe tbody tr th:only-of-type {\n",
              "        vertical-align: middle;\n",
              "    }\n",
              "\n",
              "    .dataframe tbody tr th {\n",
              "        vertical-align: top;\n",
              "    }\n",
              "\n",
              "    .dataframe thead th {\n",
              "        text-align: right;\n",
              "    }\n",
              "</style>\n",
              "<table border=\"1\" class=\"dataframe\">\n",
              "  <thead>\n",
              "    <tr style=\"text-align: right;\">\n",
              "      <th></th>\n",
              "      <th>OrderDate</th>\n",
              "      <th>Region</th>\n",
              "      <th>Rep</th>\n",
              "      <th>Item</th>\n",
              "      <th>Units</th>\n",
              "      <th>UnitCost</th>\n",
              "      <th>Total</th>\n",
              "    </tr>\n",
              "  </thead>\n",
              "  <tbody>\n",
              "    <tr>\n",
              "      <th>1</th>\n",
              "      <td>1/6/2020</td>\n",
              "      <td>East</td>\n",
              "      <td>Jones</td>\n",
              "      <td>Pencil</td>\n",
              "      <td>95</td>\n",
              "      <td>1.99</td>\n",
              "      <td>189.05</td>\n",
              "    </tr>\n",
              "    <tr>\n",
              "      <th>2</th>\n",
              "      <td>1/23/2020</td>\n",
              "      <td>Central</td>\n",
              "      <td>Kivell</td>\n",
              "      <td>Binder</td>\n",
              "      <td>50</td>\n",
              "      <td>19.99</td>\n",
              "      <td>999.50</td>\n",
              "    </tr>\n",
              "    <tr>\n",
              "      <th>3</th>\n",
              "      <td>2/9/2020</td>\n",
              "      <td>Central</td>\n",
              "      <td>Jardine</td>\n",
              "      <td>Pencil</td>\n",
              "      <td>36</td>\n",
              "      <td>4.99</td>\n",
              "      <td>179.64</td>\n",
              "    </tr>\n",
              "    <tr>\n",
              "      <th>4</th>\n",
              "      <td>2/26/2020</td>\n",
              "      <td>Central</td>\n",
              "      <td>Gill</td>\n",
              "      <td>Pen</td>\n",
              "      <td>27</td>\n",
              "      <td>19.99</td>\n",
              "      <td>539.73</td>\n",
              "    </tr>\n",
              "    <tr>\n",
              "      <th>5</th>\n",
              "      <td>3/15/2020</td>\n",
              "      <td>West</td>\n",
              "      <td>Sorvino</td>\n",
              "      <td>Pencil</td>\n",
              "      <td>56</td>\n",
              "      <td>2.99</td>\n",
              "      <td>167.44</td>\n",
              "    </tr>\n",
              "    <tr>\n",
              "      <th>6</th>\n",
              "      <td>4/1/2020</td>\n",
              "      <td>East</td>\n",
              "      <td>Jones</td>\n",
              "      <td>Binder</td>\n",
              "      <td>60</td>\n",
              "      <td>4.99</td>\n",
              "      <td>299.40</td>\n",
              "    </tr>\n",
              "    <tr>\n",
              "      <th>7</th>\n",
              "      <td>4/18/2020</td>\n",
              "      <td>Central</td>\n",
              "      <td>Andrews</td>\n",
              "      <td>Pencil</td>\n",
              "      <td>75</td>\n",
              "      <td>1.99</td>\n",
              "      <td>149.25</td>\n",
              "    </tr>\n",
              "    <tr>\n",
              "      <th>8</th>\n",
              "      <td>5/5/2020</td>\n",
              "      <td>Central</td>\n",
              "      <td>Jardine</td>\n",
              "      <td>Pencil</td>\n",
              "      <td>90</td>\n",
              "      <td>4.99</td>\n",
              "      <td>449.10</td>\n",
              "    </tr>\n",
              "    <tr>\n",
              "      <th>9</th>\n",
              "      <td>5/22/2020</td>\n",
              "      <td>West</td>\n",
              "      <td>Thompson</td>\n",
              "      <td>Pencil</td>\n",
              "      <td>32</td>\n",
              "      <td>1.99</td>\n",
              "      <td>63.68</td>\n",
              "    </tr>\n",
              "    <tr>\n",
              "      <th>10</th>\n",
              "      <td>6/8/2020</td>\n",
              "      <td>East</td>\n",
              "      <td>Jones</td>\n",
              "      <td>Binder</td>\n",
              "      <td>60</td>\n",
              "      <td>8.99</td>\n",
              "      <td>539.40</td>\n",
              "    </tr>\n",
              "    <tr>\n",
              "      <th>11</th>\n",
              "      <td>6/25/2020</td>\n",
              "      <td>Central</td>\n",
              "      <td>Morgan</td>\n",
              "      <td>Pencil</td>\n",
              "      <td>90</td>\n",
              "      <td>4.99</td>\n",
              "      <td>449.10</td>\n",
              "    </tr>\n",
              "    <tr>\n",
              "      <th>12</th>\n",
              "      <td>7/12/2020</td>\n",
              "      <td>East</td>\n",
              "      <td>Howard</td>\n",
              "      <td>Binder</td>\n",
              "      <td>29</td>\n",
              "      <td>1.99</td>\n",
              "      <td>57.71</td>\n",
              "    </tr>\n",
              "    <tr>\n",
              "      <th>13</th>\n",
              "      <td>7/29/2020</td>\n",
              "      <td>East</td>\n",
              "      <td>Parent</td>\n",
              "      <td>Binder</td>\n",
              "      <td>81</td>\n",
              "      <td>19.99</td>\n",
              "      <td>1619.19</td>\n",
              "    </tr>\n",
              "    <tr>\n",
              "      <th>14</th>\n",
              "      <td>8/15/2020</td>\n",
              "      <td>East</td>\n",
              "      <td>Jones</td>\n",
              "      <td>Pencil</td>\n",
              "      <td>35</td>\n",
              "      <td>4.99</td>\n",
              "      <td>174.65</td>\n",
              "    </tr>\n",
              "    <tr>\n",
              "      <th>15</th>\n",
              "      <td>9/1/2020</td>\n",
              "      <td>Central</td>\n",
              "      <td>Smith</td>\n",
              "      <td>Desk</td>\n",
              "      <td>2</td>\n",
              "      <td>125.00</td>\n",
              "      <td>250.00</td>\n",
              "    </tr>\n",
              "    <tr>\n",
              "      <th>16</th>\n",
              "      <td>9/18/2020</td>\n",
              "      <td>East</td>\n",
              "      <td>Jones</td>\n",
              "      <td>Pen Set</td>\n",
              "      <td>16</td>\n",
              "      <td>15.99</td>\n",
              "      <td>255.84</td>\n",
              "    </tr>\n",
              "    <tr>\n",
              "      <th>17</th>\n",
              "      <td>10/5/2020</td>\n",
              "      <td>Central</td>\n",
              "      <td>Morgan</td>\n",
              "      <td>Binder</td>\n",
              "      <td>28</td>\n",
              "      <td>8.99</td>\n",
              "      <td>251.72</td>\n",
              "    </tr>\n",
              "    <tr>\n",
              "      <th>18</th>\n",
              "      <td>10/22/2020</td>\n",
              "      <td>East</td>\n",
              "      <td>Jones</td>\n",
              "      <td>Pen</td>\n",
              "      <td>64</td>\n",
              "      <td>8.99</td>\n",
              "      <td>575.36</td>\n",
              "    </tr>\n",
              "    <tr>\n",
              "      <th>19</th>\n",
              "      <td>11/8/2020</td>\n",
              "      <td>East</td>\n",
              "      <td>Parent</td>\n",
              "      <td>Pen</td>\n",
              "      <td>15</td>\n",
              "      <td>19.99</td>\n",
              "      <td>299.85</td>\n",
              "    </tr>\n",
              "    <tr>\n",
              "      <th>20</th>\n",
              "      <td>11/25/2020</td>\n",
              "      <td>Central</td>\n",
              "      <td>Kivell</td>\n",
              "      <td>Pen Set</td>\n",
              "      <td>96</td>\n",
              "      <td>4.99</td>\n",
              "      <td>479.04</td>\n",
              "    </tr>\n",
              "    <tr>\n",
              "      <th>21</th>\n",
              "      <td>12/12/2020</td>\n",
              "      <td>Central</td>\n",
              "      <td>Smith</td>\n",
              "      <td>Pencil</td>\n",
              "      <td>67</td>\n",
              "      <td>1.29</td>\n",
              "      <td>86.43</td>\n",
              "    </tr>\n",
              "    <tr>\n",
              "      <th>22</th>\n",
              "      <td>12/29/2020</td>\n",
              "      <td>East</td>\n",
              "      <td>Parent</td>\n",
              "      <td>Pen Set</td>\n",
              "      <td>74</td>\n",
              "      <td>15.99</td>\n",
              "      <td>1183.26</td>\n",
              "    </tr>\n",
              "    <tr>\n",
              "      <th>23</th>\n",
              "      <td>1/15/2021</td>\n",
              "      <td>Central</td>\n",
              "      <td>Gill</td>\n",
              "      <td>Binder</td>\n",
              "      <td>46</td>\n",
              "      <td>8.99</td>\n",
              "      <td>413.54</td>\n",
              "    </tr>\n",
              "    <tr>\n",
              "      <th>24</th>\n",
              "      <td>2/1/2021</td>\n",
              "      <td>Central</td>\n",
              "      <td>Smith</td>\n",
              "      <td>Binder</td>\n",
              "      <td>87</td>\n",
              "      <td>15.00</td>\n",
              "      <td>1305.00</td>\n",
              "    </tr>\n",
              "    <tr>\n",
              "      <th>25</th>\n",
              "      <td>2/18/2021</td>\n",
              "      <td>East</td>\n",
              "      <td>Jones</td>\n",
              "      <td>Binder</td>\n",
              "      <td>4</td>\n",
              "      <td>4.99</td>\n",
              "      <td>19.96</td>\n",
              "    </tr>\n",
              "    <tr>\n",
              "      <th>26</th>\n",
              "      <td>3/7/2021</td>\n",
              "      <td>West</td>\n",
              "      <td>Sorvino</td>\n",
              "      <td>Binder</td>\n",
              "      <td>7</td>\n",
              "      <td>19.99</td>\n",
              "      <td>139.93</td>\n",
              "    </tr>\n",
              "    <tr>\n",
              "      <th>27</th>\n",
              "      <td>3/24/2021</td>\n",
              "      <td>Central</td>\n",
              "      <td>Jardine</td>\n",
              "      <td>Pen Set</td>\n",
              "      <td>50</td>\n",
              "      <td>4.99</td>\n",
              "      <td>249.50</td>\n",
              "    </tr>\n",
              "    <tr>\n",
              "      <th>28</th>\n",
              "      <td>4/10/2021</td>\n",
              "      <td>Central</td>\n",
              "      <td>Andrews</td>\n",
              "      <td>Pencil</td>\n",
              "      <td>66</td>\n",
              "      <td>1.99</td>\n",
              "      <td>131.34</td>\n",
              "    </tr>\n",
              "    <tr>\n",
              "      <th>29</th>\n",
              "      <td>4/27/2021</td>\n",
              "      <td>East</td>\n",
              "      <td>Howard</td>\n",
              "      <td>Pen</td>\n",
              "      <td>96</td>\n",
              "      <td>4.99</td>\n",
              "      <td>479.04</td>\n",
              "    </tr>\n",
              "    <tr>\n",
              "      <th>30</th>\n",
              "      <td>5/14/2021</td>\n",
              "      <td>Central</td>\n",
              "      <td>Gill</td>\n",
              "      <td>Pencil</td>\n",
              "      <td>53</td>\n",
              "      <td>1.29</td>\n",
              "      <td>68.37</td>\n",
              "    </tr>\n",
              "    <tr>\n",
              "      <th>31</th>\n",
              "      <td>5/31/2021</td>\n",
              "      <td>Central</td>\n",
              "      <td>Gill</td>\n",
              "      <td>Binder</td>\n",
              "      <td>80</td>\n",
              "      <td>8.99</td>\n",
              "      <td>719.20</td>\n",
              "    </tr>\n",
              "    <tr>\n",
              "      <th>32</th>\n",
              "      <td>6/17/2021</td>\n",
              "      <td>Central</td>\n",
              "      <td>Kivell</td>\n",
              "      <td>Desk</td>\n",
              "      <td>5</td>\n",
              "      <td>125.00</td>\n",
              "      <td>625.00</td>\n",
              "    </tr>\n",
              "    <tr>\n",
              "      <th>33</th>\n",
              "      <td>7/4/2021</td>\n",
              "      <td>East</td>\n",
              "      <td>Jones</td>\n",
              "      <td>Pen Set</td>\n",
              "      <td>62</td>\n",
              "      <td>4.99</td>\n",
              "      <td>309.38</td>\n",
              "    </tr>\n",
              "    <tr>\n",
              "      <th>34</th>\n",
              "      <td>7/21/2021</td>\n",
              "      <td>Central</td>\n",
              "      <td>Morgan</td>\n",
              "      <td>Pen Set</td>\n",
              "      <td>55</td>\n",
              "      <td>12.49</td>\n",
              "      <td>686.95</td>\n",
              "    </tr>\n",
              "    <tr>\n",
              "      <th>35</th>\n",
              "      <td>8/7/2021</td>\n",
              "      <td>Central</td>\n",
              "      <td>Kivell</td>\n",
              "      <td>Pen Set</td>\n",
              "      <td>42</td>\n",
              "      <td>23.95</td>\n",
              "      <td>1005.90</td>\n",
              "    </tr>\n",
              "    <tr>\n",
              "      <th>36</th>\n",
              "      <td>8/24/2021</td>\n",
              "      <td>West</td>\n",
              "      <td>Sorvino</td>\n",
              "      <td>Desk</td>\n",
              "      <td>3</td>\n",
              "      <td>275.00</td>\n",
              "      <td>825.00</td>\n",
              "    </tr>\n",
              "    <tr>\n",
              "      <th>37</th>\n",
              "      <td>9/10/2021</td>\n",
              "      <td>Central</td>\n",
              "      <td>Gill</td>\n",
              "      <td>Pencil</td>\n",
              "      <td>7</td>\n",
              "      <td>1.29</td>\n",
              "      <td>9.03</td>\n",
              "    </tr>\n",
              "    <tr>\n",
              "      <th>38</th>\n",
              "      <td>9/27/2021</td>\n",
              "      <td>West</td>\n",
              "      <td>Sorvino</td>\n",
              "      <td>Pen</td>\n",
              "      <td>76</td>\n",
              "      <td>1.99</td>\n",
              "      <td>151.24</td>\n",
              "    </tr>\n",
              "    <tr>\n",
              "      <th>39</th>\n",
              "      <td>10/14/2021</td>\n",
              "      <td>West</td>\n",
              "      <td>Thompson</td>\n",
              "      <td>Binder</td>\n",
              "      <td>57</td>\n",
              "      <td>19.99</td>\n",
              "      <td>1139.43</td>\n",
              "    </tr>\n",
              "    <tr>\n",
              "      <th>40</th>\n",
              "      <td>10/31/2021</td>\n",
              "      <td>Central</td>\n",
              "      <td>Andrews</td>\n",
              "      <td>Pencil</td>\n",
              "      <td>14</td>\n",
              "      <td>1.29</td>\n",
              "      <td>18.06</td>\n",
              "    </tr>\n",
              "    <tr>\n",
              "      <th>41</th>\n",
              "      <td>11/17/2021</td>\n",
              "      <td>Central</td>\n",
              "      <td>Jardine</td>\n",
              "      <td>Binder</td>\n",
              "      <td>11</td>\n",
              "      <td>4.99</td>\n",
              "      <td>54.89</td>\n",
              "    </tr>\n",
              "    <tr>\n",
              "      <th>42</th>\n",
              "      <td>12/4/2021</td>\n",
              "      <td>Central</td>\n",
              "      <td>Jardine</td>\n",
              "      <td>Binder</td>\n",
              "      <td>94</td>\n",
              "      <td>19.99</td>\n",
              "      <td>1879.06</td>\n",
              "    </tr>\n",
              "    <tr>\n",
              "      <th>43</th>\n",
              "      <td>12/21/2021</td>\n",
              "      <td>Central</td>\n",
              "      <td>Andrews</td>\n",
              "      <td>Binder</td>\n",
              "      <td>28</td>\n",
              "      <td>4.99</td>\n",
              "      <td>139.72</td>\n",
              "    </tr>\n",
              "  </tbody>\n",
              "</table>\n",
              "</div>"
            ],
            "text/plain": [
              "0    OrderDate   Region       Rep     Item Units UnitCost    Total\n",
              "1     1/6/2020     East     Jones   Pencil    95     1.99   189.05\n",
              "2    1/23/2020  Central    Kivell   Binder    50    19.99   999.50\n",
              "3     2/9/2020  Central   Jardine   Pencil    36     4.99   179.64\n",
              "4    2/26/2020  Central      Gill      Pen    27    19.99   539.73\n",
              "5    3/15/2020     West   Sorvino   Pencil    56     2.99   167.44\n",
              "6     4/1/2020     East     Jones   Binder    60     4.99   299.40\n",
              "7    4/18/2020  Central   Andrews   Pencil    75     1.99   149.25\n",
              "8     5/5/2020  Central   Jardine   Pencil    90     4.99   449.10\n",
              "9    5/22/2020     West  Thompson   Pencil    32     1.99    63.68\n",
              "10    6/8/2020     East     Jones   Binder    60     8.99   539.40\n",
              "11   6/25/2020  Central    Morgan   Pencil    90     4.99   449.10\n",
              "12   7/12/2020     East    Howard   Binder    29     1.99    57.71\n",
              "13   7/29/2020     East    Parent   Binder    81    19.99  1619.19\n",
              "14   8/15/2020     East     Jones   Pencil    35     4.99   174.65\n",
              "15    9/1/2020  Central     Smith     Desk     2   125.00   250.00\n",
              "16   9/18/2020     East     Jones  Pen Set    16    15.99   255.84\n",
              "17   10/5/2020  Central    Morgan   Binder    28     8.99   251.72\n",
              "18  10/22/2020     East     Jones      Pen    64     8.99   575.36\n",
              "19   11/8/2020     East    Parent      Pen    15    19.99   299.85\n",
              "20  11/25/2020  Central    Kivell  Pen Set    96     4.99   479.04\n",
              "21  12/12/2020  Central     Smith   Pencil    67     1.29    86.43\n",
              "22  12/29/2020     East    Parent  Pen Set    74    15.99  1183.26\n",
              "23   1/15/2021  Central      Gill   Binder    46     8.99   413.54\n",
              "24    2/1/2021  Central     Smith   Binder    87    15.00  1305.00\n",
              "25   2/18/2021     East     Jones   Binder     4     4.99    19.96\n",
              "26    3/7/2021     West   Sorvino   Binder     7    19.99   139.93\n",
              "27   3/24/2021  Central   Jardine  Pen Set    50     4.99   249.50\n",
              "28   4/10/2021  Central   Andrews   Pencil    66     1.99   131.34\n",
              "29   4/27/2021     East    Howard      Pen    96     4.99   479.04\n",
              "30   5/14/2021  Central      Gill   Pencil    53     1.29    68.37\n",
              "31   5/31/2021  Central      Gill   Binder    80     8.99   719.20\n",
              "32   6/17/2021  Central    Kivell     Desk     5   125.00   625.00\n",
              "33    7/4/2021     East     Jones  Pen Set    62     4.99   309.38\n",
              "34   7/21/2021  Central    Morgan  Pen Set    55    12.49   686.95\n",
              "35    8/7/2021  Central    Kivell  Pen Set    42    23.95  1005.90\n",
              "36   8/24/2021     West   Sorvino     Desk     3   275.00   825.00\n",
              "37   9/10/2021  Central      Gill   Pencil     7     1.29     9.03\n",
              "38   9/27/2021     West   Sorvino      Pen    76     1.99   151.24\n",
              "39  10/14/2021     West  Thompson   Binder    57    19.99  1139.43\n",
              "40  10/31/2021  Central   Andrews   Pencil    14     1.29    18.06\n",
              "41  11/17/2021  Central   Jardine   Binder    11     4.99    54.89\n",
              "42   12/4/2021  Central   Jardine   Binder    94    19.99  1879.06\n",
              "43  12/21/2021  Central   Andrews   Binder    28     4.99   139.72"
            ]
          },
          "metadata": {},
          "execution_count": 71
        }
      ]
    },
    {
      "cell_type": "code",
      "metadata": {
        "id": "6hQsUAtrSn-T"
      },
      "source": [
        "novas_datas = []\n",
        "for data in tabela.OrderDate:\n",
        "  mes, dia, ano = data.split('/')\n",
        "  novas_datas.append(ano + '-' + mes + '-' + dia)\n",
        "tabela['OrderDateAjusta'] = pd.to_datetime(novas_datas)  "
      ],
      "execution_count": 72,
      "outputs": []
    },
    {
      "cell_type": "code",
      "metadata": {
        "id": "Q56QDm8CUHMX",
        "colab": {
          "base_uri": "https://localhost:8080/"
        },
        "outputId": "ce14a165-80d9-42c9-c954-a6fa2294bc70"
      },
      "source": [
        "print(tabela.head())"
      ],
      "execution_count": 73,
      "outputs": [
        {
          "output_type": "stream",
          "text": [
            "0  OrderDate   Region      Rep    Item Units UnitCost   Total OrderDateAjusta\n",
            "1   1/6/2020     East    Jones  Pencil    95     1.99  189.05      2020-01-06\n",
            "2  1/23/2020  Central   Kivell  Binder    50    19.99  999.50      2020-01-23\n",
            "3   2/9/2020  Central  Jardine  Pencil    36     4.99  179.64      2020-02-09\n",
            "4  2/26/2020  Central     Gill     Pen    27    19.99  539.73      2020-02-26\n",
            "5  3/15/2020     West  Sorvino  Pencil    56     2.99  167.44      2020-03-15\n"
          ],
          "name": "stdout"
        }
      ]
    },
    {
      "cell_type": "markdown",
      "metadata": {
        "id": "zY-r9M4oSW-m"
      },
      "source": [
        "# ***Importando arquivo, proveniente de WebScraping e salvo em excel (xlsx)***"
      ]
    },
    {
      "cell_type": "code",
      "metadata": {
        "id": "o8bXq2DoUHPG",
        "colab": {
          "base_uri": "https://localhost:8080/"
        },
        "outputId": "1e869d95-57a2-4162-bd43-efe5b37cc5c1"
      },
      "source": [
        "livros = pd.read_excel('livros_amazon.xlsx')\n",
        "print(livros['Titulo'])"
      ],
      "execution_count": 74,
      "outputs": [
        {
          "output_type": "stream",
          "text": [
            "0     Curso Intensivo de Python: Uma Introdução Prát...\n",
            "1     Introdução à Programação com Python: Algoritmo...\n",
            "2     Python Fluente: Programação Clara, Concisa e E...\n",
            "3     Python Para Análise de Dados: Tratamento de Da...\n",
            "4     Pense em Python: Pense Como um Cientista da Co...\n",
            "5                      Use a Cabeça! Python ― 2ª Edição\n",
            "6     Data science do zero: primeiras regras com o P...\n",
            "7     Aprenda Python 3 do jeito certo: uma introduçã...\n",
            "8     Problemas Clássicos De Ciência Da Computação C...\n",
            "9     Web Scraping com Python: Coletando Mais Dados ...\n",
            "10    Mãos à obra: aprendizado de máquina com Scikit...\n",
            "11    Python para data science para leigos: os prime...\n",
            "12    O Guia do Mochileiro Python: Melhores Práticas...\n",
            "13          Começando a programar em Python para leigos\n",
            "14    Desenvolvimento web com Flask: Desenvolvendo A...\n",
            "15                 Análise de Dados com Python e Pandas\n",
            "16    Programação de Redes com Python: Guia Abrangen...\n",
            "17    Projetos de Ciência de Dados com Python: Abord...\n",
            "18    Python: - The Bible- 3 Manuscripts in 1 book: ...\n",
            "19    Python Crash Course, 2nd Edition: A Hands-On, ...\n",
            "20    Técnicas de Invasão: Aprenda as técnicas usada...\n",
            "21    Python e Django: desenvolvimento web moderno e...\n",
            "22    Aprendendo Padrões de Projeto em Python: Tire ...\n",
            "23    Automate the Boring Stuff with Python, 2nd Edi...\n",
            "24    Black Hat Python: Programação Python Para Hack...\n",
            "25        Expressões Regulares: Uma Abordagem Divertida\n",
            "26                 Python para Data Science para leigos\n",
            "27    Ensine Seus Filhos a Programar: Um Guia Amigáv...\n",
            "28    Python: For Beginners: A Crash Course Guide To...\n",
            "29    Entendendo Algoritmos: Um Guia Ilustrado Para ...\n",
            "30    Machine Learning – Guia de Referência Rápida: ...\n",
            "31                   Análise de Tráfego em Redes TCP/IP\n",
            "32    Projetos com Python e Arduino: Como Desenvolve...\n",
            "33    Desenvolvimento web com Django 3 Cookbook: Sol...\n",
            "34    Introdução à Computação Usando Python - um Foc...\n",
            "35    Construindo Chatbots com Python: Usando Natura...\n",
            "36    Introdução à Orientação a Objetos com C++ e Py...\n",
            "37    Python Levado a Sério: Conselhos de um Faixa-p...\n",
            "38    Monty Python's Total Rubbish: Complete Collect...\n",
            "39    Aprenda Django 3 com Exemplos: Crie Aplicações...\n",
            "40                                Introdução ao Pentest\n",
            "41         Introdução a Linguagem de Programação Python\n",
            "42         Práticas de Python. Algoritmia e Programação\n",
            "43                                  Python Para Pentest\n",
            "44    Python: 6 Books in 1: The Ultimate Bible to Le...\n",
            "45                                 Python sem Mistérios\n",
            "46    Python Eficaz: 59 Maneiras de Programar Melhor...\n",
            "47               Matemática com Python: um Guia Prático\n",
            "Name: Titulo, dtype: object\n"
          ],
          "name": "stdout"
        }
      ]
    },
    {
      "cell_type": "markdown",
      "metadata": {
        "id": "jLNM_D8PTKVj"
      },
      "source": [
        "Como somar o valor que eu gastaria se comprasse todos livros?"
      ]
    },
    {
      "cell_type": "code",
      "metadata": {
        "id": "7KIKKmoWUHR9",
        "colab": {
          "base_uri": "https://localhost:8080/",
          "height": 86
        },
        "outputId": "ca36d6ee-b549-4d80-a339-bda397f379c9"
      },
      "source": [
        "livros['Preço'].sum()"
      ],
      "execution_count": 75,
      "outputs": [
        {
          "output_type": "execute_result",
          "data": {
            "application/vnd.google.colaboratory.intrinsic+json": {
              "type": "string"
            },
            "text/plain": [
              "'R$\\xa094,03R$\\xa064,99R$\\xa0103,18R$\\xa087,12R$\\xa060,20R$\\xa088,54R$\\xa059,20R$\\xa046,46R$\\xa049,09R$\\xa062,91R$\\xa066,90R$\\xa033,16R$\\xa087,85R$\\xa061,52R$\\xa073,99R$\\xa077,79R$\\xa064,27R$\\xa062,99R$\\xa0171,17R$\\xa0197,68R$\\xa041,84R$\\xa059,76R$\\xa036,30R$\\xa0186,99R$\\xa065,00R$\\xa038,94R$\\xa067,50R$\\xa064,01R$\\xa0131,47R$\\xa049,38R$\\xa079,00R$\\xa056,15R$\\xa029,39R$\\xa0116,00R$\\xa0134,94R$\\xa042,54R$\\xa033,15R$\\xa049,09R$\\xa02.804,22R$\\xa098,09R$\\xa058,74R$\\xa028,50R$\\xa0214,02R$\\xa038,93R$\\xa0163,33R$\\xa060,20R$\\xa058,74R$\\xa034,98'"
            ]
          },
          "metadata": {},
          "execution_count": 75
        }
      ]
    },
    {
      "cell_type": "markdown",
      "metadata": {
        "id": "o5rPMiscUMwK"
      },
      "source": [
        "Como a variável preço perdeu o formato numérico temos que tratá-la!!!"
      ]
    },
    {
      "cell_type": "code",
      "metadata": {
        "id": "7G1U-hi_ZIh2"
      },
      "source": [
        "indexNames = livros[livros[\"Titulo\"] == \"Monty Python's Total Rubbish: Complete Collection [Disco de Vinil]\"].index\n",
        "# Delete as linhas indexadas do dataFrame\n",
        "livros.drop(indexNames , inplace=True)"
      ],
      "execution_count": 76,
      "outputs": []
    },
    {
      "cell_type": "code",
      "metadata": {
        "id": "z-WQ-742UHXm"
      },
      "source": [
        "precos = []\n",
        "for preco in livros['Preço']:\n",
        "  preco = preco.replace('R$', '')\n",
        "  preco = preco.replace(',', '.')\n",
        "  precos.append(float(preco))"
      ],
      "execution_count": 77,
      "outputs": []
    },
    {
      "cell_type": "code",
      "metadata": {
        "id": "C103NSzrUHd5",
        "colab": {
          "base_uri": "https://localhost:8080/"
        },
        "outputId": "61326dac-5a2c-49e2-dc79-50e8a9c63420"
      },
      "source": [
        "precos"
      ],
      "execution_count": 78,
      "outputs": [
        {
          "output_type": "execute_result",
          "data": {
            "text/plain": [
              "[94.03,\n",
              " 64.99,\n",
              " 103.18,\n",
              " 87.12,\n",
              " 60.2,\n",
              " 88.54,\n",
              " 59.2,\n",
              " 46.46,\n",
              " 49.09,\n",
              " 62.91,\n",
              " 66.9,\n",
              " 33.16,\n",
              " 87.85,\n",
              " 61.52,\n",
              " 73.99,\n",
              " 77.79,\n",
              " 64.27,\n",
              " 62.99,\n",
              " 171.17,\n",
              " 197.68,\n",
              " 41.84,\n",
              " 59.76,\n",
              " 36.3,\n",
              " 186.99,\n",
              " 65.0,\n",
              " 38.94,\n",
              " 67.5,\n",
              " 64.01,\n",
              " 131.47,\n",
              " 49.38,\n",
              " 79.0,\n",
              " 56.15,\n",
              " 29.39,\n",
              " 116.0,\n",
              " 134.94,\n",
              " 42.54,\n",
              " 33.15,\n",
              " 49.09,\n",
              " 98.09,\n",
              " 58.74,\n",
              " 28.5,\n",
              " 214.02,\n",
              " 38.93,\n",
              " 163.33,\n",
              " 60.2,\n",
              " 58.74,\n",
              " 34.98]"
            ]
          },
          "metadata": {},
          "execution_count": 78
        }
      ]
    },
    {
      "cell_type": "code",
      "metadata": {
        "id": "PhvE9oTTSoDa",
        "colab": {
          "base_uri": "https://localhost:8080/"
        },
        "outputId": "f19b4a7b-90a1-458e-9189-98d304029983"
      },
      "source": [
        "sum( precos)\n"
      ],
      "execution_count": 79,
      "outputs": [
        {
          "output_type": "execute_result",
          "data": {
            "text/plain": [
              "3650.0199999999995"
            ]
          },
          "metadata": {},
          "execution_count": 79
        }
      ]
    },
    {
      "cell_type": "code",
      "metadata": {
        "id": "6TSwv9MJn2OA"
      },
      "source": [
        "pd.set_option('display.expand_frame_repr', False)"
      ],
      "execution_count": 80,
      "outputs": []
    },
    {
      "cell_type": "code",
      "metadata": {
        "colab": {
          "base_uri": "https://localhost:8080/"
        },
        "id": "G4PQsaxufNBC",
        "outputId": "e85beedd-9b37-456e-c207-185fd0f27687"
      },
      "source": [
        "livros['Preço_numerico'] = precos\n",
        "print(livros.head())"
      ],
      "execution_count": 81,
      "outputs": [
        {
          "output_type": "stream",
          "text": [
            "   Unnamed: 0                                             Titulo      Preço                                          Autor  Preço_numerico\n",
            "0           0  Curso Intensivo de Python: Uma Introdução Prát...   R$ 94,03               Edição Portuguêspor Eric Matthes           94.03\n",
            "1           1  Introdução à Programação com Python: Algoritmo...   R$ 64,99  Edição Portuguêspor Nilo Ney Coutinho Menezes           64.99\n",
            "2           2  Python Fluente: Programação Clara, Concisa e E...  R$ 103,18            Edição Portuguêspor Luciano Ramalho          103.18\n",
            "3           3  Python Para Análise de Dados: Tratamento de Da...   R$ 87,12               Edição Portuguêspor Wes McKinney           87.12\n",
            "4           4  Pense em Python: Pense Como um Cientista da Co...   R$ 60,20            Edição Portuguêspor Allen B. Downey           60.20\n"
          ],
          "name": "stdout"
        }
      ]
    },
    {
      "cell_type": "markdown",
      "metadata": {
        "id": "J4Pbi2V3oJHH"
      },
      "source": [
        "# ***Opção mais avançada de transformar (USAR FUNÇÃO LAMBDA)***"
      ]
    },
    {
      "cell_type": "code",
      "metadata": {
        "colab": {
          "base_uri": "https://localhost:8080/"
        },
        "id": "-j9oH3n_fNEL",
        "outputId": "5a4f2912-bf9c-4a06-fff5-2c709e8a066c"
      },
      "source": [
        "livros = pd.read_excel('livros_amazon.xlsx')\n",
        "indexNames = livros[livros[\"Titulo\"] == \"Monty Python's Total Rubbish: Complete Collection [Disco de Vinil]\"].index\n",
        "# Delete as linhas indexadas do dataFrame\n",
        "livros.drop(indexNames , inplace=True)\n",
        "livros['Preço'] = livros['Preço'].apply(lambda x :float(x.replace('R$', '').replace(',', '.')))\n",
        "livros['Preço'].sum()\n",
        "print(livros.head())"
      ],
      "execution_count": 82,
      "outputs": [
        {
          "output_type": "stream",
          "text": [
            "   Unnamed: 0                                             Titulo   Preço                                          Autor\n",
            "0           0  Curso Intensivo de Python: Uma Introdução Prát...   94.03               Edição Portuguêspor Eric Matthes\n",
            "1           1  Introdução à Programação com Python: Algoritmo...   64.99  Edição Portuguêspor Nilo Ney Coutinho Menezes\n",
            "2           2  Python Fluente: Programação Clara, Concisa e E...  103.18            Edição Portuguêspor Luciano Ramalho\n",
            "3           3  Python Para Análise de Dados: Tratamento de Da...   87.12               Edição Portuguêspor Wes McKinney\n",
            "4           4  Pense em Python: Pense Como um Cientista da Co...   60.20            Edição Portuguêspor Allen B. Downey\n"
          ],
          "name": "stdout"
        }
      ]
    },
    {
      "cell_type": "markdown",
      "metadata": {
        "id": "6Du3pPhQAFLi"
      },
      "source": [
        "# ***Quantidade de livros por autor (Sem tratamento)***"
      ]
    },
    {
      "cell_type": "code",
      "metadata": {
        "id": "8Uom6IhAfNGd",
        "colab": {
          "base_uri": "https://localhost:8080/"
        },
        "outputId": "7c6781a3-589f-4209-9538-41593bded9b9"
      },
      "source": [
        "livros['Autor'].value_counts()"
      ],
      "execution_count": 83,
      "outputs": [
        {
          "output_type": "execute_result",
          "data": {
            "text/plain": [
              "Edição Portuguêspor Daniel Moreno                                                        2\n",
              "Edição Portuguêspor Allen B. Downey                                                      1\n",
              "Edição Inglêspor Maurice J. Thompson                                                     1\n",
              "Edição Portuguêspor Aditya Y. Bhargava                                                   1\n",
              "por Francisco Marcelo de Barros Maciel                                                   1\n",
              "Edição Portuguêspor Ljubomir Perkovic                                                    1\n",
              "Edição Portuguêspor Sumit Raj                                                            1\n",
              "Edição Portuguêspor Chetan Giridhar                                                      1\n",
              "Edição Portuguêspor João Eriberto Mota Filho                                             1\n",
              "Edição Portuguêspor Joel Saade                                                           1\n",
              "Edição Portuguêspor Miguel Grinberg                                                      1\n",
              "Edição Portuguêspor Wes McKinney                                                         1\n",
              "Edição Portuguêspor Aurelio Marinho Jargas                                               1\n",
              "Edição Portuguêspor Kenneth Reitz e Tanya Schlusser                                      1\n",
              "por John Paul Mueller e Luca Massaron                                                    1\n",
              "Edição Portuguêspor Joel Grus                                                            1\n",
              "Edição Portuguêspor HUMBERTO AUGUSTO PIOVESANA ZANETTI e CLAUDIO LUIS VIEIRA OLIVEIRA    1\n",
              "Edição Portuguêspor Paul Barry                                                           1\n",
              "Edição Portuguêspor Fabio Junior Alves                                                   1\n",
              "Edição Inglêspor Eric Matthes                                                            1\n",
              "Edição Inglêspor Al Sweigart                                                             1\n",
              "Edição Portuguêspor John Paul Mueller e Luca Massaron                                    1\n",
              "por John Paul Mueller                                                                    1\n",
              "Edição Portuguêspor Julien Danjou                                                        1\n",
              "Edição Portuguêspor Brett Slatkin                                                        1\n",
              "Edição Portuguêspor Stephen Klosterman                                                   1\n",
              "Edição Portuguêspor Orlando Saraiva Jr.                                                  1\n",
              "Edição Portuguêspor Justin Seitz                                                         1\n",
              "Edição Portuguêspor Brandon Rhodes e John Goerzen                                        1\n",
              "Edição Portuguêspor David Kopec                                                          1\n",
              "Edição Inglêspor Oliver Soranson                                                         1\n",
              "Edição Portuguêspor Jake Kronika e Aidas Bendoraitis                                     1\n",
              "Edição Portuguêspor Guilherme A. Barucke Marcondes                                       1\n",
              "Edição Portuguêspor Eric Matthes                                                         1\n",
              "Edição Portuguêspor Daniel Y. Chen                                                       1\n",
              "Edição Portuguêspor Ryan Mitchell                                                        1\n",
              "Edição Portuguêspor Bryson Payne                                                         1\n",
              "Edição Portuguêspor Nilo Ney Coutinho Menezes                                            1\n",
              "Edição Inglêspor Timothy C Needham                                                       1\n",
              "por Adelaide Carvalho                                                                    1\n",
              "Edição Portuguêspor Bruno Fraga                                                          1\n",
              "Edição Portuguêspor Matt Harrison                                                        1\n",
              "Edição Portuguêspor Antonio Melé                                                         1\n",
              "Edição Portuguêspor Luciano Ramalho                                                      1\n",
              "por Aurélien Géron                                                                       1\n",
              "Edição Portuguêspor Zed A. Shaw e Eveline Vieira Machado                                 1\n",
              "Name: Autor, dtype: int64"
            ]
          },
          "metadata": {},
          "execution_count": 83
        }
      ]
    },
    {
      "cell_type": "markdown",
      "metadata": {
        "id": "h4MBEQFFA1Ke"
      },
      "source": [
        "# ***Quantidade de livros por autor (Com tratamento)***"
      ]
    },
    {
      "cell_type": "code",
      "metadata": {
        "id": "TDxzGFVLfNPN",
        "colab": {
          "base_uri": "https://localhost:8080/"
        },
        "outputId": "03d353f6-5c33-4187-e56e-b7ad2e64a8e1"
      },
      "source": [
        "livros[\"Autor\"] = np.where(livros[\"Autor\"]==\"por Aurélien Géron | 28 jun 2019\", \"| por Aurélien Géron | 28 jun 2019\", livros[\"Autor\"])\n",
        "print(livros)"
      ],
      "execution_count": 84,
      "outputs": [
        {
          "output_type": "stream",
          "text": [
            "    Unnamed: 0                                             Titulo   Preço                                              Autor\n",
            "0            0  Curso Intensivo de Python: Uma Introdução Prát...   94.03                   Edição Portuguêspor Eric Matthes\n",
            "1            1  Introdução à Programação com Python: Algoritmo...   64.99      Edição Portuguêspor Nilo Ney Coutinho Menezes\n",
            "2            2  Python Fluente: Programação Clara, Concisa e E...  103.18                Edição Portuguêspor Luciano Ramalho\n",
            "3            3  Python Para Análise de Dados: Tratamento de Da...   87.12                   Edição Portuguêspor Wes McKinney\n",
            "4            4  Pense em Python: Pense Como um Cientista da Co...   60.20                Edição Portuguêspor Allen B. Downey\n",
            "5            5                   Use a Cabeça! Python ― 2ª Edição   88.54                     Edição Portuguêspor Paul Barry\n",
            "6            6  Data science do zero: primeiras regras com o P...   59.20                      Edição Portuguêspor Joel Grus\n",
            "7            7  Aprenda Python 3 do jeito certo: uma introduçã...   46.46  Edição Portuguêspor Zed A. Shaw e Eveline Viei...\n",
            "8            8  Problemas Clássicos De Ciência Da Computação C...   49.09                    Edição Portuguêspor David Kopec\n",
            "9            9  Web Scraping com Python: Coletando Mais Dados ...   62.91                  Edição Portuguêspor Ryan Mitchell\n",
            "10          10  Mãos à obra: aprendizado de máquina com Scikit...   66.90                                 por Aurélien Géron\n",
            "11          11  Python para data science para leigos: os prime...   33.16  Edição Portuguêspor John Paul Mueller e Luca M...\n",
            "12          12  O Guia do Mochileiro Python: Melhores Práticas...   87.85  Edição Portuguêspor Kenneth Reitz e Tanya Schl...\n",
            "13          13        Começando a programar em Python para leigos   61.52                              por John Paul Mueller\n",
            "14          14  Desenvolvimento web com Flask: Desenvolvendo A...   73.99                Edição Portuguêspor Miguel Grinberg\n",
            "15          15               Análise de Dados com Python e Pandas   77.79                 Edição Portuguêspor Daniel Y. Chen\n",
            "16          16  Programação de Redes com Python: Guia Abrangen...   64.27  Edição Portuguêspor Brandon Rhodes e John Goerzen\n",
            "17          17  Projetos de Ciência de Dados com Python: Abord...   62.99             Edição Portuguêspor Stephen Klosterman\n",
            "18          18  Python: - The Bible- 3 Manuscripts in 1 book: ...  171.17               Edição Inglêspor Maurice J. Thompson\n",
            "19          19  Python Crash Course, 2nd Edition: A Hands-On, ...  197.68                      Edição Inglêspor Eric Matthes\n",
            "20          20  Técnicas de Invasão: Aprenda as técnicas usada...   41.84                    Edição Portuguêspor Bruno Fraga\n",
            "21          21  Python e Django: desenvolvimento web moderno e...   59.76             por Francisco Marcelo de Barros Maciel\n",
            "22          22  Aprendendo Padrões de Projeto em Python: Tire ...   36.30                Edição Portuguêspor Chetan Giridhar\n",
            "23          23  Automate the Boring Stuff with Python, 2nd Edi...  186.99                       Edição Inglêspor Al Sweigart\n",
            "24          24  Black Hat Python: Programação Python Para Hack...   65.00                   Edição Portuguêspor Justin Seitz\n",
            "25          25      Expressões Regulares: Uma Abordagem Divertida   38.94         Edição Portuguêspor Aurelio Marinho Jargas\n",
            "26          26               Python para Data Science para leigos   67.50              por John Paul Mueller e Luca Massaron\n",
            "27          27  Ensine Seus Filhos a Programar: Um Guia Amigáv...   64.01                   Edição Portuguêspor Bryson Payne\n",
            "28          28  Python: For Beginners: A Crash Course Guide To...  131.47                 Edição Inglêspor Timothy C Needham\n",
            "29          29  Entendendo Algoritmos: Um Guia Ilustrado Para ...   49.38             Edição Portuguêspor Aditya Y. Bhargava\n",
            "30          30  Machine Learning – Guia de Referência Rápida: ...   79.00                  Edição Portuguêspor Matt Harrison\n",
            "31          31                 Análise de Tráfego em Redes TCP/IP   56.15       Edição Portuguêspor João Eriberto Mota Filho\n",
            "32          32  Projetos com Python e Arduino: Como Desenvolve...   29.39  Edição Portuguêspor HUMBERTO AUGUSTO PIOVESANA...\n",
            "33          33  Desenvolvimento web com Django 3 Cookbook: Sol...  116.00  Edição Portuguêspor Jake Kronika e Aidas Bendo...\n",
            "34          34  Introdução à Computação Usando Python - um Foc...  134.94              Edição Portuguêspor Ljubomir Perkovic\n",
            "35          35  Construindo Chatbots com Python: Usando Natura...   42.54                      Edição Portuguêspor Sumit Raj\n",
            "36          36  Introdução à Orientação a Objetos com C++ e Py...   33.15            Edição Portuguêspor Orlando Saraiva Jr.\n",
            "37          37  Python Levado a Sério: Conselhos de um Faixa-p...   49.09                  Edição Portuguêspor Julien Danjou\n",
            "39          39  Aprenda Django 3 com Exemplos: Crie Aplicações...   98.09                   Edição Portuguêspor Antonio Melé\n",
            "40          40                              Introdução ao Pentest   58.74                  Edição Portuguêspor Daniel Moreno\n",
            "41          41       Introdução a Linguagem de Programação Python   28.50             Edição Portuguêspor Fabio Junior Alves\n",
            "42          42       Práticas de Python. Algoritmia e Programação  214.02                              por Adelaide Carvalho\n",
            "43          43                                Python Para Pentest   38.93                  Edição Portuguêspor Daniel Moreno\n",
            "44          44  Python: 6 Books in 1: The Ultimate Bible to Le...  163.33                   Edição Inglêspor Oliver Soranson\n",
            "45          45                               Python sem Mistérios   60.20                     Edição Portuguêspor Joel Saade\n",
            "46          46  Python Eficaz: 59 Maneiras de Programar Melhor...   58.74                  Edição Portuguêspor Brett Slatkin\n",
            "47          47             Matemática com Python: um Guia Prático   34.98  Edição Portuguêspor Guilherme A. Barucke Marco...\n"
          ],
          "name": "stdout"
        }
      ]
    },
    {
      "cell_type": "code",
      "metadata": {
        "colab": {
          "base_uri": "https://localhost:8080/"
        },
        "id": "fuAk550hDmG6",
        "outputId": "c8e3c308-eeba-44bf-ca10-070eca8d5712"
      },
      "source": [
        "Autor_aju = []\n",
        "for data in livros.Autor: \n",
        "    Autor_aux = data.split(\"|\")\n",
        "    Autor_aux = Autor_aux[0]\n",
        "    Autor_aux = Autor_aux.replace(\" por \", \"\")\n",
        "    Autor_aux = Autor_aux.replace(\"Edição\", \"\")\n",
        "    Autor_aju.append(Autor_aux)\n",
        "livros.Autor = Autor_aju\n",
        "livros.head()\n",
        "livros[\"Autor\"].value_counts()"
      ],
      "execution_count": 85,
      "outputs": [
        {
          "output_type": "execute_result",
          "data": {
            "text/plain": [
              " Portuguêspor Daniel Moreno                                                        2\n",
              " Portuguêspor Guilherme A. Barucke Marcondes                                       1\n",
              " Portuguêspor Aurelio Marinho Jargas                                               1\n",
              " Portuguêspor Zed A. Shaw e Eveline Vieira Machado                                 1\n",
              " Portuguêspor Justin Seitz                                                         1\n",
              " Portuguêspor Brandon Rhodes e John Goerzen                                        1\n",
              " Inglêspor Al Sweigart                                                             1\n",
              " Portuguêspor Nilo Ney Coutinho Menezes                                            1\n",
              " Inglêspor Eric Matthes                                                            1\n",
              "por Francisco Marcelo de Barros Maciel                                             1\n",
              " Portuguêspor Jake Kronika e Aidas Bendoraitis                                     1\n",
              " Portuguêspor Kenneth Reitz e Tanya Schlusser                                      1\n",
              " Portuguêspor Joel Grus                                                            1\n",
              " Portuguêspor Brett Slatkin                                                        1\n",
              " Portuguêspor Chetan Giridhar                                                      1\n",
              " Portuguêspor Matt Harrison                                                        1\n",
              "por John Paul Mueller e Luca Massaron                                              1\n",
              " Inglêspor Oliver Soranson                                                         1\n",
              " Portuguêspor HUMBERTO AUGUSTO PIOVESANA ZANETTI e CLAUDIO LUIS VIEIRA OLIVEIRA    1\n",
              "por Adelaide Carvalho                                                              1\n",
              " Portuguêspor Ryan Mitchell                                                        1\n",
              " Portuguêspor João Eriberto Mota Filho                                             1\n",
              " Portuguêspor Allen B. Downey                                                      1\n",
              " Portuguêspor Daniel Y. Chen                                                       1\n",
              "por John Paul Mueller                                                              1\n",
              " Portuguêspor Bruno Fraga                                                          1\n",
              " Portuguêspor Orlando Saraiva Jr.                                                  1\n",
              "por Aurélien Géron                                                                 1\n",
              " Portuguêspor Miguel Grinberg                                                      1\n",
              " Portuguêspor Antonio Melé                                                         1\n",
              " Portuguêspor Paul Barry                                                           1\n",
              " Portuguêspor Ljubomir Perkovic                                                    1\n",
              " Portuguêspor John Paul Mueller e Luca Massaron                                    1\n",
              " Inglêspor Timothy C Needham                                                       1\n",
              " Portuguêspor Luciano Ramalho                                                      1\n",
              " Portuguêspor Joel Saade                                                           1\n",
              " Portuguêspor Julien Danjou                                                        1\n",
              " Portuguêspor Sumit Raj                                                            1\n",
              " Portuguêspor David Kopec                                                          1\n",
              " Inglêspor Maurice J. Thompson                                                     1\n",
              " Portuguêspor Aditya Y. Bhargava                                                   1\n",
              " Portuguêspor Bryson Payne                                                         1\n",
              " Portuguêspor Eric Matthes                                                         1\n",
              " Portuguêspor Fabio Junior Alves                                                   1\n",
              " Portuguêspor Stephen Klosterman                                                   1\n",
              " Portuguêspor Wes McKinney                                                         1\n",
              "Name: Autor, dtype: int64"
            ]
          },
          "metadata": {},
          "execution_count": 85
        }
      ]
    },
    {
      "cell_type": "markdown",
      "metadata": {
        "id": "Gtj_8fT8G21c"
      },
      "source": [
        "# ***Valores Ausentes***"
      ]
    },
    {
      "cell_type": "code",
      "metadata": {
        "colab": {
          "base_uri": "https://localhost:8080/"
        },
        "id": "VMFRDTFyDmJy",
        "outputId": "0fb04def-2eea-4286-e407-b4c3c2593fcb"
      },
      "source": [
        "df = pd.read_csv('AER_credit_card_AULA.csv')\n",
        "print(df)"
      ],
      "execution_count": 86,
      "outputs": [
        {
          "output_type": "stream",
          "text": [
            "     card  reports       age  income     share  expenditure owner selfemp  dependents  months  majorcards  active\n",
            "0     yes      0.0  37.66667  4.5200  0.033270   124.983300   yes      no         3.0    54.0         1.0    12.0\n",
            "1     yes      0.0  33.25000  2.4200  0.005217     9.854167    no      no         3.0    34.0         1.0    13.0\n",
            "2     yes      0.0  33.66667  4.5000  0.004156    15.000000   yes      no         4.0    58.0         1.0     5.0\n",
            "3     yes      0.0  30.50000  2.5400  0.065214   137.869200    no      no         0.0    25.0         1.0     7.0\n",
            "4     yes      0.0  32.16667  9.7867  0.067051   546.503300   yes      no         2.0    64.0         1.0     5.0\n",
            "...   ...      ...       ...     ...       ...          ...   ...     ...         ...     ...         ...     ...\n",
            "1314  yes      0.0  33.58333  4.5660  0.002146     7.333333   yes      no         0.0    94.0         1.0    19.0\n",
            "1315   no      5.0  23.91667  3.1920  0.000376     0.000000    no      no         3.0    12.0         1.0     5.0\n",
            "1316  yes      0.0  40.58333  4.6000  0.026513   101.298300   yes      no         2.0     1.0         1.0     2.0\n",
            "1317  yes      0.0  32.83333  3.7000  0.008999    26.996670    no     yes         0.0    60.0         1.0     7.0\n",
            "1318  yes      0.0  48.25000  3.7000  0.111619   344.157500   yes      no         2.0     2.0         1.0     0.0\n",
            "\n",
            "[1319 rows x 12 columns]\n"
          ],
          "name": "stdout"
        }
      ]
    },
    {
      "cell_type": "code",
      "metadata": {
        "colab": {
          "base_uri": "https://localhost:8080/",
          "height": 419
        },
        "id": "hY_eMJcHDmQE",
        "outputId": "00e57396-84a6-4871-e466-253535de919c"
      },
      "source": [
        "df.isnull() #Retorna True quando encontrar valores ausentes"
      ],
      "execution_count": 87,
      "outputs": [
        {
          "output_type": "execute_result",
          "data": {
            "text/html": [
              "<div>\n",
              "<style scoped>\n",
              "    .dataframe tbody tr th:only-of-type {\n",
              "        vertical-align: middle;\n",
              "    }\n",
              "\n",
              "    .dataframe tbody tr th {\n",
              "        vertical-align: top;\n",
              "    }\n",
              "\n",
              "    .dataframe thead th {\n",
              "        text-align: right;\n",
              "    }\n",
              "</style>\n",
              "<table border=\"1\" class=\"dataframe\">\n",
              "  <thead>\n",
              "    <tr style=\"text-align: right;\">\n",
              "      <th></th>\n",
              "      <th>card</th>\n",
              "      <th>reports</th>\n",
              "      <th>age</th>\n",
              "      <th>income</th>\n",
              "      <th>share</th>\n",
              "      <th>expenditure</th>\n",
              "      <th>owner</th>\n",
              "      <th>selfemp</th>\n",
              "      <th>dependents</th>\n",
              "      <th>months</th>\n",
              "      <th>majorcards</th>\n",
              "      <th>active</th>\n",
              "    </tr>\n",
              "  </thead>\n",
              "  <tbody>\n",
              "    <tr>\n",
              "      <th>0</th>\n",
              "      <td>False</td>\n",
              "      <td>False</td>\n",
              "      <td>False</td>\n",
              "      <td>False</td>\n",
              "      <td>False</td>\n",
              "      <td>False</td>\n",
              "      <td>False</td>\n",
              "      <td>False</td>\n",
              "      <td>False</td>\n",
              "      <td>False</td>\n",
              "      <td>False</td>\n",
              "      <td>False</td>\n",
              "    </tr>\n",
              "    <tr>\n",
              "      <th>1</th>\n",
              "      <td>False</td>\n",
              "      <td>False</td>\n",
              "      <td>False</td>\n",
              "      <td>False</td>\n",
              "      <td>False</td>\n",
              "      <td>False</td>\n",
              "      <td>False</td>\n",
              "      <td>False</td>\n",
              "      <td>False</td>\n",
              "      <td>False</td>\n",
              "      <td>False</td>\n",
              "      <td>False</td>\n",
              "    </tr>\n",
              "    <tr>\n",
              "      <th>2</th>\n",
              "      <td>False</td>\n",
              "      <td>False</td>\n",
              "      <td>False</td>\n",
              "      <td>False</td>\n",
              "      <td>False</td>\n",
              "      <td>False</td>\n",
              "      <td>False</td>\n",
              "      <td>False</td>\n",
              "      <td>False</td>\n",
              "      <td>False</td>\n",
              "      <td>False</td>\n",
              "      <td>False</td>\n",
              "    </tr>\n",
              "    <tr>\n",
              "      <th>3</th>\n",
              "      <td>False</td>\n",
              "      <td>False</td>\n",
              "      <td>False</td>\n",
              "      <td>False</td>\n",
              "      <td>False</td>\n",
              "      <td>False</td>\n",
              "      <td>False</td>\n",
              "      <td>False</td>\n",
              "      <td>False</td>\n",
              "      <td>False</td>\n",
              "      <td>False</td>\n",
              "      <td>False</td>\n",
              "    </tr>\n",
              "    <tr>\n",
              "      <th>4</th>\n",
              "      <td>False</td>\n",
              "      <td>False</td>\n",
              "      <td>False</td>\n",
              "      <td>False</td>\n",
              "      <td>False</td>\n",
              "      <td>False</td>\n",
              "      <td>False</td>\n",
              "      <td>False</td>\n",
              "      <td>False</td>\n",
              "      <td>False</td>\n",
              "      <td>False</td>\n",
              "      <td>False</td>\n",
              "    </tr>\n",
              "    <tr>\n",
              "      <th>...</th>\n",
              "      <td>...</td>\n",
              "      <td>...</td>\n",
              "      <td>...</td>\n",
              "      <td>...</td>\n",
              "      <td>...</td>\n",
              "      <td>...</td>\n",
              "      <td>...</td>\n",
              "      <td>...</td>\n",
              "      <td>...</td>\n",
              "      <td>...</td>\n",
              "      <td>...</td>\n",
              "      <td>...</td>\n",
              "    </tr>\n",
              "    <tr>\n",
              "      <th>1314</th>\n",
              "      <td>False</td>\n",
              "      <td>False</td>\n",
              "      <td>False</td>\n",
              "      <td>False</td>\n",
              "      <td>False</td>\n",
              "      <td>False</td>\n",
              "      <td>False</td>\n",
              "      <td>False</td>\n",
              "      <td>False</td>\n",
              "      <td>False</td>\n",
              "      <td>False</td>\n",
              "      <td>False</td>\n",
              "    </tr>\n",
              "    <tr>\n",
              "      <th>1315</th>\n",
              "      <td>False</td>\n",
              "      <td>False</td>\n",
              "      <td>False</td>\n",
              "      <td>False</td>\n",
              "      <td>False</td>\n",
              "      <td>False</td>\n",
              "      <td>False</td>\n",
              "      <td>False</td>\n",
              "      <td>False</td>\n",
              "      <td>False</td>\n",
              "      <td>False</td>\n",
              "      <td>False</td>\n",
              "    </tr>\n",
              "    <tr>\n",
              "      <th>1316</th>\n",
              "      <td>False</td>\n",
              "      <td>False</td>\n",
              "      <td>False</td>\n",
              "      <td>False</td>\n",
              "      <td>False</td>\n",
              "      <td>False</td>\n",
              "      <td>False</td>\n",
              "      <td>False</td>\n",
              "      <td>False</td>\n",
              "      <td>False</td>\n",
              "      <td>False</td>\n",
              "      <td>False</td>\n",
              "    </tr>\n",
              "    <tr>\n",
              "      <th>1317</th>\n",
              "      <td>False</td>\n",
              "      <td>False</td>\n",
              "      <td>False</td>\n",
              "      <td>False</td>\n",
              "      <td>False</td>\n",
              "      <td>False</td>\n",
              "      <td>False</td>\n",
              "      <td>False</td>\n",
              "      <td>False</td>\n",
              "      <td>False</td>\n",
              "      <td>False</td>\n",
              "      <td>False</td>\n",
              "    </tr>\n",
              "    <tr>\n",
              "      <th>1318</th>\n",
              "      <td>False</td>\n",
              "      <td>False</td>\n",
              "      <td>False</td>\n",
              "      <td>False</td>\n",
              "      <td>False</td>\n",
              "      <td>False</td>\n",
              "      <td>False</td>\n",
              "      <td>False</td>\n",
              "      <td>False</td>\n",
              "      <td>False</td>\n",
              "      <td>False</td>\n",
              "      <td>False</td>\n",
              "    </tr>\n",
              "  </tbody>\n",
              "</table>\n",
              "<p>1319 rows × 12 columns</p>\n",
              "</div>"
            ],
            "text/plain": [
              "       card  reports    age  income  share  expenditure  owner  selfemp  dependents  months  majorcards  active\n",
              "0     False    False  False   False  False        False  False    False       False   False       False   False\n",
              "1     False    False  False   False  False        False  False    False       False   False       False   False\n",
              "2     False    False  False   False  False        False  False    False       False   False       False   False\n",
              "3     False    False  False   False  False        False  False    False       False   False       False   False\n",
              "4     False    False  False   False  False        False  False    False       False   False       False   False\n",
              "...     ...      ...    ...     ...    ...          ...    ...      ...         ...     ...         ...     ...\n",
              "1314  False    False  False   False  False        False  False    False       False   False       False   False\n",
              "1315  False    False  False   False  False        False  False    False       False   False       False   False\n",
              "1316  False    False  False   False  False        False  False    False       False   False       False   False\n",
              "1317  False    False  False   False  False        False  False    False       False   False       False   False\n",
              "1318  False    False  False   False  False        False  False    False       False   False       False   False\n",
              "\n",
              "[1319 rows x 12 columns]"
            ]
          },
          "metadata": {},
          "execution_count": 87
        }
      ]
    },
    {
      "cell_type": "code",
      "metadata": {
        "colab": {
          "base_uri": "https://localhost:8080/"
        },
        "id": "r070fILcDmSb",
        "outputId": "41c8a141-8d98-4cd2-cca9-6a9d84e98e85"
      },
      "source": [
        "df.isnull().any() #Indica se a coluna tem pelo menos um valor ausente, quando retorna True"
      ],
      "execution_count": 88,
      "outputs": [
        {
          "output_type": "execute_result",
          "data": {
            "text/plain": [
              "card           True\n",
              "reports        True\n",
              "age            True\n",
              "income         True\n",
              "share          True\n",
              "expenditure    True\n",
              "owner          True\n",
              "selfemp        True\n",
              "dependents     True\n",
              "months         True\n",
              "majorcards     True\n",
              "active         True\n",
              "dtype: bool"
            ]
          },
          "metadata": {},
          "execution_count": 88
        }
      ]
    },
    {
      "cell_type": "code",
      "metadata": {
        "colab": {
          "base_uri": "https://localhost:8080/"
        },
        "id": "ST06s1SQHl25",
        "outputId": "62a040ab-ed98-4bef-bdc4-eeed0c63063d"
      },
      "source": [
        "df.isnull().sum()"
      ],
      "execution_count": 89,
      "outputs": [
        {
          "output_type": "execute_result",
          "data": {
            "text/plain": [
              "card           2\n",
              "reports        2\n",
              "age            3\n",
              "income         2\n",
              "share          2\n",
              "expenditure    2\n",
              "owner          3\n",
              "selfemp        2\n",
              "dependents     2\n",
              "months         2\n",
              "majorcards     1\n",
              "active         2\n",
              "dtype: int64"
            ]
          },
          "metadata": {},
          "execution_count": 89
        }
      ]
    },
    {
      "cell_type": "markdown",
      "metadata": {
        "id": "T6rjDi3jIAAh"
      },
      "source": [
        "# ***REMOÇÃO VALORES AUSENTES***"
      ]
    },
    {
      "cell_type": "code",
      "metadata": {
        "colab": {
          "base_uri": "https://localhost:8080/"
        },
        "id": "FD3QYINiHl5w",
        "outputId": "a4d50604-ed38-43ea-ed13-b59316690060"
      },
      "source": [
        "# Apagar as colunas que contém todos os valores ausentes\n",
        "df_teste1_coluna = df.dropna(axis=1, how='all')\n",
        "print(df.shape)\n",
        "print(df_teste1_coluna.shape)"
      ],
      "execution_count": 90,
      "outputs": [
        {
          "output_type": "stream",
          "text": [
            "(1319, 12)\n",
            "(1319, 12)\n"
          ],
          "name": "stdout"
        }
      ]
    },
    {
      "cell_type": "code",
      "metadata": {
        "colab": {
          "base_uri": "https://localhost:8080/"
        },
        "id": "A7C4-GeaHl9M",
        "outputId": "738de976-78cc-469b-b7eb-d3904d614d60"
      },
      "source": [
        "# Apagar as colunas que contém pelo menos um valor ausente\n",
        "df_teste2_coluna = df.dropna(axis=1, how='any')\n",
        "print(df.shape)\n",
        "print(df_teste2_coluna.shape)"
      ],
      "execution_count": 91,
      "outputs": [
        {
          "output_type": "stream",
          "text": [
            "(1319, 12)\n",
            "(1319, 0)\n"
          ],
          "name": "stdout"
        }
      ]
    },
    {
      "cell_type": "code",
      "metadata": {
        "colab": {
          "base_uri": "https://localhost:8080/"
        },
        "id": "kJfGx0a0Hl_0",
        "outputId": "847159a6-5b47-4060-fea2-8886104970cf"
      },
      "source": [
        "# Apagar as linhas que contém todos os valores ausentes\n",
        "df_teste1_linha = df.dropna(axis=0, how='all')\n",
        "print(df.shape)\n",
        "print(df_teste1_linha.shape)"
      ],
      "execution_count": 92,
      "outputs": [
        {
          "output_type": "stream",
          "text": [
            "(1319, 12)\n",
            "(1318, 12)\n"
          ],
          "name": "stdout"
        }
      ]
    },
    {
      "cell_type": "code",
      "metadata": {
        "colab": {
          "base_uri": "https://localhost:8080/"
        },
        "id": "FPz6-cGuHmC7",
        "outputId": "b1229370-bcc0-4157-b505-b66bda4bcdcb"
      },
      "source": [
        "# Apagar as linhas que contém pelo menos um valor ausente\n",
        "df_teste2_linha = df.dropna(axis=0, how='any')\n",
        "print(df.shape)\n",
        "print(df_teste2_linha.shape)"
      ],
      "execution_count": 93,
      "outputs": [
        {
          "output_type": "stream",
          "text": [
            "(1319, 12)\n",
            "(1308, 12)\n"
          ],
          "name": "stdout"
        }
      ]
    },
    {
      "cell_type": "markdown",
      "metadata": {
        "id": "Z0APfJ4_JZMX"
      },
      "source": [
        "# ***IMPUTAÇÃO VALORES AUSENTES***"
      ]
    },
    {
      "cell_type": "code",
      "metadata": {
        "colab": {
          "base_uri": "https://localhost:8080/",
          "height": 419
        },
        "id": "llrkNfefHmFy",
        "outputId": "01648a1d-736d-4d90-9408-fa28e6bc6062"
      },
      "source": [
        "# Preenchendo com o valor médio da coluna (atributos numéricos)\n",
        "df.fillna(df.mean())"
      ],
      "execution_count": 94,
      "outputs": [
        {
          "output_type": "execute_result",
          "data": {
            "text/html": [
              "<div>\n",
              "<style scoped>\n",
              "    .dataframe tbody tr th:only-of-type {\n",
              "        vertical-align: middle;\n",
              "    }\n",
              "\n",
              "    .dataframe tbody tr th {\n",
              "        vertical-align: top;\n",
              "    }\n",
              "\n",
              "    .dataframe thead th {\n",
              "        text-align: right;\n",
              "    }\n",
              "</style>\n",
              "<table border=\"1\" class=\"dataframe\">\n",
              "  <thead>\n",
              "    <tr style=\"text-align: right;\">\n",
              "      <th></th>\n",
              "      <th>card</th>\n",
              "      <th>reports</th>\n",
              "      <th>age</th>\n",
              "      <th>income</th>\n",
              "      <th>share</th>\n",
              "      <th>expenditure</th>\n",
              "      <th>owner</th>\n",
              "      <th>selfemp</th>\n",
              "      <th>dependents</th>\n",
              "      <th>months</th>\n",
              "      <th>majorcards</th>\n",
              "      <th>active</th>\n",
              "    </tr>\n",
              "  </thead>\n",
              "  <tbody>\n",
              "    <tr>\n",
              "      <th>0</th>\n",
              "      <td>yes</td>\n",
              "      <td>0.0</td>\n",
              "      <td>37.66667</td>\n",
              "      <td>4.5200</td>\n",
              "      <td>0.033270</td>\n",
              "      <td>124.983300</td>\n",
              "      <td>yes</td>\n",
              "      <td>no</td>\n",
              "      <td>3.0</td>\n",
              "      <td>54.0</td>\n",
              "      <td>1.0</td>\n",
              "      <td>12.0</td>\n",
              "    </tr>\n",
              "    <tr>\n",
              "      <th>1</th>\n",
              "      <td>yes</td>\n",
              "      <td>0.0</td>\n",
              "      <td>33.25000</td>\n",
              "      <td>2.4200</td>\n",
              "      <td>0.005217</td>\n",
              "      <td>9.854167</td>\n",
              "      <td>no</td>\n",
              "      <td>no</td>\n",
              "      <td>3.0</td>\n",
              "      <td>34.0</td>\n",
              "      <td>1.0</td>\n",
              "      <td>13.0</td>\n",
              "    </tr>\n",
              "    <tr>\n",
              "      <th>2</th>\n",
              "      <td>yes</td>\n",
              "      <td>0.0</td>\n",
              "      <td>33.66667</td>\n",
              "      <td>4.5000</td>\n",
              "      <td>0.004156</td>\n",
              "      <td>15.000000</td>\n",
              "      <td>yes</td>\n",
              "      <td>no</td>\n",
              "      <td>4.0</td>\n",
              "      <td>58.0</td>\n",
              "      <td>1.0</td>\n",
              "      <td>5.0</td>\n",
              "    </tr>\n",
              "    <tr>\n",
              "      <th>3</th>\n",
              "      <td>yes</td>\n",
              "      <td>0.0</td>\n",
              "      <td>30.50000</td>\n",
              "      <td>2.5400</td>\n",
              "      <td>0.065214</td>\n",
              "      <td>137.869200</td>\n",
              "      <td>no</td>\n",
              "      <td>no</td>\n",
              "      <td>0.0</td>\n",
              "      <td>25.0</td>\n",
              "      <td>1.0</td>\n",
              "      <td>7.0</td>\n",
              "    </tr>\n",
              "    <tr>\n",
              "      <th>4</th>\n",
              "      <td>yes</td>\n",
              "      <td>0.0</td>\n",
              "      <td>32.16667</td>\n",
              "      <td>9.7867</td>\n",
              "      <td>0.067051</td>\n",
              "      <td>546.503300</td>\n",
              "      <td>yes</td>\n",
              "      <td>no</td>\n",
              "      <td>2.0</td>\n",
              "      <td>64.0</td>\n",
              "      <td>1.0</td>\n",
              "      <td>5.0</td>\n",
              "    </tr>\n",
              "    <tr>\n",
              "      <th>...</th>\n",
              "      <td>...</td>\n",
              "      <td>...</td>\n",
              "      <td>...</td>\n",
              "      <td>...</td>\n",
              "      <td>...</td>\n",
              "      <td>...</td>\n",
              "      <td>...</td>\n",
              "      <td>...</td>\n",
              "      <td>...</td>\n",
              "      <td>...</td>\n",
              "      <td>...</td>\n",
              "      <td>...</td>\n",
              "    </tr>\n",
              "    <tr>\n",
              "      <th>1314</th>\n",
              "      <td>yes</td>\n",
              "      <td>0.0</td>\n",
              "      <td>33.58333</td>\n",
              "      <td>4.5660</td>\n",
              "      <td>0.002146</td>\n",
              "      <td>7.333333</td>\n",
              "      <td>yes</td>\n",
              "      <td>no</td>\n",
              "      <td>0.0</td>\n",
              "      <td>94.0</td>\n",
              "      <td>1.0</td>\n",
              "      <td>19.0</td>\n",
              "    </tr>\n",
              "    <tr>\n",
              "      <th>1315</th>\n",
              "      <td>no</td>\n",
              "      <td>5.0</td>\n",
              "      <td>23.91667</td>\n",
              "      <td>3.1920</td>\n",
              "      <td>0.000376</td>\n",
              "      <td>0.000000</td>\n",
              "      <td>no</td>\n",
              "      <td>no</td>\n",
              "      <td>3.0</td>\n",
              "      <td>12.0</td>\n",
              "      <td>1.0</td>\n",
              "      <td>5.0</td>\n",
              "    </tr>\n",
              "    <tr>\n",
              "      <th>1316</th>\n",
              "      <td>yes</td>\n",
              "      <td>0.0</td>\n",
              "      <td>40.58333</td>\n",
              "      <td>4.6000</td>\n",
              "      <td>0.026513</td>\n",
              "      <td>101.298300</td>\n",
              "      <td>yes</td>\n",
              "      <td>no</td>\n",
              "      <td>2.0</td>\n",
              "      <td>1.0</td>\n",
              "      <td>1.0</td>\n",
              "      <td>2.0</td>\n",
              "    </tr>\n",
              "    <tr>\n",
              "      <th>1317</th>\n",
              "      <td>yes</td>\n",
              "      <td>0.0</td>\n",
              "      <td>32.83333</td>\n",
              "      <td>3.7000</td>\n",
              "      <td>0.008999</td>\n",
              "      <td>26.996670</td>\n",
              "      <td>no</td>\n",
              "      <td>yes</td>\n",
              "      <td>0.0</td>\n",
              "      <td>60.0</td>\n",
              "      <td>1.0</td>\n",
              "      <td>7.0</td>\n",
              "    </tr>\n",
              "    <tr>\n",
              "      <th>1318</th>\n",
              "      <td>yes</td>\n",
              "      <td>0.0</td>\n",
              "      <td>48.25000</td>\n",
              "      <td>3.7000</td>\n",
              "      <td>0.111619</td>\n",
              "      <td>344.157500</td>\n",
              "      <td>yes</td>\n",
              "      <td>no</td>\n",
              "      <td>2.0</td>\n",
              "      <td>2.0</td>\n",
              "      <td>1.0</td>\n",
              "      <td>0.0</td>\n",
              "    </tr>\n",
              "  </tbody>\n",
              "</table>\n",
              "<p>1319 rows × 12 columns</p>\n",
              "</div>"
            ],
            "text/plain": [
              "     card  reports       age  income     share  expenditure owner selfemp  dependents  months  majorcards  active\n",
              "0     yes      0.0  37.66667  4.5200  0.033270   124.983300   yes      no         3.0    54.0         1.0    12.0\n",
              "1     yes      0.0  33.25000  2.4200  0.005217     9.854167    no      no         3.0    34.0         1.0    13.0\n",
              "2     yes      0.0  33.66667  4.5000  0.004156    15.000000   yes      no         4.0    58.0         1.0     5.0\n",
              "3     yes      0.0  30.50000  2.5400  0.065214   137.869200    no      no         0.0    25.0         1.0     7.0\n",
              "4     yes      0.0  32.16667  9.7867  0.067051   546.503300   yes      no         2.0    64.0         1.0     5.0\n",
              "...   ...      ...       ...     ...       ...          ...   ...     ...         ...     ...         ...     ...\n",
              "1314  yes      0.0  33.58333  4.5660  0.002146     7.333333   yes      no         0.0    94.0         1.0    19.0\n",
              "1315   no      5.0  23.91667  3.1920  0.000376     0.000000    no      no         3.0    12.0         1.0     5.0\n",
              "1316  yes      0.0  40.58333  4.6000  0.026513   101.298300   yes      no         2.0     1.0         1.0     2.0\n",
              "1317  yes      0.0  32.83333  3.7000  0.008999    26.996670    no     yes         0.0    60.0         1.0     7.0\n",
              "1318  yes      0.0  48.25000  3.7000  0.111619   344.157500   yes      no         2.0     2.0         1.0     0.0\n",
              "\n",
              "[1319 rows x 12 columns]"
            ]
          },
          "metadata": {},
          "execution_count": 94
        }
      ]
    },
    {
      "cell_type": "code",
      "metadata": {
        "colab": {
          "base_uri": "https://localhost:8080/"
        },
        "id": "75BWYSbTN8xB",
        "outputId": "25a68fe8-2549-4fd3-8ad3-61a9e231579a"
      },
      "source": [
        "# Podemos especificar a coluna (mediana)\n",
        "df['months'].fillna(df['months'].median())"
      ],
      "execution_count": 95,
      "outputs": [
        {
          "output_type": "execute_result",
          "data": {
            "text/plain": [
              "0       54.0\n",
              "1       34.0\n",
              "2       58.0\n",
              "3       25.0\n",
              "4       64.0\n",
              "        ... \n",
              "1314    94.0\n",
              "1315    12.0\n",
              "1316     1.0\n",
              "1317    60.0\n",
              "1318     2.0\n",
              "Name: months, Length: 1319, dtype: float64"
            ]
          },
          "metadata": {},
          "execution_count": 95
        }
      ]
    },
    {
      "cell_type": "code",
      "metadata": {
        "colab": {
          "base_uri": "https://localhost:8080/"
        },
        "id": "9e1iW8QzN80M",
        "outputId": "eb7de3fa-826b-4788-f4a6-d06bb247a419"
      },
      "source": [
        "# Atributos categóricos\n",
        "df['owner'].fillna(df['owner'].mode())"
      ],
      "execution_count": 96,
      "outputs": [
        {
          "output_type": "execute_result",
          "data": {
            "text/plain": [
              "0       yes\n",
              "1        no\n",
              "2       yes\n",
              "3        no\n",
              "4       yes\n",
              "       ... \n",
              "1314    yes\n",
              "1315     no\n",
              "1316    yes\n",
              "1317     no\n",
              "1318    yes\n",
              "Name: owner, Length: 1319, dtype: object"
            ]
          },
          "metadata": {},
          "execution_count": 96
        }
      ]
    },
    {
      "cell_type": "markdown",
      "metadata": {
        "id": "kKiqmuC6eo3Y"
      },
      "source": [
        "# ***Outlier***"
      ]
    },
    {
      "cell_type": "code",
      "metadata": {
        "colab": {
          "base_uri": "https://localhost:8080/"
        },
        "id": "nZufSaJUN83q",
        "outputId": "0ebc9def-b5dc-4e01-971a-ccaa41f85046"
      },
      "source": [
        "dados = pd.read_csv('breast_cancer.csv', sep=',')\n",
        "print(dados)"
      ],
      "execution_count": 97,
      "outputs": [
        {
          "output_type": "stream",
          "text": [
            "           id diagnosis  radius_mean  texture_mean  perimeter_mean  area_mean  smoothness_mean  compactness_mean  concavity_mean  concave points_mean  symmetry_mean  fractal_dimension_mean  radius_se  texture_se  perimeter_se  area_se  smoothness_se  compactness_se  concavity_se  concave points_se  symmetry_se  fractal_dimension_se  radius_worst  texture_worst  perimeter_worst  area_worst  smoothness_worst  compactness_worst  concavity_worst  concave points_worst  symmetry_worst  fractal_dimension_worst  Unnamed: 32\n",
            "0      842302         M        17.99         10.38          122.80     1001.0          0.11840           0.27760         0.30010              0.14710         0.2419                 0.07871     1.0950      0.9053         8.589   153.40       0.006399         0.04904       0.05373            0.01587      0.03003              0.006193        25.380          17.33           184.60      2019.0           0.16220            0.66560           0.7119                0.2654          0.4601                  0.11890          NaN\n",
            "1      842517         M        20.57         17.77          132.90     1326.0          0.08474           0.07864         0.08690              0.07017         0.1812                 0.05667     0.5435      0.7339         3.398    74.08       0.005225         0.01308       0.01860            0.01340      0.01389              0.003532        24.990          23.41           158.80      1956.0           0.12380            0.18660           0.2416                0.1860          0.2750                  0.08902          NaN\n",
            "2    84300903         M        19.69         21.25          130.00     1203.0          0.10960           0.15990         0.19740              0.12790         0.2069                 0.05999     0.7456      0.7869         4.585    94.03       0.006150         0.04006       0.03832            0.02058      0.02250              0.004571        23.570          25.53           152.50      1709.0           0.14440            0.42450           0.4504                0.2430          0.3613                  0.08758          NaN\n",
            "3    84348301         M        11.42         20.38           77.58      386.1          0.14250           0.28390         0.24140              0.10520         0.2597                 0.09744     0.4956      1.1560         3.445    27.23       0.009110         0.07458       0.05661            0.01867      0.05963              0.009208        14.910          26.50            98.87       567.7           0.20980            0.86630           0.6869                0.2575          0.6638                  0.17300          NaN\n",
            "4    84358402         M        20.29         14.34          135.10     1297.0          0.10030           0.13280         0.19800              0.10430         0.1809                 0.05883     0.7572      0.7813         5.438    94.44       0.011490         0.02461       0.05688            0.01885      0.01756              0.005115        22.540          16.67           152.20      1575.0           0.13740            0.20500           0.4000                0.1625          0.2364                  0.07678          NaN\n",
            "..        ...       ...          ...           ...             ...        ...              ...               ...             ...                  ...            ...                     ...        ...         ...           ...      ...            ...             ...           ...                ...          ...                   ...           ...            ...              ...         ...               ...                ...              ...                   ...             ...                      ...          ...\n",
            "564    926424         M        21.56         22.39          142.00     1479.0          0.11100           0.11590         0.24390              0.13890         0.1726                 0.05623     1.1760      1.2560         7.673   158.70       0.010300         0.02891       0.05198            0.02454      0.01114              0.004239        25.450          26.40           166.10      2027.0           0.14100            0.21130           0.4107                0.2216          0.2060                  0.07115          NaN\n",
            "565    926682         M        20.13         28.25          131.20     1261.0          0.09780           0.10340         0.14400              0.09791         0.1752                 0.05533     0.7655      2.4630         5.203    99.04       0.005769         0.02423       0.03950            0.01678      0.01898              0.002498        23.690          38.25           155.00      1731.0           0.11660            0.19220           0.3215                0.1628          0.2572                  0.06637          NaN\n",
            "566    926954         M        16.60         28.08          108.30      858.1          0.08455           0.10230         0.09251              0.05302         0.1590                 0.05648     0.4564      1.0750         3.425    48.55       0.005903         0.03731       0.04730            0.01557      0.01318              0.003892        18.980          34.12           126.70      1124.0           0.11390            0.30940           0.3403                0.1418          0.2218                  0.07820          NaN\n",
            "567    927241         M        20.60         29.33          140.10     1265.0          0.11780           0.27700         0.35140              0.15200         0.2397                 0.07016     0.7260      1.5950         5.772    86.22       0.006522         0.06158       0.07117            0.01664      0.02324              0.006185        25.740          39.42           184.60      1821.0           0.16500            0.86810           0.9387                0.2650          0.4087                  0.12400          NaN\n",
            "568     92751         B         7.76         24.54           47.92      181.0          0.05263           0.04362         0.00000              0.00000         0.1587                 0.05884     0.3857      1.4280         2.548    19.15       0.007189         0.00466       0.00000            0.00000      0.02676              0.002783         9.456          30.37            59.16       268.6           0.08996            0.06444           0.0000                0.0000          0.2871                  0.07039          NaN\n",
            "\n",
            "[569 rows x 33 columns]\n"
          ],
          "name": "stdout"
        }
      ]
    },
    {
      "cell_type": "code",
      "metadata": {
        "colab": {
          "base_uri": "https://localhost:8080/"
        },
        "id": "9SLK9F4sN86_",
        "outputId": "8d30da68-4792-4d42-e213-5980f0b40d52"
      },
      "source": [
        "mediana = dados.radius_mean.median()\n",
        "print(mediana)"
      ],
      "execution_count": 98,
      "outputs": [
        {
          "output_type": "stream",
          "text": [
            "13.37\n"
          ],
          "name": "stdout"
        }
      ]
    },
    {
      "cell_type": "code",
      "metadata": {
        "colab": {
          "base_uri": "https://localhost:8080/"
        },
        "id": "OgXEsOv8fANo",
        "outputId": "7d0f4718-4c96-47c0-ba51-3b16e737cae9"
      },
      "source": [
        "mediana_inf = dados.radius_mean[dados.radius_mean < mediana].dropna().median()\n",
        "print(mediana_inf)"
      ],
      "execution_count": 99,
      "outputs": [
        {
          "output_type": "stream",
          "text": [
            "11.695\n"
          ],
          "name": "stdout"
        }
      ]
    },
    {
      "cell_type": "code",
      "metadata": {
        "colab": {
          "base_uri": "https://localhost:8080/"
        },
        "id": "I2Ddj5-7fAQr",
        "outputId": "aa577f14-f826-4fc0-98cf-c76929f09726"
      },
      "source": [
        "mediana_sup = dados.radius_mean[dados.radius_mean > mediana].dropna().median()\n",
        "print(mediana_sup)"
      ],
      "execution_count": 100,
      "outputs": [
        {
          "output_type": "stream",
          "text": [
            "15.815\n"
          ],
          "name": "stdout"
        }
      ]
    },
    {
      "cell_type": "code",
      "metadata": {
        "colab": {
          "base_uri": "https://localhost:8080/"
        },
        "id": "M4oOx9ggfAUJ",
        "outputId": "9ec47adf-b49d-4390-c667-9de2075b8db8"
      },
      "source": [
        "print(mediana, mediana_inf, mediana_sup)"
      ],
      "execution_count": 101,
      "outputs": [
        {
          "output_type": "stream",
          "text": [
            "13.37 11.695 15.815\n"
          ],
          "name": "stdout"
        }
      ]
    },
    {
      "cell_type": "code",
      "metadata": {
        "colab": {
          "base_uri": "https://localhost:8080/"
        },
        "id": "d2ZTQUxVfAWv",
        "outputId": "16412ed7-d096-496d-80c9-ad573d9c24b1"
      },
      "source": [
        "barreira_inferior = mediana_inf - 1.5 * (mediana_sup - mediana_inf)\n",
        "barreira_superior = mediana_inf - 1.5 * (mediana_sup - mediana_inf)\n",
        "print(barreira_inferior, barreira_superior)"
      ],
      "execution_count": 102,
      "outputs": [
        {
          "output_type": "stream",
          "text": [
            "5.5150000000000015 5.5150000000000015\n"
          ],
          "name": "stdout"
        }
      ]
    },
    {
      "cell_type": "code",
      "metadata": {
        "colab": {
          "base_uri": "https://localhost:8080/"
        },
        "id": "GPZNdDRyfAbR",
        "outputId": "d406ea3f-b21e-4f92-f541-d5c4387f15b9"
      },
      "source": [
        "dados_novos = dados[(dados.radius_mean > barreira_inferior) & (dados.radius_mean <\n",
        "barreira_superior)]\n",
        "print(dados.shape)\n",
        "print(dados_novos.shape)\n"
      ],
      "execution_count": 103,
      "outputs": [
        {
          "output_type": "stream",
          "text": [
            "(569, 33)\n",
            "(0, 33)\n"
          ],
          "name": "stdout"
        }
      ]
    },
    {
      "cell_type": "markdown",
      "metadata": {
        "id": "YiOaxzeDi-PM"
      },
      "source": [
        "Intervalo sobre Quartis"
      ]
    },
    {
      "cell_type": "code",
      "metadata": {
        "colab": {
          "base_uri": "https://localhost:8080/"
        },
        "id": "KTt0cl0qDmVC",
        "outputId": "3934f279-0e90-4a58-8b59-be73ad05139e"
      },
      "source": [
        "mediana = dados.radius_mean.median()\n",
        "mediana_inf = dados.radius_mean.quantile(0.25)\n",
        "mediana_sup = dados.radius_mean.quantile(0.75)\n",
        "print(mediana, mediana_inf, mediana_sup)"
      ],
      "execution_count": 104,
      "outputs": [
        {
          "output_type": "stream",
          "text": [
            "13.37 11.7 15.78\n"
          ],
          "name": "stdout"
        }
      ]
    },
    {
      "cell_type": "markdown",
      "metadata": {
        "id": "o5P9OFhgjlyQ"
      },
      "source": [
        "# ***Normalização por escala***"
      ]
    },
    {
      "cell_type": "code",
      "metadata": {
        "id": "hGB-Q8tGiwoH"
      },
      "source": [
        "max_age = df_teste2_linha.age.max()\n",
        "min_age = df_teste2_linha.age.min()\n",
        "novo_max = 1\n",
        "novo_min = 0\n",
        "nova_age = ((df_teste2_linha.age - min_age)/(max_age - min_age)) * (novo_max -novo_min) + novo_min"
      ],
      "execution_count": 105,
      "outputs": []
    },
    {
      "cell_type": "code",
      "metadata": {
        "colab": {
          "base_uri": "https://localhost:8080/"
        },
        "id": "RBsbhfKLiwrQ",
        "outputId": "c1d185aa-17a8-4881-e8ee-816f2aea5fe3"
      },
      "source": [
        "novo_max"
      ],
      "execution_count": 106,
      "outputs": [
        {
          "output_type": "execute_result",
          "data": {
            "text/plain": [
              "1"
            ]
          },
          "metadata": {},
          "execution_count": 106
        }
      ]
    },
    {
      "cell_type": "code",
      "metadata": {
        "colab": {
          "base_uri": "https://localhost:8080/"
        },
        "id": "sM5tJJTtiwuk",
        "outputId": "6ac30463-c7ac-4dc5-ac5d-8eef93ee0838"
      },
      "source": [
        "novo_min"
      ],
      "execution_count": 107,
      "outputs": [
        {
          "output_type": "execute_result",
          "data": {
            "text/plain": [
              "0"
            ]
          },
          "metadata": {},
          "execution_count": 107
        }
      ]
    },
    {
      "cell_type": "code",
      "metadata": {
        "id": "wZFVQt8SiwxR"
      },
      "source": [
        "max_age = df_teste2_linha.age.max()\n",
        "min_age = df_teste2_linha.age.min()\n",
        "novo_max = 1\n",
        "novo_min = 0\n",
        "nova_age = ((df_teste2_linha.age - min_age)/(max_age - min_age)) * (novo_max -novo_min) + novo_min"
      ],
      "execution_count": 108,
      "outputs": []
    },
    {
      "cell_type": "code",
      "metadata": {
        "colab": {
          "base_uri": "https://localhost:8080/"
        },
        "id": "RETvpmMTiw0z",
        "outputId": "775fc193-67a7-4881-9872-35048077cfe7"
      },
      "source": [
        "max_age"
      ],
      "execution_count": 111,
      "outputs": [
        {
          "output_type": "execute_result",
          "data": {
            "text/plain": [
              "83.5"
            ]
          },
          "metadata": {},
          "execution_count": 111
        }
      ]
    },
    {
      "cell_type": "code",
      "metadata": {
        "colab": {
          "base_uri": "https://localhost:8080/"
        },
        "id": "vNCrSl0Uiw3G",
        "outputId": "8cbd31ff-9399-475c-ce7d-bae74366afae"
      },
      "source": [
        "min_age"
      ],
      "execution_count": 112,
      "outputs": [
        {
          "output_type": "execute_result",
          "data": {
            "text/plain": [
              "0.1666667"
            ]
          },
          "metadata": {},
          "execution_count": 112
        }
      ]
    },
    {
      "cell_type": "markdown",
      "metadata": {
        "id": "0zUopbg8mYrz"
      },
      "source": [
        "# ***Função para calcular (Normalização por max-min)***"
      ]
    },
    {
      "cell_type": "code",
      "metadata": {
        "id": "g3UGqNhgiw6r"
      },
      "source": [
        "def normalizacao(serie, novo_max, novo_min):\n",
        "  valores = (((serie - serie.min())/(serie.max() - serie.min())) * (novo_max - novo_min)) + (novo_min)\n",
        "  return valores"
      ],
      "execution_count": 113,
      "outputs": []
    },
    {
      "cell_type": "code",
      "metadata": {
        "colab": {
          "base_uri": "https://localhost:8080/"
        },
        "id": "tDF_IqNAiw89",
        "outputId": "484c37cd-ab32-441e-8d7a-f5a7aa7c7ee5"
      },
      "source": [
        "normalizacao(df_teste2_linha.age, 1, 0)"
      ],
      "execution_count": 114,
      "outputs": [
        {
          "output_type": "execute_result",
          "data": {
            "text/plain": [
              "0       0.450\n",
              "1       0.397\n",
              "2       0.402\n",
              "3       0.364\n",
              "4       0.384\n",
              "        ...  \n",
              "1314    0.401\n",
              "1315    0.285\n",
              "1316    0.485\n",
              "1317    0.392\n",
              "1318    0.577\n",
              "Name: age, Length: 1308, dtype: float64"
            ]
          },
          "metadata": {},
          "execution_count": 114
        }
      ]
    },
    {
      "cell_type": "code",
      "metadata": {
        "id": "uVqntKFzixAh"
      },
      "source": [
        ""
      ],
      "execution_count": 110,
      "outputs": []
    }
  ]
}