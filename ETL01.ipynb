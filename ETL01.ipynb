{
  "nbformat": 4,
  "nbformat_minor": 0,
  "metadata": {
    "colab": {
      "name": "ETL01.ipynb",
      "provenance": [],
      "authorship_tag": "ABX9TyNBgTp0Zl2ttcii2N+HEsRy",
      "include_colab_link": true
    },
    "kernelspec": {
      "name": "python3",
      "display_name": "Python 3"
    },
    "language_info": {
      "name": "python"
    }
  },
  "cells": [
    {
      "cell_type": "markdown",
      "metadata": {
        "id": "view-in-github",
        "colab_type": "text"
      },
      "source": [
        "<a href=\"https://colab.research.google.com/github/AlanGomes107/ETL_Extract_Transform_and_Load/blob/main/ETL01.ipynb\" target=\"_parent\"><img src=\"https://colab.research.google.com/assets/colab-badge.svg\" alt=\"Open In Colab\"/></a>"
      ]
    },
    {
      "cell_type": "markdown",
      "metadata": {
        "id": "eqzn4YJoix5S"
      },
      "source": [
        "***EXPRESSÕES BOOLEANAS***"
      ]
    },
    {
      "cell_type": "code",
      "metadata": {
        "colab": {
          "base_uri": "https://localhost:8080/"
        },
        "id": "w5h5bAiH5I8i",
        "outputId": "caa11cc4-6e3a-43ce-bc7d-7c2c3bcfd5ba"
      },
      "source": [
        "a = int(input('digite um numero: '))\n",
        "b = int(input('digite um numero: '))\n",
        "print(a == b)\n",
        "print(a < b and b == 7) # \"and\" ESTABELECE que todas as comparações tem que ser verdadeiras para retornar TRUE\n",
        "print(a == b or a == 5) # \"or\"  ESTABELECE que se uma ou mais comparações forem verdadeiras posso retornar TRUE"
      ],
      "execution_count": null,
      "outputs": [
        {
          "output_type": "stream",
          "text": [
            "digite um numero: 2\n",
            "digite um numero: 2\n",
            "True\n",
            "False\n",
            "True\n"
          ],
          "name": "stdout"
        }
      ]
    },
    {
      "cell_type": "code",
      "metadata": {
        "id": "Jp3FS_SV5I_L"
      },
      "source": [
        ""
      ],
      "execution_count": null,
      "outputs": []
    },
    {
      "cell_type": "markdown",
      "metadata": {
        "id": "XrJaq-SZjMk6"
      },
      "source": [
        "***Listas***"
      ]
    },
    {
      "cell_type": "code",
      "metadata": {
        "colab": {
          "base_uri": "https://localhost:8080/"
        },
        "id": "WYMoZmpf5JBr",
        "outputId": "dff16916-36ce-42fd-c865-71adf4a5322b"
      },
      "source": [
        "lista = [9,8,7]\n",
        "print(lista)"
      ],
      "execution_count": null,
      "outputs": [
        {
          "output_type": "stream",
          "text": [
            "[9, 8, 7]\n"
          ],
          "name": "stdout"
        }
      ]
    },
    {
      "cell_type": "code",
      "metadata": {
        "colab": {
          "base_uri": "https://localhost:8080/"
        },
        "id": "MHd5OK6V5JEh",
        "outputId": "0aebe2f5-1fd0-4287-a872-5b9bf77b5169"
      },
      "source": [
        "lista2 = ['casa', 52, 2.45]\n",
        "print(lista2)"
      ],
      "execution_count": null,
      "outputs": [
        {
          "output_type": "stream",
          "text": [
            "['casa', 52, 2.45]\n"
          ],
          "name": "stdout"
        }
      ]
    },
    {
      "cell_type": "code",
      "metadata": {
        "colab": {
          "base_uri": "https://localhost:8080/"
        },
        "id": "xH5kCOw15JHT",
        "outputId": "c39bdc61-4769-437e-b2fa-51006b0357ed"
      },
      "source": [
        "lista = [1,8,7,56,9,4]\n",
        "print(lista[1:4]) # Intervalo fechado [] e o aberto (), no caso do python o intervalo [,) por exemplo [1:10] ele vai pegar o elemento 1, 2, 3, 4, 5 ,6 ,7 ,8 e o 9 lembrando que a lista começou no elemento zero\n",
        "print(lista[-1]) # Esta contagem vem da esquerda pra direita, em que -1 será o último elemento e -2 será o penúltimo elemento\n",
        "print(lista[-3])\n",
        "print(lista[2:])\n",
        "print(lista)\n",
        "print(lista.index(8))\n",
        "lista.remove(8)\n",
        "print(lista)\n",
        "print(len(lista)) #informa o tamanho da lista\n",
        "lista.append(3)  #adiciona o elemento x no final da sua lista\n",
        "lista.extend([6,5,4]) #adiciona uma lista inteira no final da sua lista\n",
        "lista[1] = 10 #altera o valor da posição 1 para 10\n",
        "\n"
      ],
      "execution_count": null,
      "outputs": [
        {
          "output_type": "stream",
          "text": [
            "[8, 7, 56]\n",
            "4\n",
            "56\n",
            "[7, 56, 9, 4]\n",
            "[1, 8, 7, 56, 9, 4]\n",
            "1\n",
            "[1, 7, 56, 9, 4]\n",
            "5\n"
          ],
          "name": "stdout"
        },
        {
          "output_type": "execute_result",
          "data": {
            "text/plain": [
              "[1, 10, 56, 9, 4, 3, 6, 5, 4]"
            ]
          },
          "metadata": {
            "tags": []
          },
          "execution_count": 27
        }
      ]
    },
    {
      "cell_type": "code",
      "metadata": {
        "id": "Wfwgd0ZDjlsp"
      },
      "source": [
        ""
      ],
      "execution_count": null,
      "outputs": []
    },
    {
      "cell_type": "markdown",
      "metadata": {
        "id": "fsNrgeTt2h3z"
      },
      "source": [
        "***Importando biblioteca Numpy***"
      ]
    },
    {
      "cell_type": "code",
      "metadata": {
        "id": "coEynq1Ojlvr"
      },
      "source": [
        "import numpy as np\n"
      ],
      "execution_count": null,
      "outputs": []
    },
    {
      "cell_type": "code",
      "metadata": {
        "colab": {
          "base_uri": "https://localhost:8080/"
        },
        "id": "ut_eoshNjly0",
        "outputId": "56c085d4-43d3-4389-a884-6295b337d85f"
      },
      "source": [
        "lista_numeros = list(np.random.randint(0,5,15)) #gerando 15 numeros aleatórios entre 0 e 5\n",
        "lista_numeros"
      ],
      "execution_count": null,
      "outputs": [
        {
          "output_type": "execute_result",
          "data": {
            "text/plain": [
              "[2, 1, 1, 2, 0, 0, 1, 0, 1, 4, 0, 4, 2, 3, 3]"
            ]
          },
          "metadata": {
            "tags": []
          },
          "execution_count": 33
        }
      ]
    },
    {
      "cell_type": "code",
      "metadata": {
        "colab": {
          "base_uri": "https://localhost:8080/"
        },
        "id": "juMSve8Hjl1v",
        "outputId": "04ca3cf1-55b1-4323-ea91-c735f96bb130"
      },
      "source": [
        "lista_numeros.count(1) "
      ],
      "execution_count": null,
      "outputs": [
        {
          "output_type": "execute_result",
          "data": {
            "text/plain": [
              "4"
            ]
          },
          "metadata": {
            "tags": []
          },
          "execution_count": 34
        }
      ]
    },
    {
      "cell_type": "code",
      "metadata": {
        "colab": {
          "base_uri": "https://localhost:8080/"
        },
        "id": "ZL5LuQnL3RR3",
        "outputId": "8b086006-0009-40cc-cecd-bbc960423a8d"
      },
      "source": [
        "print(list(\"abctuidffaa\"))"
      ],
      "execution_count": null,
      "outputs": [
        {
          "output_type": "stream",
          "text": [
            "['a', 'b', 'c', 't', 'u', 'i', 'd', 'f', 'f', 'a', 'a']\n"
          ],
          "name": "stdout"
        }
      ]
    },
    {
      "cell_type": "code",
      "metadata": {
        "colab": {
          "base_uri": "https://localhost:8080/"
        },
        "id": "-4m5Tdo43RUq",
        "outputId": "52d75c64-f756-4168-9f0b-279cb301f879"
      },
      "source": [
        "print(\"11-9-8674-3214\")\n",
        "print(list(\"11-9-8674-3214\"))\n",
        "a = '11-9-8674-3214'\n",
        "print(a)\n",
        "aux = a.replace('-','') \n",
        "print(aux)\n",
        "print(list(aux))\n"
      ],
      "execution_count": null,
      "outputs": [
        {
          "output_type": "stream",
          "text": [
            "11-9-8674-3214\n",
            "['1', '1', '-', '9', '-', '8', '6', '7', '4', '-', '3', '2', '1', '4']\n",
            "11-9-8674-3214\n",
            "11986743214\n",
            "['1', '1', '9', '8', '6', '7', '4', '3', '2', '1', '4']\n"
          ],
          "name": "stdout"
        }
      ]
    },
    {
      "cell_type": "code",
      "metadata": {
        "colab": {
          "base_uri": "https://localhost:8080/"
        },
        "id": "1MWAx-zh3RXc",
        "outputId": "bfb1dd43-dc3a-4fa4-d605-08ae73a3e307"
      },
      "source": [
        "lista = [10, 19, 7, 6, 5, 9, 15]\n",
        "print(lista)\n",
        "print(max(lista))\n",
        "print(min(lista))"
      ],
      "execution_count": null,
      "outputs": [
        {
          "output_type": "stream",
          "text": [
            "[10, 19, 7, 6, 5, 9, 15]\n",
            "19\n",
            "5\n"
          ],
          "name": "stdout"
        }
      ]
    },
    {
      "cell_type": "code",
      "metadata": {
        "id": "RzCnL9DJ3RaS"
      },
      "source": [
        ""
      ],
      "execution_count": null,
      "outputs": []
    },
    {
      "cell_type": "markdown",
      "metadata": {
        "id": "7RUKcnzI6HTx"
      },
      "source": [
        "***ESTRUTURAS DE CONTROLE***"
      ]
    },
    {
      "cell_type": "code",
      "metadata": {
        "colab": {
          "base_uri": "https://localhost:8080/"
        },
        "id": "aWzcDmW53Rc8",
        "outputId": "56a4533d-46f6-4a60-bf6f-8c3463a3d611"
      },
      "source": [
        "i = 1\n",
        "i"
      ],
      "execution_count": null,
      "outputs": [
        {
          "output_type": "execute_result",
          "data": {
            "text/plain": [
              "1"
            ]
          },
          "metadata": {
            "tags": []
          },
          "execution_count": 54
        }
      ]
    },
    {
      "cell_type": "code",
      "metadata": {
        "id": "16wkB31G6Pro"
      },
      "source": [
        "while i < 10:\n",
        "  print(i)\n",
        "  i = i + 1 "
      ],
      "execution_count": null,
      "outputs": []
    },
    {
      "cell_type": "code",
      "metadata": {
        "colab": {
          "base_uri": "https://localhost:8080/"
        },
        "id": "aUAa694q6Pur",
        "outputId": "a06b8457-cd4a-4142-c343-e46c4b08d332"
      },
      "source": [
        "a = 30\n",
        "b = 200\n",
        "if b > a:\n",
        "  print('b maior que a')"
      ],
      "execution_count": null,
      "outputs": [
        {
          "output_type": "stream",
          "text": [
            "b maior que a\n"
          ],
          "name": "stdout"
        }
      ]
    },
    {
      "cell_type": "code",
      "metadata": {
        "colab": {
          "base_uri": "https://localhost:8080/"
        },
        "id": "ClJZUpbk6PyK",
        "outputId": "72348eed-371d-44bb-846a-8713831512ee"
      },
      "source": [
        "a = 33\n",
        "b = 15\n",
        "if b > a:\n",
        "  print('b maior que a ')\n",
        "else:\n",
        "  print('a maior que b')  "
      ],
      "execution_count": null,
      "outputs": [
        {
          "output_type": "stream",
          "text": [
            "a maior que b\n"
          ],
          "name": "stdout"
        }
      ]
    },
    {
      "cell_type": "code",
      "metadata": {
        "colab": {
          "base_uri": "https://localhost:8080/"
        },
        "id": "YTfIomU93Rfi",
        "outputId": "ded1dbe6-30b0-4100-d4ee-323f10271579"
      },
      "source": [
        "a = 200\n",
        "b = 33\n",
        "c = 400\n",
        "if a > b and c > a:\n",
        "  print('As duas condições são verdadeira')\n",
        "  "
      ],
      "execution_count": null,
      "outputs": [
        {
          "output_type": "stream",
          "text": [
            "As duas condições são verdadeira\n"
          ],
          "name": "stdout"
        }
      ]
    },
    {
      "cell_type": "code",
      "metadata": {
        "colab": {
          "base_uri": "https://localhost:8080/"
        },
        "id": "_0pdrEHN3Ril",
        "outputId": "4e1c15d8-0b33-4b66-ef07-5402ffc339a1"
      },
      "source": [
        "a = 200\n",
        "b = 33\n",
        "c = 500\n",
        "if a > b or c > a:\n",
        "   print(\"Pelo menos uma das condições é verdadeira\")"
      ],
      "execution_count": null,
      "outputs": [
        {
          "output_type": "stream",
          "text": [
            "Pelo menos uma das condições é verdadeira\n"
          ],
          "name": "stdout"
        }
      ]
    },
    {
      "cell_type": "code",
      "metadata": {
        "colab": {
          "base_uri": "https://localhost:8080/"
        },
        "id": "DS6Grtx43Rk_",
        "outputId": "f612919c-c96f-4153-fbef-a5ea1b8cb265"
      },
      "source": [
        "num = np.random.randint(100)\n",
        "print(num)"
      ],
      "execution_count": null,
      "outputs": [
        {
          "output_type": "stream",
          "text": [
            "57\n"
          ],
          "name": "stdout"
        }
      ]
    },
    {
      "cell_type": "code",
      "metadata": {
        "colab": {
          "base_uri": "https://localhost:8080/"
        },
        "id": "-kjvethp-AGp",
        "outputId": "1d37a9f8-da8d-4db3-fd12-31ef35c58bfd"
      },
      "source": [
        "num2 = int(input('Digite um numero: '))\n"
      ],
      "execution_count": null,
      "outputs": [
        {
          "output_type": "stream",
          "text": [
            "Digite um numero: 57\n"
          ],
          "name": "stdout"
        }
      ]
    },
    {
      "cell_type": "code",
      "metadata": {
        "colab": {
          "base_uri": "https://localhost:8080/"
        },
        "id": "-VYvE_Dk-AJy",
        "outputId": "56ab1a0e-591d-4e8a-c677-fe7c0b88bc85"
      },
      "source": [
        "if num2 > num:\n",
        "  print('O numero %s é maior'%(num2))\n",
        "elif num2 < num:\n",
        "  print('O numero %s é maior'%(num))\n",
        "else:\n",
        "  print('Os numeros são iguais')    "
      ],
      "execution_count": null,
      "outputs": [
        {
          "output_type": "stream",
          "text": [
            "Os numeros são iguais\n"
          ],
          "name": "stdout"
        }
      ]
    },
    {
      "cell_type": "code",
      "metadata": {
        "colab": {
          "base_uri": "https://localhost:8080/"
        },
        "id": "xG2pkKiO-AMu",
        "outputId": "8fc84e8f-7f42-4ed6-e72a-b121897ff927"
      },
      "source": [
        "lista_compras = ['chocolate', 'arroz', 'leite']\n",
        "for x in lista_compras:\n",
        "  print(x)\n"
      ],
      "execution_count": null,
      "outputs": [
        {
          "output_type": "stream",
          "text": [
            "chocolate\n",
            "arroz\n",
            "leite\n"
          ],
          "name": "stdout"
        }
      ]
    },
    {
      "cell_type": "code",
      "metadata": {
        "colab": {
          "base_uri": "https://localhost:8080/"
        },
        "id": "Snwl5usaEFxS",
        "outputId": "e6b208e5-7aa2-4246-ad56-0e8d1a2c1634"
      },
      "source": [
        "for x in 'casa':\n",
        "  print(x)"
      ],
      "execution_count": null,
      "outputs": [
        {
          "output_type": "stream",
          "text": [
            "c\n",
            "a\n",
            "s\n",
            "a\n"
          ],
          "name": "stdout"
        }
      ]
    },
    {
      "cell_type": "code",
      "metadata": {
        "colab": {
          "base_uri": "https://localhost:8080/"
        },
        "id": "Ap4CeFGeEF0i",
        "outputId": "85a2a7a8-20d3-425f-d340-47e7c74f3f95"
      },
      "source": [
        "for num in range(1,11):\n",
        "  print(num)"
      ],
      "execution_count": null,
      "outputs": [
        {
          "output_type": "stream",
          "text": [
            "1\n",
            "2\n",
            "3\n",
            "4\n",
            "5\n",
            "6\n",
            "7\n",
            "8\n",
            "9\n",
            "10\n"
          ],
          "name": "stdout"
        }
      ]
    },
    {
      "cell_type": "code",
      "metadata": {
        "colab": {
          "base_uri": "https://localhost:8080/"
        },
        "id": "EccqvCdFEF3o",
        "outputId": "71a29804-e8fd-4c51-8bc3-30db21195792"
      },
      "source": [
        "for num in range(0,100,10):\n",
        "  print(num)"
      ],
      "execution_count": null,
      "outputs": [
        {
          "output_type": "stream",
          "text": [
            "0\n",
            "10\n",
            "20\n",
            "30\n",
            "40\n",
            "50\n",
            "60\n",
            "70\n",
            "80\n",
            "90\n"
          ],
          "name": "stdout"
        }
      ]
    },
    {
      "cell_type": "code",
      "metadata": {
        "colab": {
          "base_uri": "https://localhost:8080/"
        },
        "id": "L6wWGhEW-AP1",
        "outputId": "95f2180c-4ca0-4e6a-c5f2-60ad19359c53"
      },
      "source": [
        "lista_compras = [\"chocolate\", \"arroz\", \"leite\", \"trigo\"]\n",
        "for x in lista_compras:\n",
        "  print(x)\n",
        "  "
      ],
      "execution_count": null,
      "outputs": [
        {
          "output_type": "stream",
          "text": [
            "chocolate\n",
            "arroz\n",
            "leite\n",
            "trigo\n"
          ],
          "name": "stdout"
        }
      ]
    },
    {
      "cell_type": "code",
      "metadata": {
        "colab": {
          "base_uri": "https://localhost:8080/"
        },
        "id": "DQRLsR5J-ASo",
        "outputId": "d5130bd5-0c86-4bf9-aca9-eb057dd05d11"
      },
      "source": [
        "lista_compras = [\"chocolate\", \"arroz\", \"leite\", \"trigo\"]\n",
        "for x in lista_compras:\n",
        "  print(x)\n",
        "  if x == \"arroz\":\n",
        "    break # podemos parar o loop antes que ele percorra todos os itens"
      ],
      "execution_count": null,
      "outputs": [
        {
          "output_type": "stream",
          "text": [
            "chocolate\n",
            "arroz\n"
          ],
          "name": "stdout"
        }
      ]
    },
    {
      "cell_type": "code",
      "metadata": {
        "colab": {
          "base_uri": "https://localhost:8080/"
        },
        "id": "gWyQ_rxH-AWG",
        "outputId": "6df01b6a-606a-485f-d15e-3938c6d3c88e"
      },
      "source": [
        "lista_compras = [\"chocolate\", \"arroz\", \"leite\", \"trigo\"]\n",
        "for x in lista_compras:\n",
        "  if x == \"arroz\":\n",
        "    continue # podemos parar a iteração atual do loop e continuar com a proxima\n",
        "  print(x)"
      ],
      "execution_count": null,
      "outputs": [
        {
          "output_type": "stream",
          "text": [
            "chocolate\n",
            "leite\n",
            "trigo\n"
          ],
          "name": "stdout"
        }
      ]
    },
    {
      "cell_type": "code",
      "metadata": {
        "id": "P3IKvd2OHPgS"
      },
      "source": [
        ""
      ],
      "execution_count": null,
      "outputs": []
    },
    {
      "cell_type": "markdown",
      "metadata": {
        "id": "yi2n_ajdI3r7"
      },
      "source": [
        "***FUNÇÕES***"
      ]
    },
    {
      "cell_type": "code",
      "metadata": {
        "id": "ej4WdnhLHPjg"
      },
      "source": [
        "def soma(num1,num2):\n",
        "  return num1 + num2"
      ],
      "execution_count": null,
      "outputs": []
    },
    {
      "cell_type": "code",
      "metadata": {
        "colab": {
          "base_uri": "https://localhost:8080/"
        },
        "id": "3IucDd9BHPmy",
        "outputId": "78932083-571a-424e-86bd-9f896efc96d5"
      },
      "source": [
        "soma(54,114)"
      ],
      "execution_count": null,
      "outputs": [
        {
          "output_type": "execute_result",
          "data": {
            "text/plain": [
              "168"
            ]
          },
          "metadata": {
            "tags": []
          },
          "execution_count": 105
        }
      ]
    },
    {
      "cell_type": "code",
      "metadata": {
        "id": "_BofvgtDHPqm"
      },
      "source": [
        "def imc(altura,peso):\n",
        "  return (float(peso)) / (float(altura)**2)"
      ],
      "execution_count": null,
      "outputs": []
    },
    {
      "cell_type": "code",
      "metadata": {
        "colab": {
          "base_uri": "https://localhost:8080/"
        },
        "id": "jzYZpKkqHPuS",
        "outputId": "6befc412-00df-42fb-e393-cabe03df97e6"
      },
      "source": [
        "imc(1.68,82)\n"
      ],
      "execution_count": null,
      "outputs": [
        {
          "output_type": "execute_result",
          "data": {
            "text/plain": [
              "29.053287981859416"
            ]
          },
          "metadata": {
            "tags": []
          },
          "execution_count": 113
        }
      ]
    },
    {
      "cell_type": "code",
      "metadata": {
        "id": "IbUhsf5D5JJ0"
      },
      "source": [
        "def par(num):\n",
        "  if num%2 == 0:\n",
        "    return 'par'\n",
        "  else:\n",
        "    return 'impar'\n",
        "      "
      ],
      "execution_count": null,
      "outputs": []
    },
    {
      "cell_type": "code",
      "metadata": {
        "colab": {
          "base_uri": "https://localhost:8080/"
        },
        "id": "jf4zrfHP5JMl",
        "outputId": "01414150-628f-47a0-d4e3-3fd9e1a0b888"
      },
      "source": [
        "print(par(2))\n",
        "print(par(3))\n",
        "print(par(11))\n",
        "print(par(18))"
      ],
      "execution_count": null,
      "outputs": [
        {
          "output_type": "stream",
          "text": [
            "par\n",
            "impar\n",
            "impar\n",
            "par\n"
          ],
          "name": "stdout"
        }
      ]
    },
    {
      "cell_type": "code",
      "metadata": {
        "id": "hxzDzm4QMbKe"
      },
      "source": [
        ""
      ],
      "execution_count": null,
      "outputs": []
    }
  ]
}