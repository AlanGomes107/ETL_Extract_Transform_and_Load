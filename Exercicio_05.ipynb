{
  "nbformat": 4,
  "nbformat_minor": 0,
  "metadata": {
    "colab": {
      "name": "Exercicio_05.ipynb",
      "provenance": [],
      "authorship_tag": "ABX9TyOHIxjmqxBtV8qwZnHBfu5h",
      "include_colab_link": true
    },
    "kernelspec": {
      "name": "python3",
      "display_name": "Python 3"
    },
    "language_info": {
      "name": "python"
    }
  },
  "cells": [
    {
      "cell_type": "markdown",
      "metadata": {
        "id": "view-in-github",
        "colab_type": "text"
      },
      "source": [
        "<a href=\"https://colab.research.google.com/github/AlanGomes107/ETL_Extract_Transform_and_Load/blob/main/Exercicio_05.ipynb\" target=\"_parent\"><img src=\"https://colab.research.google.com/assets/colab-badge.svg\" alt=\"Open In Colab\"/></a>"
      ]
    },
    {
      "cell_type": "code",
      "metadata": {
        "id": "HIcHm7Va0dGi"
      },
      "source": [
        "import pandas as pd\n",
        "import numpy as np"
      ],
      "execution_count": 1,
      "outputs": []
    },
    {
      "cell_type": "markdown",
      "metadata": {
        "id": "No9v-gD802my"
      },
      "source": [
        "5\tImporte a biblioteca Pandas\n",
        "5.1.\tUtilizando o Pandas carregue a base de dados “vgsales.csv” em uma variável do tipo pandas DataFrame chamado df. (vgsales.csv está no Google Drive)    \n",
        "5.2.\tExiba a quantidade de valores ausentes por coluna da base.   \n",
        "5.3.\tArmazene o resultado da remoção de todas as linhas da base df que contém todos os valores ausentes em um DataFrame chamado df2.  \n",
        "5.4.\tArmazene o resultado da remoção de todas as linhas da base df que contém pelo menos um valor ausente em um DataFrame chamado df3.    \n",
        "5.5.\tAplique a técnica de imputação da mediana na coluna “JP_Sales”.\n"
      ]
    },
    {
      "cell_type": "code",
      "metadata": {
        "colab": {
          "base_uri": "https://localhost:8080/"
        },
        "id": "qmpF0F-A0im0",
        "outputId": "381700ce-db98-4930-994e-409427b2a599"
      },
      "source": [
        "vgsales = pd.read_csv(\"vgsales.csv\", sep=\",\")\n",
        "pd.set_option('display.expand_frame_repr', False)\n",
        "print(vgsales)"
      ],
      "execution_count": 3,
      "outputs": [
        {
          "output_type": "stream",
          "text": [
            "        Rank                                              Name Platform    Year         Genre   Publisher  NA_Sales  EU_Sales  JP_Sales  Other_Sales  Global_Sales\n",
            "0          1                                        Wii Sports      Wii  2006.0        Sports    Nintendo     41.49     29.02      3.77         8.46         82.74\n",
            "1          2                                 Super Mario Bros.      NES  1985.0      Platform    Nintendo     29.08      3.58      6.81         0.77         40.24\n",
            "2          3                                    Mario Kart Wii      Wii  2008.0        Racing    Nintendo     15.85     12.88      3.79         3.31         35.82\n",
            "3          4                                 Wii Sports Resort      Wii  2009.0        Sports    Nintendo     15.75     11.01      3.28         2.96         33.00\n",
            "4          5                          Pokemon Red/Pokemon Blue       GB  1996.0  Role-Playing    Nintendo     11.27      8.89     10.22         1.00         31.37\n",
            "...      ...                                               ...      ...     ...           ...         ...       ...       ...       ...          ...           ...\n",
            "16593  16596                Woody Woodpecker in Crazy Castle 5      GBA  2002.0      Platform       Kemco      0.01      0.00      0.00         0.00          0.01\n",
            "16594  16597                     Men in Black II: Alien Escape       GC  2003.0       Shooter  Infogrames      0.01      0.00      0.00         0.00          0.01\n",
            "16595  16598  SCORE International Baja 1000: The Official Game      PS2  2008.0        Racing  Activision      0.00      0.00      0.00         0.00          0.01\n",
            "16596  16599                                        Know How 2       DS  2010.0        Puzzle    7G//AMES      0.00      0.01      0.00         0.00          0.01\n",
            "16597  16600                                  Spirits & Spells      GBA  2003.0      Platform     Wanadoo      0.01      0.00      0.00         0.00          0.01\n",
            "\n",
            "[16598 rows x 11 columns]\n"
          ],
          "name": "stdout"
        }
      ]
    },
    {
      "cell_type": "code",
      "metadata": {
        "colab": {
          "base_uri": "https://localhost:8080/"
        },
        "id": "chGpuCgg0ips",
        "outputId": "988cba20-13fe-47a2-e4e7-167fd9806ff7"
      },
      "source": [
        "vgsales.isnull().sum()"
      ],
      "execution_count": 4,
      "outputs": [
        {
          "output_type": "execute_result",
          "data": {
            "text/plain": [
              "Rank              0\n",
              "Name              0\n",
              "Platform          0\n",
              "Year            271\n",
              "Genre             0\n",
              "Publisher        58\n",
              "NA_Sales          0\n",
              "EU_Sales          0\n",
              "JP_Sales          0\n",
              "Other_Sales       0\n",
              "Global_Sales      0\n",
              "dtype: int64"
            ]
          },
          "metadata": {},
          "execution_count": 4
        }
      ]
    },
    {
      "cell_type": "code",
      "metadata": {
        "id": "Us6YHnIB0isr"
      },
      "source": [
        "vgsales2 = vgsales.dropna(axis=0,how='all')"
      ],
      "execution_count": 5,
      "outputs": []
    },
    {
      "cell_type": "code",
      "metadata": {
        "id": "L7A8hpmS0ivj"
      },
      "source": [
        "vgsales3 = vgsales.dropna(axis=0,how='any')"
      ],
      "execution_count": 6,
      "outputs": []
    },
    {
      "cell_type": "code",
      "metadata": {
        "id": "Nu1aBVql0iyL"
      },
      "source": [
        "vgsales['JP_Sales'] = vgsales['JP_Sales'].fillna(vgsales['JP_Sales'].median())"
      ],
      "execution_count": 7,
      "outputs": []
    },
    {
      "cell_type": "code",
      "metadata": {
        "colab": {
          "base_uri": "https://localhost:8080/"
        },
        "id": "fqE3dmjZ0i1N",
        "outputId": "5957b34b-81dd-44d3-848a-62879ff7e9e9"
      },
      "source": [
        "print(vgsales['JP_Sales'])"
      ],
      "execution_count": 11,
      "outputs": [
        {
          "output_type": "stream",
          "text": [
            "0         3.77\n",
            "1         6.81\n",
            "2         3.79\n",
            "3         3.28\n",
            "4        10.22\n",
            "         ...  \n",
            "16593     0.00\n",
            "16594     0.00\n",
            "16595     0.00\n",
            "16596     0.00\n",
            "16597     0.00\n",
            "Name: JP_Sales, Length: 16598, dtype: float64\n"
          ],
          "name": "stdout"
        }
      ]
    }
  ]
}