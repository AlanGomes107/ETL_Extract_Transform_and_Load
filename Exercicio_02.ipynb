{
  "nbformat": 4,
  "nbformat_minor": 0,
  "metadata": {
    "colab": {
      "name": "Exercicio_02.ipynb",
      "provenance": [],
      "authorship_tag": "ABX9TyPvuobZtBDpb8nUNqUwXvv4",
      "include_colab_link": true
    },
    "kernelspec": {
      "name": "python3",
      "display_name": "Python 3"
    },
    "language_info": {
      "name": "python"
    }
  },
  "cells": [
    {
      "cell_type": "markdown",
      "metadata": {
        "id": "view-in-github",
        "colab_type": "text"
      },
      "source": [
        "<a href=\"https://colab.research.google.com/github/AlanGomes107/ETL_Extract_Transform_and_Load/blob/main/Exercicio_02.ipynb\" target=\"_parent\"><img src=\"https://colab.research.google.com/assets/colab-badge.svg\" alt=\"Open In Colab\"/></a>"
      ]
    },
    {
      "cell_type": "markdown",
      "metadata": {
        "id": "WwYdkdFsJrFU"
      },
      "source": [
        "***Exercicio 02***"
      ]
    },
    {
      "cell_type": "markdown",
      "metadata": {
        "id": "xifq3bY2KmIw"
      },
      "source": [
        "2.1)\tImportar arquivo acoes.xlsx, que contenha informações da tesla  \n",
        "2.2)\tCriar uma variável (de o nome que achar conveniente) com o valor de fechamento (Close) dividido pelo valor de abertura(Open), que demonstrará a variação de abertura e fechamento (caso julgue necessária pode subtrair o valor 1 desta variável).     \n",
        "2.3)\tEncontrar os 10 dias com maiores variações positivas  \n",
        "2.4)\tEncontrar os 10 dias com maiores variações negativas\n"
      ]
    },
    {
      "cell_type": "code",
      "metadata": {
        "id": "dbaF93KhJbQA"
      },
      "source": [
        "import pandas as pd\n",
        "import numpy as np\n"
      ],
      "execution_count": 1,
      "outputs": []
    },
    {
      "cell_type": "code",
      "metadata": {
        "colab": {
          "base_uri": "https://localhost:8080/"
        },
        "id": "RW1lsNl0Jt46",
        "outputId": "bfadf198-4a1f-430f-f94e-e35c2014ee81"
      },
      "source": [
        "# 2.1) Importar arquivo acoes.xlsx, que contenha informações da tesla\n",
        "tesla = pd.read_excel('acoes.xlsx', sheet_name='tesla') \n",
        "print(tesla)"
      ],
      "execution_count": 2,
      "outputs": [
        {
          "output_type": "stream",
          "text": [
            "            Date        Open        High  ...       Close   Adj Close    Volume\n",
            "0     2016-03-01  194.250000  195.949997  ...  186.350006  186.350006   6712200\n",
            "1     2016-03-02  183.729996  188.520004  ...  188.339996  188.339996   4862400\n",
            "2     2016-03-03  188.279999  197.419998  ...  195.740005  195.740005   4829000\n",
            "3     2016-03-04  198.000000  204.029999  ...  201.039993  201.039993   6489100\n",
            "4     2016-03-07  197.679993  209.699997  ...  205.289993  205.289993   5329400\n",
            "...          ...         ...         ...  ...         ...         ...       ...\n",
            "1002  2020-02-24  839.000000  863.500000  ...  833.789978  833.789978  15192200\n",
            "1003  2020-02-25  849.000000  856.599976  ...  799.909973  799.909973  17290500\n",
            "1004  2020-02-26  782.500000  813.309998  ...  778.799988  778.799988  14085500\n",
            "1005  2020-02-27  730.000000  739.770020  ...  679.000000  679.000000  24277200\n",
            "1006  2020-02-28  629.700012  690.520020  ...  667.989990  667.989990  24222900\n",
            "\n",
            "[1007 rows x 7 columns]\n"
          ],
          "name": "stdout"
        }
      ]
    },
    {
      "cell_type": "code",
      "metadata": {
        "colab": {
          "base_uri": "https://localhost:8080/"
        },
        "id": "7-Kk8d9HJt7q",
        "outputId": "64a7f86a-5ab9-4b1b-d63f-46874ef0b3d3"
      },
      "source": [
        "# 2.2) Criar uma variável (de o nome que achar conveniente) com o valor de fechamento (Close) dividido pelo valor de abertura(Open), \n",
        "# que demonstrará a variação de abertura e fechamento (caso julgue necessária pode subtrair o valor 1 desta variável).\n",
        "tesla['var'] = (tesla['Close'] / tesla['Open'])-1\n",
        "print(tesla)"
      ],
      "execution_count": 3,
      "outputs": [
        {
          "output_type": "stream",
          "text": [
            "            Date        Open        High  ...   Adj Close    Volume       var\n",
            "0     2016-03-01  194.250000  195.949997  ...  186.350006   6712200 -0.040669\n",
            "1     2016-03-02  183.729996  188.520004  ...  188.339996   4862400  0.025091\n",
            "2     2016-03-03  188.279999  197.419998  ...  195.740005   4829000  0.039622\n",
            "3     2016-03-04  198.000000  204.029999  ...  201.039993   6489100  0.015353\n",
            "4     2016-03-07  197.679993  209.699997  ...  205.289993   5329400  0.038497\n",
            "...          ...         ...         ...  ...         ...       ...       ...\n",
            "1002  2020-02-24  839.000000  863.500000  ...  833.789978  15192200 -0.006210\n",
            "1003  2020-02-25  849.000000  856.599976  ...  799.909973  17290500 -0.057821\n",
            "1004  2020-02-26  782.500000  813.309998  ...  778.799988  14085500 -0.004728\n",
            "1005  2020-02-27  730.000000  739.770020  ...  679.000000  24277200 -0.069863\n",
            "1006  2020-02-28  629.700012  690.520020  ...  667.989990  24222900  0.060807\n",
            "\n",
            "[1007 rows x 8 columns]\n"
          ],
          "name": "stdout"
        }
      ]
    },
    {
      "cell_type": "code",
      "metadata": {
        "colab": {
          "base_uri": "https://localhost:8080/",
          "height": 359
        },
        "id": "E2xBGBvkPYYw",
        "outputId": "75472e4f-d994-4834-8070-9d1261e86497"
      },
      "source": [
        "# 2.3) Encontrar os 10 dias com maiores variações positivas \n",
        "tesla.sort_values('var', ascending=False).head(10) "
      ],
      "execution_count": 4,
      "outputs": [
        {
          "output_type": "execute_result",
          "data": {
            "text/html": [
              "<div>\n",
              "<style scoped>\n",
              "    .dataframe tbody tr th:only-of-type {\n",
              "        vertical-align: middle;\n",
              "    }\n",
              "\n",
              "    .dataframe tbody tr th {\n",
              "        vertical-align: top;\n",
              "    }\n",
              "\n",
              "    .dataframe thead th {\n",
              "        text-align: right;\n",
              "    }\n",
              "</style>\n",
              "<table border=\"1\" class=\"dataframe\">\n",
              "  <thead>\n",
              "    <tr style=\"text-align: right;\">\n",
              "      <th></th>\n",
              "      <th>Date</th>\n",
              "      <th>Open</th>\n",
              "      <th>High</th>\n",
              "      <th>Low</th>\n",
              "      <th>Close</th>\n",
              "      <th>Adj Close</th>\n",
              "      <th>Volume</th>\n",
              "      <th>var</th>\n",
              "    </tr>\n",
              "  </thead>\n",
              "  <tbody>\n",
              "    <tr>\n",
              "      <th>988</th>\n",
              "      <td>2020-02-03</td>\n",
              "      <td>673.690002</td>\n",
              "      <td>786.140015</td>\n",
              "      <td>673.520020</td>\n",
              "      <td>780.000000</td>\n",
              "      <td>780.000000</td>\n",
              "      <td>47233500</td>\n",
              "      <td>0.157803</td>\n",
              "    </tr>\n",
              "    <tr>\n",
              "      <th>527</th>\n",
              "      <td>2018-04-04</td>\n",
              "      <td>252.779999</td>\n",
              "      <td>288.369995</td>\n",
              "      <td>252.000000</td>\n",
              "      <td>286.940002</td>\n",
              "      <td>286.940002</td>\n",
              "      <td>19896700</td>\n",
              "      <td>0.135137</td>\n",
              "    </tr>\n",
              "    <tr>\n",
              "      <th>668</th>\n",
              "      <td>2018-10-23</td>\n",
              "      <td>263.869995</td>\n",
              "      <td>297.929993</td>\n",
              "      <td>262.100006</td>\n",
              "      <td>294.140015</td>\n",
              "      <td>294.140015</td>\n",
              "      <td>19027800</td>\n",
              "      <td>0.114716</td>\n",
              "    </tr>\n",
              "    <tr>\n",
              "      <th>614</th>\n",
              "      <td>2018-08-07</td>\n",
              "      <td>343.839996</td>\n",
              "      <td>387.459991</td>\n",
              "      <td>339.149994</td>\n",
              "      <td>379.570007</td>\n",
              "      <td>379.570007</td>\n",
              "      <td>30875800</td>\n",
              "      <td>0.103915</td>\n",
              "    </tr>\n",
              "    <tr>\n",
              "      <th>921</th>\n",
              "      <td>2019-10-25</td>\n",
              "      <td>297.720001</td>\n",
              "      <td>330.000000</td>\n",
              "      <td>296.109985</td>\n",
              "      <td>328.130005</td>\n",
              "      <td>328.130005</td>\n",
              "      <td>30006100</td>\n",
              "      <td>0.102143</td>\n",
              "    </tr>\n",
              "    <tr>\n",
              "      <th>711</th>\n",
              "      <td>2018-12-26</td>\n",
              "      <td>300.000000</td>\n",
              "      <td>326.970001</td>\n",
              "      <td>294.089996</td>\n",
              "      <td>326.089996</td>\n",
              "      <td>326.089996</td>\n",
              "      <td>8163100</td>\n",
              "      <td>0.086967</td>\n",
              "    </tr>\n",
              "    <tr>\n",
              "      <th>996</th>\n",
              "      <td>2020-02-13</td>\n",
              "      <td>741.840027</td>\n",
              "      <td>818.000000</td>\n",
              "      <td>735.000000</td>\n",
              "      <td>804.000000</td>\n",
              "      <td>804.000000</td>\n",
              "      <td>26289300</td>\n",
              "      <td>0.083792</td>\n",
              "    </tr>\n",
              "    <tr>\n",
              "      <th>671</th>\n",
              "      <td>2018-10-26</td>\n",
              "      <td>308.250000</td>\n",
              "      <td>339.899994</td>\n",
              "      <td>306.649994</td>\n",
              "      <td>330.899994</td>\n",
              "      <td>330.899994</td>\n",
              "      <td>27425500</td>\n",
              "      <td>0.073479</td>\n",
              "    </tr>\n",
              "    <tr>\n",
              "      <th>991</th>\n",
              "      <td>2020-02-06</td>\n",
              "      <td>699.919983</td>\n",
              "      <td>795.830017</td>\n",
              "      <td>687.000000</td>\n",
              "      <td>748.960022</td>\n",
              "      <td>748.960022</td>\n",
              "      <td>39880800</td>\n",
              "      <td>0.070065</td>\n",
              "    </tr>\n",
              "    <tr>\n",
              "      <th>820</th>\n",
              "      <td>2019-06-04</td>\n",
              "      <td>181.100006</td>\n",
              "      <td>193.979996</td>\n",
              "      <td>179.610001</td>\n",
              "      <td>193.600006</td>\n",
              "      <td>193.600006</td>\n",
              "      <td>13807500</td>\n",
              "      <td>0.069023</td>\n",
              "    </tr>\n",
              "  </tbody>\n",
              "</table>\n",
              "</div>"
            ],
            "text/plain": [
              "           Date        Open        High  ...   Adj Close    Volume       var\n",
              "988  2020-02-03  673.690002  786.140015  ...  780.000000  47233500  0.157803\n",
              "527  2018-04-04  252.779999  288.369995  ...  286.940002  19896700  0.135137\n",
              "668  2018-10-23  263.869995  297.929993  ...  294.140015  19027800  0.114716\n",
              "614  2018-08-07  343.839996  387.459991  ...  379.570007  30875800  0.103915\n",
              "921  2019-10-25  297.720001  330.000000  ...  328.130005  30006100  0.102143\n",
              "711  2018-12-26  300.000000  326.970001  ...  326.089996   8163100  0.086967\n",
              "996  2020-02-13  741.840027  818.000000  ...  804.000000  26289300  0.083792\n",
              "671  2018-10-26  308.250000  339.899994  ...  330.899994  27425500  0.073479\n",
              "991  2020-02-06  699.919983  795.830017  ...  748.960022  39880800  0.070065\n",
              "820  2019-06-04  181.100006  193.979996  ...  193.600006  13807500  0.069023\n",
              "\n",
              "[10 rows x 8 columns]"
            ]
          },
          "metadata": {},
          "execution_count": 4
        }
      ]
    },
    {
      "cell_type": "code",
      "metadata": {
        "colab": {
          "base_uri": "https://localhost:8080/",
          "height": 359
        },
        "id": "9d-tuRLWPYb4",
        "outputId": "5b6204a9-3f82-427e-e44f-f5f58d130d74"
      },
      "source": [
        "# 2.4) Encontrar os 10 dias com maiores variações negativas\n",
        "tesla.sort_values('var', ascending=False).tail(10)"
      ],
      "execution_count": 5,
      "outputs": [
        {
          "output_type": "execute_result",
          "data": {
            "text/html": [
              "<div>\n",
              "<style scoped>\n",
              "    .dataframe tbody tr th:only-of-type {\n",
              "        vertical-align: middle;\n",
              "    }\n",
              "\n",
              "    .dataframe tbody tr th {\n",
              "        vertical-align: top;\n",
              "    }\n",
              "\n",
              "    .dataframe thead th {\n",
              "        text-align: right;\n",
              "    }\n",
              "</style>\n",
              "<table border=\"1\" class=\"dataframe\">\n",
              "  <thead>\n",
              "    <tr style=\"text-align: right;\">\n",
              "      <th></th>\n",
              "      <th>Date</th>\n",
              "      <th>Open</th>\n",
              "      <th>High</th>\n",
              "      <th>Low</th>\n",
              "      <th>Close</th>\n",
              "      <th>Adj Close</th>\n",
              "      <th>Volume</th>\n",
              "      <th>var</th>\n",
              "    </tr>\n",
              "  </thead>\n",
              "  <tbody>\n",
              "    <tr>\n",
              "      <th>826</th>\n",
              "      <td>2019-06-12</td>\n",
              "      <td>222.949997</td>\n",
              "      <td>223.380005</td>\n",
              "      <td>209.000000</td>\n",
              "      <td>209.259995</td>\n",
              "      <td>209.259995</td>\n",
              "      <td>15186200</td>\n",
              "      <td>-0.061404</td>\n",
              "    </tr>\n",
              "    <tr>\n",
              "      <th>590</th>\n",
              "      <td>2018-07-03</td>\n",
              "      <td>331.750000</td>\n",
              "      <td>332.489990</td>\n",
              "      <td>309.690002</td>\n",
              "      <td>310.859985</td>\n",
              "      <td>310.859985</td>\n",
              "      <td>12282600</td>\n",
              "      <td>-0.062969</td>\n",
              "    </tr>\n",
              "    <tr>\n",
              "      <th>727</th>\n",
              "      <td>2019-01-18</td>\n",
              "      <td>323.000000</td>\n",
              "      <td>327.130005</td>\n",
              "      <td>299.730011</td>\n",
              "      <td>302.260010</td>\n",
              "      <td>302.260010</td>\n",
              "      <td>24150800</td>\n",
              "      <td>-0.064210</td>\n",
              "    </tr>\n",
              "    <tr>\n",
              "      <th>589</th>\n",
              "      <td>2018-07-02</td>\n",
              "      <td>360.070007</td>\n",
              "      <td>364.779999</td>\n",
              "      <td>329.850006</td>\n",
              "      <td>335.070007</td>\n",
              "      <td>335.070007</td>\n",
              "      <td>18759800</td>\n",
              "      <td>-0.069431</td>\n",
              "    </tr>\n",
              "    <tr>\n",
              "      <th>1005</th>\n",
              "      <td>2020-02-27</td>\n",
              "      <td>730.000000</td>\n",
              "      <td>739.770020</td>\n",
              "      <td>669.000000</td>\n",
              "      <td>679.000000</td>\n",
              "      <td>679.000000</td>\n",
              "      <td>24277200</td>\n",
              "      <td>-0.069863</td>\n",
              "    </tr>\n",
              "    <tr>\n",
              "      <th>46</th>\n",
              "      <td>2016-05-05</td>\n",
              "      <td>228.460007</td>\n",
              "      <td>228.639999</td>\n",
              "      <td>209.789993</td>\n",
              "      <td>211.529999</td>\n",
              "      <td>211.529999</td>\n",
              "      <td>11254800</td>\n",
              "      <td>-0.074105</td>\n",
              "    </tr>\n",
              "    <tr>\n",
              "      <th>898</th>\n",
              "      <td>2019-09-24</td>\n",
              "      <td>241.520004</td>\n",
              "      <td>241.990005</td>\n",
              "      <td>222.610001</td>\n",
              "      <td>223.210007</td>\n",
              "      <td>223.210007</td>\n",
              "      <td>12891500</td>\n",
              "      <td>-0.075812</td>\n",
              "    </tr>\n",
              "    <tr>\n",
              "      <th>522</th>\n",
              "      <td>2018-03-27</td>\n",
              "      <td>304.000000</td>\n",
              "      <td>304.269989</td>\n",
              "      <td>277.179993</td>\n",
              "      <td>279.179993</td>\n",
              "      <td>279.179993</td>\n",
              "      <td>13872000</td>\n",
              "      <td>-0.081645</td>\n",
              "    </tr>\n",
              "    <tr>\n",
              "      <th>490</th>\n",
              "      <td>2018-02-08</td>\n",
              "      <td>343.309998</td>\n",
              "      <td>348.619995</td>\n",
              "      <td>314.600006</td>\n",
              "      <td>315.230011</td>\n",
              "      <td>315.230011</td>\n",
              "      <td>10314600</td>\n",
              "      <td>-0.081792</td>\n",
              "    </tr>\n",
              "    <tr>\n",
              "      <th>990</th>\n",
              "      <td>2020-02-05</td>\n",
              "      <td>823.260010</td>\n",
              "      <td>845.979980</td>\n",
              "      <td>704.109985</td>\n",
              "      <td>734.700012</td>\n",
              "      <td>734.700012</td>\n",
              "      <td>48423800</td>\n",
              "      <td>-0.107572</td>\n",
              "    </tr>\n",
              "  </tbody>\n",
              "</table>\n",
              "</div>"
            ],
            "text/plain": [
              "            Date        Open        High  ...   Adj Close    Volume       var\n",
              "826   2019-06-12  222.949997  223.380005  ...  209.259995  15186200 -0.061404\n",
              "590   2018-07-03  331.750000  332.489990  ...  310.859985  12282600 -0.062969\n",
              "727   2019-01-18  323.000000  327.130005  ...  302.260010  24150800 -0.064210\n",
              "589   2018-07-02  360.070007  364.779999  ...  335.070007  18759800 -0.069431\n",
              "1005  2020-02-27  730.000000  739.770020  ...  679.000000  24277200 -0.069863\n",
              "46    2016-05-05  228.460007  228.639999  ...  211.529999  11254800 -0.074105\n",
              "898   2019-09-24  241.520004  241.990005  ...  223.210007  12891500 -0.075812\n",
              "522   2018-03-27  304.000000  304.269989  ...  279.179993  13872000 -0.081645\n",
              "490   2018-02-08  343.309998  348.619995  ...  315.230011  10314600 -0.081792\n",
              "990   2020-02-05  823.260010  845.979980  ...  734.700012  48423800 -0.107572\n",
              "\n",
              "[10 rows x 8 columns]"
            ]
          },
          "metadata": {},
          "execution_count": 5
        }
      ]
    },
    {
      "cell_type": "code",
      "metadata": {
        "id": "RDJSMHt-PYe_"
      },
      "source": [
        ""
      ],
      "execution_count": null,
      "outputs": []
    },
    {
      "cell_type": "code",
      "metadata": {
        "id": "0A-UpWM_PYhx"
      },
      "source": [
        ""
      ],
      "execution_count": null,
      "outputs": []
    },
    {
      "cell_type": "code",
      "metadata": {
        "id": "seiF9FaKPYkv"
      },
      "source": [
        ""
      ],
      "execution_count": null,
      "outputs": []
    },
    {
      "cell_type": "code",
      "metadata": {
        "id": "yIPfiqINPYnX"
      },
      "source": [
        ""
      ],
      "execution_count": null,
      "outputs": []
    },
    {
      "cell_type": "code",
      "metadata": {
        "id": "fDwS7JnqPYrv"
      },
      "source": [
        ""
      ],
      "execution_count": null,
      "outputs": []
    },
    {
      "cell_type": "code",
      "metadata": {
        "id": "Q2jATJGeJt-k"
      },
      "source": [
        ""
      ],
      "execution_count": null,
      "outputs": []
    },
    {
      "cell_type": "code",
      "metadata": {
        "id": "kUHUEktUJuBM"
      },
      "source": [
        ""
      ],
      "execution_count": null,
      "outputs": []
    },
    {
      "cell_type": "code",
      "metadata": {
        "id": "_p8Xx23kJuEU"
      },
      "source": [
        ""
      ],
      "execution_count": null,
      "outputs": []
    }
  ]
}